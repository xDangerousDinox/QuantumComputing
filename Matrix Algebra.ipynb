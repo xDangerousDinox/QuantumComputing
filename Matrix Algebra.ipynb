{
 "cells": [
  {
   "cell_type": "code",
   "execution_count": null,
   "id": "24ac8df8",
   "metadata": {},
   "outputs": [],
   "source": [
    "import numpy as np\n",
    "X = [[0, 1],\n",
    "     [1, 0]]\n",
    "Y = [[0, -1j],\n",
    "     [1j, 0]]"
   ]
  },
  {
   "cell_type": "code",
   "execution_count": null,
   "id": "9fabcbd6",
   "metadata": {},
   "outputs": [],
   "source": [
    "np.matmul(X, np.matmul(Y, np.matmul(X, Y)))"
   ]
  }
 ],
 "metadata": {
  "kernelspec": {
   "display_name": "Python 3 (ipykernel)",
   "language": "python",
   "name": "python3"
  },
  "language_info": {
   "codemirror_mode": {
    "name": "ipython",
    "version": 3
   },
   "file_extension": ".py",
   "mimetype": "text/x-python",
   "name": "python",
   "nbconvert_exporter": "python",
   "pygments_lexer": "ipython3",
   "version": "3.8.10"
  }
 },
 "nbformat": 4,
 "nbformat_minor": 5
}
