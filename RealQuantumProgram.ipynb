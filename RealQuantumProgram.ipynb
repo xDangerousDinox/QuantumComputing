{
 "cells": [
  {
   "cell_type": "code",
   "execution_count": 1,
   "id": "7edfe0d8",
   "metadata": {},
   "outputs": [
    {
     "name": "stderr",
     "output_type": "stream",
     "text": [
      "configrc.store_credentials:WARNING:2022-06-27 19:57:57,631: Credentials already present. Set overwrite=True to overwrite.\n"
     ]
    }
   ],
   "source": [
    "from qiskit import *\n",
    "from qiskit import IBMQ\n",
    "IBMQ.save_account('e3eeab235ad9d5bb72bdce6eca6ab4464ce56f667bf50e391458059109a54046a7b79d0272de46c688b43a14e5eb425b3f2e8398e15ffc98993bccce99ef07b0')"
   ]
  },
  {
   "cell_type": "code",
   "execution_count": 2,
   "id": "d8b7fc63",
   "metadata": {},
   "outputs": [],
   "source": [
    "provider = IBMQ.load_account()"
   ]
  },
  {
   "cell_type": "code",
   "execution_count": 3,
   "id": "d8dff955",
   "metadata": {},
   "outputs": [],
   "source": [
    "my_provider = IBMQ.get_provider()\n",
    "backend = my_provider.get_backend('ibm_nairobi')"
   ]
  },
  {
   "cell_type": "code",
   "execution_count": 4,
   "id": "6bc2d2e3",
   "metadata": {},
   "outputs": [
    {
     "data": {
      "image/png": "[encoded data removed]",
      "text/plain": [
       "<Figure size 267.197x204.68 with 1 Axes>"
      ]
     },
     "execution_count": 4,
     "metadata": {},
     "output_type": "execute_result"
    }
   ],
   "source": [
    "# Create a Quantum Circuit acting on a quantum register of three qubits\n",
    "circ = QuantumCircuit(3)\n",
    "# Add a H gate on qubit 0, putting this qubit in superposition.\n",
    "circ.h(0)\n",
    "# Add a CX (CNOT) gate on control qubit 0 and target qubit 1, putting\n",
    "# the qubits in a Bell state.\n",
    "circ.cx(0, 1)\n",
    "# Add a CX (CNOT) gate on control qubit 0 and target qubit 2, putting\n",
    "# the qubits in a GHZ state.\n",
    "circ.cx(0, 2)\n",
    "circ.draw('mpl')"
   ]
  },
  {
   "cell_type": "code",
   "execution_count": 5,
   "id": "0b6e96ca",
   "metadata": {},
   "outputs": [
    {
     "data": {
      "text/html": [
       "<pre style=\"word-wrap: normal;white-space: pre;background: #fff0;line-height: 1.1;font-family: &quot;Courier New&quot;,Courier,monospace\">     ┌───┐           ░ ┌─┐      \n",
       "q_0: ┤ H ├──■────■───░─┤M├──────\n",
       "     └───┘┌─┴─┐  │   ░ └╥┘┌─┐   \n",
       "q_1: ─────┤ X ├──┼───░──╫─┤M├───\n",
       "          └───┘┌─┴─┐ ░  ║ └╥┘┌─┐\n",
       "q_2: ──────────┤ X ├─░──╫──╫─┤M├\n",
       "               └───┘ ░  ║  ║ └╥┘\n",
       "c: 3/═══════════════════╩══╩══╩═\n",
       "                        0  1  2 </pre>"
      ],
      "text/plain": [
       "     ┌───┐           ░ ┌─┐      \n",
       "q_0: ┤ H ├──■────■───░─┤M├──────\n",
       "     └───┘┌─┴─┐  │   ░ └╥┘┌─┐   \n",
       "q_1: ─────┤ X ├──┼───░──╫─┤M├───\n",
       "          └───┘┌─┴─┐ ░  ║ └╥┘┌─┐\n",
       "q_2: ──────────┤ X ├─░──╫──╫─┤M├\n",
       "               └───┘ ░  ║  ║ └╥┘\n",
       "c: 3/═══════════════════╩══╩══╩═\n",
       "                        0  1  2 "
      ]
     },
     "execution_count": 5,
     "metadata": {},
     "output_type": "execute_result"
    }
   ],
   "source": [
    "meas = QuantumCircuit(3, 3)\n",
    "meas.barrier(range(3))\n",
    "# map the quantum measurement to the classical bits\n",
    "meas.measure(range(3), range(3))\n",
    "\n",
    "# The Qiskit circuit object supports composition using\n",
    "# the addition operator.\n",
    "circ.add_register(meas.cregs[0])\n",
    "qc = circ.compose(meas)\n",
    "\n",
    "#drawing the circuit\n",
    "qc.draw()"
   ]
  },
  {
   "cell_type": "code",
   "execution_count": null,
   "id": "9831b8e6",
   "metadata": {},
   "outputs": [],
   "source": [
    "# Use Aer's qasm_simulator\n",
    "\n",
    "# Execute the circuit on the qasm simulator.\n",
    "# We've set the number of repeats of the circuit\n",
    "# to be 1024, which is the default.\n",
    "job_sim = backend.run(transpile(qc, backend), shots=10000)\n",
    "\n",
    "# Grab the results from the job.\n",
    "result_sim = job_sim.result()"
   ]
  },
  {
   "cell_type": "code",
   "execution_count": null,
   "id": "312e3b78",
   "metadata": {},
   "outputs": [],
   "source": [
    "counts = result_sim.get_counts(qc)\n",
    "print(counts)"
   ]
  },
  {
   "cell_type": "code",
   "execution_count": null,
   "id": "b10eed58",
   "metadata": {},
   "outputs": [],
   "source": [
    "from qiskit.visualization import plot_histogram\n",
    "plot_histogram(counts)"
   ]
  }
 ],
 "metadata": {
  "kernelspec": {
   "display_name": "Python 3 (ipykernel)",
   "language": "python",
   "name": "python3"
  },
  "language_info": {
   "codemirror_mode": {
    "name": "ipython",
    "version": 3
   },
   "file_extension": ".py",
   "mimetype": "text/x-python",
   "name": "python",
   "nbconvert_exporter": "python",
   "pygments_lexer": "ipython3",
   "version": "3.8.10"
  }
 },
 "nbformat": 4,
 "nbformat_minor": 5
}
