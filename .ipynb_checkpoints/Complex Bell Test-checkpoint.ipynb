{
 "cells": [
  {
   "cell_type": "code",
   "execution_count": 1,
   "id": "72416e57",
   "metadata": {},
   "outputs": [
    {
     "name": "stderr",
     "output_type": "stream",
     "text": [
      "C:\\Users\\ahoyt\\AppData\\Local\\Temp\\ipykernel_12796\\2311286557.py:12: DeprecationWarning: The qiskit.ignis package is deprecated and has been supersceded by the qiskit-experiments project. Refer to the migration guide: https://github.com/Qiskit/qiskit-ignis#migration-guide on how to migrate to the new project.\n",
      "  from qiskit.ignis.verification.tomography import state_tomography_circuits, StateTomographyFitter\n"
     ]
    }
   ],
   "source": [
    "from qiskit import *\n",
    "from qiskit import QuantumCircuit\n",
    "from qiskit import IBMQ\n",
    "from qiskit import transpile\n",
    "import numpy as np\n",
    "from qiskit.quantum_info import Statevector, DensityMatrix\n",
    "from qiskit.visualization import plot_state_city\n",
    "from qiskit.tools.monitor import job_monitor, backend_monitor, backend_overview\n",
    "from qiskit.providers.aer import AerSimulator\n",
    "from qiskit import Aer\n",
    "from qiskit.visualization import plot_histogram\n",
    "from qiskit.ignis.verification.tomography import state_tomography_circuits, StateTomographyFitter\n",
    "from qiskit.ignis.verification.tomography import process_tomography_circuits, ProcessTomographyFitter\n",
    "from qiskit.ignis.verification.tomography import gateset_tomography_circuits, GatesetTomographyFitter\n",
    "from qiskit.quantum_info import state_fidelity, partial_trace\n",
    "from qiskit.utils.mitigation import CompleteMeasFitter, complete_meas_cal\n",
    "import qiskit.ignis.mitigation.measurement as mc\n",
    "import qiskit.quantum_info as qi\n",
    "import copy"
   ]
  },
  {
   "cell_type": "code",
   "execution_count": 2,
   "id": "4c599928",
   "metadata": {},
   "outputs": [],
   "source": [
    "from qiskit import transpile\n",
    "from qiskit.circuit import ClassicalRegister, QuantumCircuit, QuantumRegister\n",
    "from qiskit.transpiler.passmanager import PassManager\n",
    "\n",
    "from qiskit.transpiler import InstructionDurations\n",
    "from qiskit.transpiler.passes.scheduling import ALAPScheduleAnalysis\n",
    "from qiskit.transpiler.passes.scheduling import PadDelay\n",
    "\n",
    "from qiskit.circuit.library import XGate\n",
    "from qiskit.circuit.library import YGate\n",
    "\n",
    "from qiskit.transpiler.passes import ASAPScheduleAnalysis, PadDynamicalDecoupling\n",
    "from qiskit.visualization import timeline_drawer\n",
    "\n",
    "from qiskit import pulse\n",
    "\n",
    "import matplotlib.pyplot as plt"
   ]
  },
  {
   "cell_type": "code",
   "execution_count": 3,
   "id": "542c2e9e",
   "metadata": {},
   "outputs": [],
   "source": [
    "Visualize_On = True # To Turn off Circuit Visualizations make this False\n",
    "Run_Real = True # Make True to run on IBM Quantum Computer\n",
    "retrieve_ibm_job = '6386e613ca534d73da8919be' # '6376aa413f146d0dd5eeab94' #\"63541472fe8bafbd7631ce40\" # Insert IBM job label\n",
    "run_readout_error_mit = True # Run readout error mitigation builder\n",
    "tomography_after_bsm = True # Run experiment to visualize Alice and Charlie's Qubit after BSM\n",
    "tomography_before_bsm = True # Run Experiment to visualize Alice and Charlie's Qubit before BSM"
   ]
  },
  {
   "cell_type": "markdown",
   "id": "ed9b3b34",
   "metadata": {},
   "source": [
    "# Create Backends"
   ]
  },
  {
   "cell_type": "code",
   "execution_count": 4,
   "id": "75fb2d7e",
   "metadata": {},
   "outputs": [
    {
     "name": "stdout",
     "output_type": "stream",
     "text": [
      "0.22.3\n"
     ]
    }
   ],
   "source": [
    "import qiskit\n",
    "print (qiskit.__version__)\n",
    "# Load IBM Account\n",
    "IBMQ.load_account()\n",
    "provider = IBMQ.get_provider('ibm-q')"
   ]
  },
  {
   "cell_type": "code",
   "execution_count": 5,
   "id": "21bad40d",
   "metadata": {},
   "outputs": [],
   "source": [
    "# Load Backends\n",
    "ibm_real = provider.get_backend('ibmq_manila')\n",
    "ibm_sim = AerSimulator.from_backend(ibm_real)\n",
    "aer_sim = Aer.get_backend('pulse_simulator')"
   ]
  },
  {
   "cell_type": "code",
   "execution_count": null,
   "id": "bcbcc997",
   "metadata": {},
   "outputs": [],
   "source": []
  },
  {
   "cell_type": "markdown",
   "id": "7fd59cb4",
   "metadata": {},
   "source": [
    "# Initialize Registers"
   ]
  },
  {
   "cell_type": "code",
   "execution_count": 6,
   "id": "f904aa63",
   "metadata": {},
   "outputs": [],
   "source": [
    "cregister = ClassicalRegister(5, 'c')\n",
    "qregister = QuantumRegister(5, 'q')"
   ]
  },
  {
   "cell_type": "markdown",
   "id": "40528c67",
   "metadata": {},
   "source": [
    "# Initialize Dual EPR State"
   ]
  },
  {
   "cell_type": "code",
   "execution_count": 7,
   "id": "e9470cc3",
   "metadata": {},
   "outputs": [
    {
     "data": {
      "text/plain": [
       "<qiskit.circuit.instructionset.InstructionSet at 0x1c3134895b0>"
      ]
     },
     "execution_count": 7,
     "metadata": {},
     "output_type": "execute_result"
    }
   ],
   "source": [
    "# Intialize Dual EPR State Between Alice and Bob and Bob and Charlie\n",
    "initial_epr = QuantumCircuit(qregister, cregister)\n",
    "\n",
    "initial_epr.h(1)\n",
    "initial_epr.cx(1, 2)\n",
    "initial_epr.h(3)\n",
    "initial_epr.cx(3, 4)\n",
    "# initial_epr.draw('mpl') "
   ]
  },
  {
   "cell_type": "markdown",
   "id": "48ea1752",
   "metadata": {},
   "source": [
    "# Bell State Measurement and Teleportation"
   ]
  },
  {
   "cell_type": "code",
   "execution_count": 8,
   "id": "83b5087a",
   "metadata": {},
   "outputs": [
    {
     "data": {
      "text/plain": [
       "<qiskit.circuit.instructionset.InstructionSet at 0x1c3134c59d0>"
      ]
     },
     "execution_count": 8,
     "metadata": {},
     "output_type": "execute_result"
    }
   ],
   "source": [
    "# Bob performs Bell State Measurement\n",
    "bell_state_measurement = QuantumCircuit(qregister, cregister)\n",
    "\n",
    "bell_state_measurement.cx(2, 3)\n",
    "bell_state_measurement.h(2)\n",
    "# bell_state_measurement.barrier((1, 2))\n",
    "# bell_state_measurement.measure((1 , 2), (1, 2))\n",
    "\n",
    "#bell_state_measurement.x(4).c_if(3, 1)\n",
    "#bell_state_measurement.z(4).c_if(2, 1) # Implement if c_if is possible\n",
    "\n",
    "# bell_state_measurement.cx(2, 3)\n",
    "# bell_state_measurement.cz(1, 3) # Implement if c_if is not possible\n",
    "bell_state_measurement.barrier(range(5))\n",
    "# bell_state_measurement.draw('mpl')"
   ]
  },
  {
   "cell_type": "markdown",
   "id": "cdb447ea",
   "metadata": {},
   "source": [
    "# Create CHSH3 Bell Test"
   ]
  },
  {
   "cell_type": "code",
   "execution_count": 9,
   "id": "cc52b692",
   "metadata": {},
   "outputs": [],
   "source": [
    "# Create CHSH3 Bell Test\n",
    "chsh3test = []"
   ]
  },
  {
   "cell_type": "code",
   "execution_count": 10,
   "id": "2fc428ce",
   "metadata": {},
   "outputs": [],
   "source": [
    "rotate_az_cDzx = QuantumCircuit(qregister, cregister)\n",
    "rotate_az_cDzx.ry(-np.pi/4, 4)\n",
    "chsh3test.append(rotate_az_cDzx)\n",
    "\n",
    "rotate_az_cEzx = QuantumCircuit(qregister, cregister)\n",
    "rotate_az_cEzx.ry(np.pi/4, 4)\n",
    "chsh3test.append(rotate_az_cEzx)\n",
    "\n",
    "rotate_ax_cDzx = QuantumCircuit(qregister, cregister)\n",
    "rotate_ax_cDzx.ry(-np.pi/2, 1)\n",
    "rotate_ax_cDzx.ry(-np.pi/4, 4)\n",
    "chsh3test.append(rotate_ax_cDzx)\n",
    "\n",
    "rotate_ax_cEzx = QuantumCircuit(qregister, cregister)\n",
    "rotate_ax_cEzx.ry(-np.pi/2, 1)\n",
    "rotate_ax_cEzx.ry(np.pi/4, 4)\n",
    "chsh3test.append(rotate_ax_cEzx)"
   ]
  },
  {
   "cell_type": "code",
   "execution_count": 11,
   "id": "598b7dde",
   "metadata": {},
   "outputs": [],
   "source": [
    "rotate_az_cDzy = QuantumCircuit(qregister, cregister)\n",
    "rotate_az_cDzy.rx(np.pi/4, 4)\n",
    "chsh3test.append(rotate_az_cDzy)\n",
    "\n",
    "rotate_az_cEzy = QuantumCircuit(qregister, cregister)\n",
    "rotate_az_cEzy.rx(-np.pi/4, 4)\n",
    "chsh3test.append(rotate_az_cEzy)\n",
    "\n",
    "rotate_ay_cDzy = QuantumCircuit(qregister, cregister)\n",
    "rotate_ay_cDzy.rx(np.pi/2, 1)\n",
    "rotate_ay_cDzy.rx(np.pi/4, 4)\n",
    "chsh3test.append(rotate_ay_cDzy)\n",
    "\n",
    "rotate_ay_cEzy = QuantumCircuit(qregister, cregister)\n",
    "rotate_ay_cEzy.rx(np.pi/2, 1)\n",
    "rotate_ay_cEzy.rx(-np.pi/4, 4)\n",
    "chsh3test.append(rotate_ay_cEzy)"
   ]
  },
  {
   "cell_type": "code",
   "execution_count": 12,
   "id": "1b49e0f6",
   "metadata": {},
   "outputs": [],
   "source": [
    "rotate_ax_cDxy = QuantumCircuit(qregister, cregister)\n",
    "rotate_ax_cDxy.ry(-np.pi/2, 1)\n",
    "rotate_ax_cDxy.rz(-np.pi/4, 4)\n",
    "rotate_ax_cDxy.ry(-np.pi/2, 4)\n",
    "chsh3test.append(rotate_ax_cDxy)\n",
    "\n",
    "rotate_ax_cExy = QuantumCircuit(qregister, cregister)\n",
    "rotate_ax_cExy.ry(-np.pi/2, 1)\n",
    "rotate_ax_cExy.rz(np.pi/4, 4)\n",
    "rotate_ax_cExy.ry(-np.pi/2, 4)\n",
    "chsh3test.append(rotate_ax_cExy)\n",
    "\n",
    "rotate_ay_cDxy = QuantumCircuit(qregister, cregister)\n",
    "rotate_ay_cDxy.rx(np.pi/2, 1)\n",
    "rotate_ay_cDxy.rz(-np.pi/4, 4)\n",
    "rotate_ay_cDxy.ry(-np.pi/2, 4)\n",
    "chsh3test.append(rotate_ay_cDxy)\n",
    "\n",
    "rotate_ay_cExy = QuantumCircuit(qregister, cregister)\n",
    "rotate_ay_cExy.rx(np.pi/2, 1)\n",
    "rotate_ay_cExy.rz(np.pi/4, 4)\n",
    "rotate_ay_cExy.ry(-np.pi/2, 4)\n",
    "chsh3test.append(rotate_ay_cExy)"
   ]
  },
  {
   "cell_type": "code",
   "execution_count": 13,
   "id": "932fb2af",
   "metadata": {},
   "outputs": [],
   "source": [
    "# chsh3test[0].draw('mpl')"
   ]
  },
  {
   "cell_type": "markdown",
   "id": "dff262bd",
   "metadata": {},
   "source": [
    "# Perform Measurement of Alice and Charlie"
   ]
  },
  {
   "cell_type": "code",
   "execution_count": 14,
   "id": "fd3727e8",
   "metadata": {},
   "outputs": [
    {
     "data": {
      "text/plain": [
       "<qiskit.circuit.instructionset.InstructionSet at 0x1c3134daeb0>"
      ]
     },
     "execution_count": 14,
     "metadata": {},
     "output_type": "execute_result"
    }
   ],
   "source": [
    "# Measure Alice and Charlie's Qubits\n",
    "measurement = QuantumCircuit(qregister, cregister)\n",
    "measurement.barrier(range(5))\n",
    "measurement.measure((0, 1, 2, 3, 4), (0, 1, 2, 3, 4))"
   ]
  },
  {
   "cell_type": "code",
   "execution_count": 15,
   "id": "4a24d157",
   "metadata": {},
   "outputs": [],
   "source": [
    "#measurement.draw('mpl')"
   ]
  },
  {
   "cell_type": "markdown",
   "id": "7914803c",
   "metadata": {},
   "source": [
    "# Combine Individual Complex Bell Test Circuits"
   ]
  },
  {
   "cell_type": "code",
   "execution_count": 16,
   "id": "c91433cd",
   "metadata": {},
   "outputs": [],
   "source": [
    "#build circuits\n",
    "chsh3testlen = len(chsh3test)\n",
    "circuit_experiments = []\n",
    "for rotation in chsh3test:\n",
    "    circuit = QuantumCircuit(qregister, cregister)\n",
    "    circuit.compose(initial_epr, inplace=True)\n",
    "    circuit.compose(bell_state_measurement, inplace=True)\n",
    "    circuit.compose(rotation, inplace=True)\n",
    "    circuit.compose(measurement, inplace=True)\n",
    "    circuit_experiments.append(circuit)\n",
    "    "
   ]
  },
  {
   "cell_type": "code",
   "execution_count": 17,
   "id": "520c611a",
   "metadata": {},
   "outputs": [
    {
     "data": {
      "image/png": "[encoded data removed]",
      "text/plain": [
       "<Figure size 808.997x385.28 with 1 Axes>"
      ]
     },
     "execution_count": 17,
     "metadata": {},
     "output_type": "execute_result"
    }
   ],
   "source": [
    "circuit_experiments[3].draw('mpl')"
   ]
  },
  {
   "cell_type": "markdown",
   "id": "8ad4512f",
   "metadata": {},
   "source": [
    "# Create Read Out Error Mitigation Circuits"
   ]
  },
  {
   "cell_type": "code",
   "execution_count": 18,
   "id": "c9b07d01",
   "metadata": {},
   "outputs": [],
   "source": [
    "readoutmitlength = 0\n",
    "qregistermit = QuantumRegister(5, 'c')\n",
    "if run_readout_error_mit:\n",
    "    meas_calibs, state_labels = complete_meas_cal(qr=qregistermit, circlabel='mcal')\n",
    "    readoutmitlength = len(meas_calibs)\n",
    "    \n",
    "    for circ in meas_calibs:\n",
    "        circuit_experiments.append(circ)\n"
   ]
  },
  {
   "cell_type": "code",
   "execution_count": 19,
   "id": "52a5fdf8",
   "metadata": {},
   "outputs": [
    {
     "data": {
      "image/png": "[encoded data removed]",
      "text/plain": [
       "<Figure size 506.267x385.28 with 1 Axes>"
      ]
     },
     "execution_count": 19,
     "metadata": {},
     "output_type": "execute_result"
    }
   ],
   "source": [
    "meas_calibs[4].draw('mpl')"
   ]
  },
  {
   "cell_type": "markdown",
   "id": "28316a6d",
   "metadata": {},
   "source": [
    "# Temporary Modified Circuits for Tomography"
   ]
  },
  {
   "cell_type": "code",
   "execution_count": 20,
   "id": "f827035b",
   "metadata": {},
   "outputs": [],
   "source": [
    "qregistertom = QuantumRegister(5, 'q')\n",
    "cregistertom = ClassicalRegister(2, 'c1')"
   ]
  },
  {
   "cell_type": "code",
   "execution_count": 21,
   "id": "78c0f561",
   "metadata": {},
   "outputs": [
    {
     "data": {
      "text/plain": [
       "<qiskit.circuit.instructionset.InstructionSet at 0x1c3134ea760>"
      ]
     },
     "execution_count": 21,
     "metadata": {},
     "output_type": "execute_result"
    }
   ],
   "source": [
    "initial_epr_tom = QuantumCircuit(qregistertom, cregistertom)\n",
    "\n",
    "initial_epr_tom.h(1)\n",
    "initial_epr_tom.cx(1, 2)\n",
    "initial_epr_tom.h(3)\n",
    "initial_epr_tom.cx(3, 4)"
   ]
  },
  {
   "cell_type": "code",
   "execution_count": 22,
   "id": "6262f3d0",
   "metadata": {},
   "outputs": [
    {
     "data": {
      "text/plain": [
       "<qiskit.circuit.instructionset.InstructionSet at 0x1c313b5dca0>"
      ]
     },
     "execution_count": 22,
     "metadata": {},
     "output_type": "execute_result"
    }
   ],
   "source": [
    "bell_state_measurement_tom = QuantumCircuit(qregistertom, cregistertom)\n",
    "\n",
    "bell_state_measurement_tom.cx(2, 3)\n",
    "bell_state_measurement_tom.h(2)\n",
    "bell_state_measurement_tom.barrier(range(5))"
   ]
  },
  {
   "cell_type": "markdown",
   "id": "12d9113b",
   "metadata": {},
   "source": [
    "# Create Quantum State Tomography Circuits"
   ]
  },
  {
   "cell_type": "code",
   "execution_count": 23,
   "id": "c4dcb53a",
   "metadata": {},
   "outputs": [],
   "source": [
    "# After Bell State Measurement\n",
    "readoutbsmaftertomlength = 0\n",
    "if tomography_after_bsm:\n",
    "    bsm_after = QuantumCircuit(qregistertom, cregistertom)\n",
    "    bsm_after.compose(initial_epr_tom, inplace=True)\n",
    "    bsm_after.compose(bell_state_measurement_tom, inplace=True)\n",
    "    tomography_circuits_after = state_tomography_circuits(bsm_after, [qregistertom[1], qregistertom[2]])\n",
    "    readoutbsmaftertomlength = len(tomography_circuits_after)\n",
    "    for circ in tomography_circuits_after:\n",
    "        circuit_experiments.append(circ)"
   ]
  },
  {
   "cell_type": "code",
   "execution_count": 24,
   "id": "502d886e",
   "metadata": {},
   "outputs": [
    {
     "data": {
      "image/png": "[encoded data removed]",
      "text/plain": [
       "<Figure size 688.597x385.28 with 1 Axes>"
      ]
     },
     "execution_count": 24,
     "metadata": {},
     "output_type": "execute_result"
    }
   ],
   "source": [
    "tomography_circuits_after[1].draw('mpl')"
   ]
  },
  {
   "cell_type": "code",
   "execution_count": 25,
   "id": "6e15e4d5",
   "metadata": {},
   "outputs": [],
   "source": [
    "# Before Bell State Measurement\n",
    "readoutbsmbeforetomlength = 0\n",
    "if tomography_before_bsm:\n",
    "    qregistertom = QuantumRegister(5, 'q')\n",
    "    cregistertom = ClassicalRegister(2, 'c2')\n",
    "    bsm_before = QuantumCircuit(qregistertom, cregistertom)\n",
    "    bsm_before.compose(initial_epr_tom, inplace=True)\n",
    "    tomography_circuits_before = state_tomography_circuits(bsm_before, [qregistertom[1], qregistertom[2]])\n",
    "    readoutbsmbeforetomlength = len(tomography_circuits_before)\n",
    "    for circ in tomography_circuits_before:\n",
    "        circuit_experiments.append(circ)"
   ]
  },
  {
   "cell_type": "code",
   "execution_count": 26,
   "id": "72755d86",
   "metadata": {},
   "outputs": [
    {
     "data": {
      "image/png": "[encoded data removed]",
      "text/plain": [
       "<Figure size 387.597x385.28 with 1 Axes>"
      ]
     },
     "execution_count": 26,
     "metadata": {},
     "output_type": "execute_result"
    }
   ],
   "source": [
    "tomography_circuits_before[2].draw('mpl')"
   ]
  },
  {
   "cell_type": "markdown",
   "id": "b71fbf02",
   "metadata": {},
   "source": [
    "# Transpile Circuits to Real Quantum Hardware"
   ]
  },
  {
   "cell_type": "code",
   "execution_count": 27,
   "id": "87f0e475",
   "metadata": {},
   "outputs": [
    {
     "name": "stdout",
     "output_type": "stream",
     "text": [
      "62\n"
     ]
    }
   ],
   "source": [
    "transpiled_circuit_exp = transpile(circuit_experiments, ibm_real)\n",
    "# transpiled_circuit_exp[0].draw('mpl')\n",
    "print(len(transpiled_circuit_exp))"
   ]
  },
  {
   "cell_type": "markdown",
   "id": "5190dab6",
   "metadata": {},
   "source": [
    "# Dynamical Decoupling"
   ]
  },
  {
   "cell_type": "code",
   "execution_count": 28,
   "id": "300450bc",
   "metadata": {},
   "outputs": [
    {
     "data": {
      "image/png": "[encoded data removed]",
      "text/plain": [
       "<Figure size 545.929x385.28 with 1 Axes>"
      ]
     },
     "execution_count": 28,
     "metadata": {},
     "output_type": "execute_result"
    }
   ],
   "source": [
    "# create instruction durations from the real backend\n",
    "ID = InstructionDurations()\n",
    "durations = ID.from_backend(ibm_real)\n",
    "# balanced X-Y sequence on all qubits\n",
    "dd_sequence = [XGate(), XGate(), XGate(), XGate()]\n",
    "pm = PassManager([ALAPScheduleAnalysis(durations),\n",
    "                  PadDynamicalDecoupling(durations, dd_sequence, skip_reset_qubits=True, qubits=[1, 4])])\n",
    "circ_dd = pm.run(transpile(circuit_experiments[1], ibm_real))\n",
    "timeline_drawer(circ_dd)\n",
    "\n",
    "# for i in range(len(chsh3test)):\n",
    "#     pm = PassManager([ALAPScheduleAnalysis(durations),\n",
    "#                   PadDynamicalDecoupling(durations, dd_sequence, skip_reset_qubits=True, qubits=[1, 4])])\n",
    "#     circ_dd = pm.run(transpile(circuit_experiments[i], ibm_real))\n",
    "#     transpiled_circuit_exp.append(transpile(circuit_experiments[i], ibm_real))\n",
    "\n",
    "transpiled_circuit_exp[-1].draw('mpl')"
   ]
  },
  {
   "cell_type": "code",
   "execution_count": 29,
   "id": "f1645622",
   "metadata": {},
   "outputs": [
    {
     "data": {
      "text/plain": [
       "<qiskit.circuit.instructionset.InstructionSet at 0x1c313d527f0>"
      ]
     },
     "execution_count": 29,
     "metadata": {},
     "output_type": "execute_result"
    }
   ],
   "source": [
    "# DD gates\n",
    "Y2 = QuantumCircuit(qregister, cregister)\n",
    "Y2.y(2)\n",
    "Y0 = QuantumCircuit(qregister, cregister)\n",
    "Y0.y(0)\n",
    "X2 = QuantumCircuit(qregister, cregister)\n",
    "X2.x(2)\n",
    "X0 = QuantumCircuit(qregister, cregister)\n",
    "X0.x(0)\n",
    "X4 = QuantumCircuit(qregister, cregister)\n",
    "X4.x(4)\n",
    "Y1 = QuantumCircuit(qregister, cregister)\n",
    "Y1.y(1)\n",
    "X1 = QuantumCircuit(qregister, cregister)\n",
    "X1.x(1)"
   ]
  },
  {
   "cell_type": "code",
   "execution_count": 30,
   "id": "fadd0205",
   "metadata": {},
   "outputs": [],
   "source": [
    "from qiskit.circuit import Gate"
   ]
  },
  {
   "cell_type": "code",
   "execution_count": 31,
   "id": "c91197b7",
   "metadata": {
    "scrolled": false
   },
   "outputs": [
    {
     "data": {
      "text/html": [
       "<pre style=\"word-wrap: normal;white-space: pre;background: #fff0;line-height: 1.1;font-family: &quot;Courier New&quot;,Courier,monospace\">         ┌─────────────────┐ ░ ┌─┐            \n",
       "q_0 -> 0 ┤0                ├─░─┤M├────────────\n",
       "         │                 │ ░ └╥┘┌─┐         \n",
       "q_1 -> 1 ┤1                ├─░──╫─┤M├─────────\n",
       "         │                 │ ░  ║ └╥┘┌─┐      \n",
       "q_2 -> 2 ┤2 my_custom_gate ├─░──╫──╫─┤M├──────\n",
       "         │                 │ ░  ║  ║ └╥┘┌─┐   \n",
       "q_3 -> 3 ┤3                ├─░──╫──╫──╫─┤M├───\n",
       "         │                 │ ░  ║  ║  ║ └╥┘┌─┐\n",
       "q_4 -> 4 ┤4                ├─░──╫──╫──╫──╫─┤M├\n",
       "         └─────────────────┘ ░  ║  ║  ║  ║ └╥┘\n",
       "    c: 5/═══════════════════════╩══╩══╩══╩══╩═\n",
       "                                0  1  2  3  4 </pre>"
      ],
      "text/plain": [
       "         ┌─────────────────┐ ░ ┌─┐            \n",
       "q_0 -> 0 ┤0                ├─░─┤M├────────────\n",
       "         │                 │ ░ └╥┘┌─┐         \n",
       "q_1 -> 1 ┤1                ├─░──╫─┤M├─────────\n",
       "         │                 │ ░  ║ └╥┘┌─┐      \n",
       "q_2 -> 2 ┤2 my_custom_gate ├─░──╫──╫─┤M├──────\n",
       "         │                 │ ░  ║  ║ └╥┘┌─┐   \n",
       "q_3 -> 3 ┤3                ├─░──╫──╫──╫─┤M├───\n",
       "         │                 │ ░  ║  ║  ║ └╥┘┌─┐\n",
       "q_4 -> 4 ┤4                ├─░──╫──╫──╫──╫─┤M├\n",
       "         └─────────────────┘ ░  ║  ║  ║  ║ └╥┘\n",
       "    c: 5/═══════════════════════╩══╩══╩══╩══╩═\n",
       "                                0  1  2  3  4 "
      ]
     },
     "execution_count": 31,
     "metadata": {},
     "output_type": "execute_result"
    }
   ],
   "source": [
    "custom_gates = []\n",
    "for i in range(len(chsh3test)):\n",
    "    dd_circuit = QuantumCircuit(qregister, cregister)\n",
    "    custom_gate = Gate('my_custom_gate', 5, [])\n",
    "    dd_circuit.append(custom_gate, qregister[:])\n",
    "    with pulse.build(backend=ibm_real, name='pulse_program') as pulse_program:\n",
    "        d0 = pulse.drive_channel(0)\n",
    "        d1 = pulse.drive_channel(1)\n",
    "        d2 = pulse.drive_channel(2)\n",
    "        d3 = pulse.drive_channel(3)\n",
    "        d4 = pulse.drive_channel(4)\n",
    "        with pulse.align_sequential():\n",
    "            with pulse.align_left():\n",
    "                initial_epr = QuantumCircuit(qregister, cregister)\n",
    "                initial_epr.h(1)\n",
    "                initial_epr.cx(1, 2)\n",
    "                initial_epr.h(3)\n",
    "                initial_epr.cx(3, 4)\n",
    "                pulse.call(initial_epr)\n",
    "            \n",
    "                # Control Spectator qubit 0 XY4\n",
    "                pulse.delay(480, d0)\n",
    "                pulse.call(X0)\n",
    "                pulse.call(Y0)\n",
    "                pulse.call(X0)\n",
    "                pulse.call(Y0)\n",
    "                pulse.delay(250, d0)\n",
    "                pulse.call(Y0)\n",
    "                pulse.call(X0)\n",
    "                pulse.call(Y0)\n",
    "                \n",
    "                pulse.delay(550, d0)\n",
    "                pulse.call(X0)\n",
    "                pulse.call(Y0)\n",
    "                pulse.call(X0)\n",
    "                pulse.call(Y0)\n",
    "                pulse.delay(250, d0)\n",
    "                pulse.call(Y0)\n",
    "                pulse.call(X0)\n",
    "                pulse.call(Y0)\n",
    "                \n",
    "                pulse.delay(140, d1)\n",
    "                pulse.call(X1)\n",
    "                pulse.call(Y1)\n",
    "                pulse.call(X1)\n",
    "                pulse.call(Y1)\n",
    "                pulse.delay(250, d1)\n",
    "                pulse.call(Y1)\n",
    "                pulse.call(X1)\n",
    "                pulse.call(Y1)\n",
    "                \n",
    "                # Target Spectator qubit 4 XX delay XX\n",
    "                pulse.x(4)\n",
    "                pulse.call(X4)\n",
    "                pulse.delay(400, d4)\n",
    "                pulse.x(4)\n",
    "                pulse.call(X4)\n",
    "                \n",
    "                pulse.call(bell_state_measurement)\n",
    "            with pulse.align_right():\n",
    "                pulse.call(chsh3test[i])\n",
    "            \n",
    "\n",
    "    dd_circuit.add_calibration('my_custom_gate', [0, 1, 2, 3, 4], pulse_program, [])\n",
    "    dd_circuit.compose(measurement, inplace=True)\n",
    "    transpiled_circuit_exp.append(transpile(dd_circuit, ibm_real))\n",
    "            \n",
    "transpiled_circuit_exp[-1].draw()"
   ]
  },
  {
   "cell_type": "code",
   "execution_count": 32,
   "id": "a9a57e5a",
   "metadata": {},
   "outputs": [],
   "source": [
    "# error405"
   ]
  },
  {
   "cell_type": "markdown",
   "id": "4a7cae41",
   "metadata": {},
   "source": [
    "# Convert to Scheduled Circuits"
   ]
  },
  {
   "cell_type": "code",
   "execution_count": 33,
   "id": "f158344d",
   "metadata": {},
   "outputs": [],
   "source": [
    "scheduled_circuit_exp = []\n",
    "for i in range(len(transpiled_circuit_exp)):\n",
    "    with pulse.build(backend=ibm_real, name='pulse_program') as pulse_program:\n",
    "        with pulse.align_sequential():\n",
    "            pulse.call(transpiled_circuit_exp[i])\n",
    "            \n",
    "    scheduled_circuit_exp.append(pulse_program)"
   ]
  },
  {
   "cell_type": "code",
   "execution_count": 34,
   "id": "aa95f669",
   "metadata": {},
   "outputs": [],
   "source": [
    "# scheduled_circuit_exp[0].draw(backend=ibm_real)"
   ]
  },
  {
   "cell_type": "code",
   "execution_count": 35,
   "id": "abf579a3",
   "metadata": {},
   "outputs": [
    {
     "name": "stdout",
     "output_type": "stream",
     "text": [
      "Complex Bell Test 12\n",
      "Read Out Test Circuits 32\n",
      "Tomography Measurements Before 9\n",
      "Tomography Measurements After 9\n",
      "Complex Bell w/ DD Test 12\n",
      "Total Circuits in Experiment is | 74 | ~ The max is 100\n"
     ]
    }
   ],
   "source": [
    "print(f'Complex Bell Test {chsh3testlen}')\n",
    "print(f'Read Out Test Circuits {readoutmitlength}')\n",
    "print(f'Tomography Measurements Before {readoutbsmaftertomlength}')\n",
    "print(f'Tomography Measurements After {readoutbsmaftertomlength}')\n",
    "print(f'Complex Bell w/ DD Test {chsh3testlen}')\n",
    "print(\"Total Circuits in Experiment is | {0} | ~ The max is 100\".format(len(transpiled_circuit_exp)))"
   ]
  },
  {
   "cell_type": "code",
   "execution_count": 36,
   "id": "93458c3c",
   "metadata": {
    "scrolled": false
   },
   "outputs": [],
   "source": [
    "# scheduled_circuit_exp[-3].draw(backend=ibm_real)"
   ]
  },
  {
   "cell_type": "markdown",
   "id": "24ec4920",
   "metadata": {},
   "source": [
    "# Run Quantum Circuits"
   ]
  },
  {
   "cell_type": "code",
   "execution_count": 37,
   "id": "3e3d149c",
   "metadata": {},
   "outputs": [
    {
     "name": "stderr",
     "output_type": "stream",
     "text": [
      "Simulation failed and returned the following error message:\n",
      "PARTIAL COMPLETED\n"
     ]
    },
    {
     "ename": "AttributeError",
     "evalue": "Attribute meas_map is not defined",
     "output_type": "error",
     "traceback": [
      "\u001b[1;31m---------------------------------------------------------------------------\u001b[0m",
      "\u001b[1;31mKeyError\u001b[0m                                  Traceback (most recent call last)",
      "File \u001b[1;32m~\\anaconda3\\envs\\csq\\lib\\site-packages\\qiskit\\providers\\models\\backendconfiguration.py:384\u001b[0m, in \u001b[0;36mQasmBackendConfiguration.__getattr__\u001b[1;34m(self, name)\u001b[0m\n\u001b[0;32m    383\u001b[0m \u001b[38;5;28;01mtry\u001b[39;00m:\n\u001b[1;32m--> 384\u001b[0m     \u001b[38;5;28;01mreturn\u001b[39;00m \u001b[38;5;28;43mself\u001b[39;49m\u001b[38;5;241;43m.\u001b[39;49m\u001b[43m_data\u001b[49m\u001b[43m[\u001b[49m\u001b[43mname\u001b[49m\u001b[43m]\u001b[49m\n\u001b[0;32m    385\u001b[0m \u001b[38;5;28;01mexcept\u001b[39;00m \u001b[38;5;167;01mKeyError\u001b[39;00m \u001b[38;5;28;01mas\u001b[39;00m ex:\n",
      "\u001b[1;31mKeyError\u001b[0m: 'meas_map'",
      "\nThe above exception was the direct cause of the following exception:\n",
      "\u001b[1;31mAttributeError\u001b[0m                            Traceback (most recent call last)",
      "Input \u001b[1;32mIn [37]\u001b[0m, in \u001b[0;36m<cell line: 3>\u001b[1;34m()\u001b[0m\n\u001b[0;32m      1\u001b[0m \u001b[38;5;66;03m# Run transpiled circuits on IBM, Simulated IBM, and Perfect IBM Quantum Hardware\u001b[39;00m\n\u001b[0;32m      2\u001b[0m ibm_sim_job \u001b[38;5;241m=\u001b[39m ibm_sim\u001b[38;5;241m.\u001b[39mrun(transpiled_circuit_exp, shots\u001b[38;5;241m=\u001b[39m\u001b[38;5;241m20000\u001b[39m)\n\u001b[1;32m----> 3\u001b[0m aer_sim_job \u001b[38;5;241m=\u001b[39m \u001b[43maer_sim\u001b[49m\u001b[38;5;241;43m.\u001b[39;49m\u001b[43mrun\u001b[49m\u001b[43m(\u001b[49m\u001b[43mtranspiled_circuit_exp\u001b[49m\u001b[43m,\u001b[49m\u001b[43m \u001b[49m\u001b[43mshots\u001b[49m\u001b[38;5;241;43m=\u001b[39;49m\u001b[38;5;241;43m20000\u001b[39;49m\u001b[43m)\u001b[49m\n\u001b[0;32m      5\u001b[0m \u001b[38;5;28;01mfrom\u001b[39;00m \u001b[38;5;21;01mqiskit\u001b[39;00m\u001b[38;5;21;01m.\u001b[39;00m\u001b[38;5;21;01mproviders\u001b[39;00m\u001b[38;5;21;01m.\u001b[39;00m\u001b[38;5;21;01mibmq\u001b[39;00m\u001b[38;5;21;01m.\u001b[39;00m\u001b[38;5;21;01mmanaged\u001b[39;00m \u001b[38;5;28;01mimport\u001b[39;00m IBMQJobManager\n\u001b[0;32m      7\u001b[0m \u001b[38;5;28;01mif\u001b[39;00m Run_Real \u001b[38;5;129;01mand\u001b[39;00m retrieve_ibm_job \u001b[38;5;129;01mis\u001b[39;00m \u001b[38;5;28;01mNone\u001b[39;00m: \n\u001b[0;32m      8\u001b[0m \u001b[38;5;66;03m#     job_manager = IBMQJobManager()\u001b[39;00m\n\u001b[0;32m      9\u001b[0m \u001b[38;5;66;03m#     job_set_foo = job_manager.run(scheduled_circuit_exp, backend=ibm_real, shots=20000, name='Test Pulse')\u001b[39;00m\n",
      "File \u001b[1;32m~\\anaconda3\\envs\\csq\\lib\\site-packages\\qiskit\\utils\\deprecation.py:28\u001b[0m, in \u001b[0;36mdeprecate_arguments.<locals>.decorator.<locals>.wrapper\u001b[1;34m(*args, **kwargs)\u001b[0m\n\u001b[0;32m     26\u001b[0m \u001b[38;5;28;01mif\u001b[39;00m kwargs:\n\u001b[0;32m     27\u001b[0m     _rename_kwargs(func\u001b[38;5;241m.\u001b[39m\u001b[38;5;18m__name__\u001b[39m, kwargs, kwarg_map, category)\n\u001b[1;32m---> 28\u001b[0m \u001b[38;5;28;01mreturn\u001b[39;00m \u001b[43mfunc\u001b[49m\u001b[43m(\u001b[49m\u001b[38;5;241;43m*\u001b[39;49m\u001b[43margs\u001b[49m\u001b[43m,\u001b[49m\u001b[43m \u001b[49m\u001b[38;5;241;43m*\u001b[39;49m\u001b[38;5;241;43m*\u001b[39;49m\u001b[43mkwargs\u001b[49m\u001b[43m)\u001b[49m\n",
      "File \u001b[1;32m~\\anaconda3\\envs\\csq\\lib\\site-packages\\qiskit_aer\\backends\\pulse_simulator.py:236\u001b[0m, in \u001b[0;36mPulseSimulator.run\u001b[1;34m(self, schedules, validate, **run_options)\u001b[0m\n\u001b[0;32m    234\u001b[0m \u001b[38;5;28;01mfor\u001b[39;00m i \u001b[38;5;129;01min\u001b[39;00m schedules:\n\u001b[0;32m    235\u001b[0m     \u001b[38;5;28;01mif\u001b[39;00m \u001b[38;5;28misinstance\u001b[39m(i, QuantumCircuit):\n\u001b[1;32m--> 236\u001b[0m         new_schedules\u001b[38;5;241m.\u001b[39mappend(\u001b[43mschedule\u001b[49m\u001b[43m(\u001b[49m\u001b[43mi\u001b[49m\u001b[43m,\u001b[49m\u001b[43m \u001b[49m\u001b[38;5;28;43mself\u001b[39;49m\u001b[43m)\u001b[49m)\n\u001b[0;32m    237\u001b[0m     \u001b[38;5;28;01melse\u001b[39;00m:\n\u001b[0;32m    238\u001b[0m         new_schedules\u001b[38;5;241m.\u001b[39mappend(i)\n",
      "File \u001b[1;32m~\\anaconda3\\envs\\csq\\lib\\site-packages\\qiskit\\compiler\\scheduler.py:94\u001b[0m, in \u001b[0;36mschedule\u001b[1;34m(circuits, backend, inst_map, meas_map, dt, method)\u001b[0m\n\u001b[0;32m     90\u001b[0m     \u001b[38;5;28;01mif\u001b[39;00m backend \u001b[38;5;129;01mis\u001b[39;00m \u001b[38;5;28;01mNone\u001b[39;00m:\n\u001b[0;32m     91\u001b[0m         \u001b[38;5;28;01mraise\u001b[39;00m QiskitError(\n\u001b[0;32m     92\u001b[0m             \u001b[38;5;124m\"\u001b[39m\u001b[38;5;124mMust supply either a backend or a meas_map for scheduling passes.\u001b[39m\u001b[38;5;124m\"\u001b[39m\n\u001b[0;32m     93\u001b[0m         )\n\u001b[1;32m---> 94\u001b[0m     meas_map \u001b[38;5;241m=\u001b[39m \u001b[43mbackend\u001b[49m\u001b[38;5;241;43m.\u001b[39;49m\u001b[43mconfiguration\u001b[49m\u001b[43m(\u001b[49m\u001b[43m)\u001b[49m\u001b[38;5;241;43m.\u001b[39;49m\u001b[43mmeas_map\u001b[49m\n\u001b[0;32m     95\u001b[0m \u001b[38;5;28;01mif\u001b[39;00m dt \u001b[38;5;129;01mis\u001b[39;00m \u001b[38;5;28;01mNone\u001b[39;00m:\n\u001b[0;32m     96\u001b[0m     \u001b[38;5;28;01mif\u001b[39;00m backend \u001b[38;5;129;01mis\u001b[39;00m \u001b[38;5;129;01mnot\u001b[39;00m \u001b[38;5;28;01mNone\u001b[39;00m:\n",
      "File \u001b[1;32m~\\anaconda3\\envs\\csq\\lib\\site-packages\\qiskit\\providers\\models\\backendconfiguration.py:386\u001b[0m, in \u001b[0;36mQasmBackendConfiguration.__getattr__\u001b[1;34m(self, name)\u001b[0m\n\u001b[0;32m    384\u001b[0m     \u001b[38;5;28;01mreturn\u001b[39;00m \u001b[38;5;28mself\u001b[39m\u001b[38;5;241m.\u001b[39m_data[name]\n\u001b[0;32m    385\u001b[0m \u001b[38;5;28;01mexcept\u001b[39;00m \u001b[38;5;167;01mKeyError\u001b[39;00m \u001b[38;5;28;01mas\u001b[39;00m ex:\n\u001b[1;32m--> 386\u001b[0m     \u001b[38;5;28;01mraise\u001b[39;00m \u001b[38;5;167;01mAttributeError\u001b[39;00m(\u001b[38;5;124mf\u001b[39m\u001b[38;5;124m\"\u001b[39m\u001b[38;5;124mAttribute \u001b[39m\u001b[38;5;132;01m{\u001b[39;00mname\u001b[38;5;132;01m}\u001b[39;00m\u001b[38;5;124m is not defined\u001b[39m\u001b[38;5;124m\"\u001b[39m) \u001b[38;5;28;01mfrom\u001b[39;00m \u001b[38;5;21;01mex\u001b[39;00m\n",
      "\u001b[1;31mAttributeError\u001b[0m: Attribute meas_map is not defined"
     ]
    }
   ],
   "source": [
    "# Run transpiled circuits on IBM, Simulated IBM, and Perfect IBM Quantum Hardware\n",
    "ibm_sim_job = ibm_sim.run(transpiled_circuit_exp, shots=20000)\n",
    "aer_sim_job = aer_sim.run(transpiled_circuit_exp, shots=20000)\n",
    "\n",
    "from qiskit.providers.ibmq.managed import IBMQJobManager\n",
    "\n",
    "if Run_Real and retrieve_ibm_job is None: \n",
    "#     job_manager = IBMQJobManager()\n",
    "#     job_set_foo = job_manager.run(scheduled_circuit_exp, backend=ibm_real, shots=20000, name='Test Pulse')\n",
    "    ibm_real_job = ibm_real.run(transpiled_circuit_exp, shots=20000)\n",
    "    job_monitor(ibm_real_job)\n",
    "\n",
    "if retrieve_ibm_job is not None:\n",
    "    ibm_real_job = ibm_real.retrieve_job(retrieve_ibm_job)"
   ]
  },
  {
   "cell_type": "code",
   "execution_count": null,
   "id": "c82eb3a3",
   "metadata": {},
   "outputs": [],
   "source": [
    "# Grab the results from the job.\n",
    "aer_sim_result = aer_sim_job.result()\n",
    "ibm_sim_result = ibm_sim_job.result()\n",
    "if Run_Real:\n",
    "    ibm_real_result = ibm_real_job.result()"
   ]
  },
  {
   "cell_type": "markdown",
   "id": "70a311df",
   "metadata": {},
   "source": [
    "# Perfect Results For Tomography"
   ]
  },
  {
   "cell_type": "code",
   "execution_count": null,
   "id": "e390b23e",
   "metadata": {},
   "outputs": [],
   "source": [
    "# State Before Circuit\n",
    "before = QuantumCircuit(4,4)\n",
    "before"
   ]
  },
  {
   "cell_type": "markdown",
   "id": "9c281c24",
   "metadata": {},
   "source": [
    "# Individual Results"
   ]
  },
  {
   "cell_type": "code",
   "execution_count": null,
   "id": "51e5ba20",
   "metadata": {},
   "outputs": [],
   "source": [
    "ibm_sim_chsh3 = copy.deepcopy(ibm_sim_result)\n",
    "ibm_sim_chsh3.results = ibm_sim_chsh3.results[0: chsh3testlen]\n",
    "aer_sim_chsh3 = copy.deepcopy(aer_sim_result)\n",
    "aer_sim_chsh3.results = aer_sim_chsh3.results[0: chsh3testlen]\n",
    "\n",
    "ibm_sim_meascalib = copy.deepcopy(ibm_sim_result)\n",
    "ibm_sim_meascalib.results = ibm_sim_meascalib.results[chsh3testlen: chsh3testlen + readoutmitlength]\n",
    "aer_sim_meascalib = copy.deepcopy(aer_sim_result)\n",
    "aer_sim_meascalib.results = aer_sim_meascalib.results[chsh3testlen: chsh3testlen + readoutmitlength]\n",
    "\n",
    "ibm_sim_bsmafter = copy.deepcopy(ibm_sim_result)\n",
    "ibm_sim_bsmafter.results = ibm_sim_bsmafter.results[chsh3testlen + readoutmitlength: chsh3testlen + readoutmitlength + readoutbsmaftertomlength]\n",
    "aer_sim_bsmafter = copy.deepcopy(aer_sim_result)\n",
    "aer_sim_bsmafter.results = aer_sim_bsmafter.results[chsh3testlen + readoutmitlength: chsh3testlen + readoutmitlength + readoutbsmaftertomlength]\n",
    "\n",
    "ibm_sim_bsmbefore = copy.deepcopy(ibm_sim_result)\n",
    "ibm_sim_bsmbefore.results = ibm_sim_bsmbefore.results[chsh3testlen + readoutmitlength + readoutbsmaftertomlength:\n",
    "                                                      chsh3testlen + readoutmitlength + 2*readoutbsmaftertomlength]\n",
    "aer_sim_bsmbefore = copy.deepcopy(aer_sim_result)\n",
    "aer_sim_bsmbefore.results = aer_sim_bsmbefore.results[chsh3testlen + readoutmitlength +  readoutbsmaftertomlength:\n",
    "                                                      chsh3testlen + readoutmitlength + 2*readoutbsmaftertomlength]\n",
    "\n",
    "ibm_sim_chsh3dd = copy.deepcopy(ibm_sim_result)\n",
    "ibm_sim_chsh3dd.results = ibm_sim_chsh3dd.results[chsh3testlen + readoutmitlength + 2*readoutbsmaftertomlength:\n",
    "                                                chsh3testlen + readoutmitlength + 2*readoutbsmaftertomlength + chsh3testlen]\n",
    "aer_sim_chsh3dd = copy.deepcopy(aer_sim_result)\n",
    "aer_sim_chsh3dd.results = aer_sim_chsh3dd.results[chsh3testlen + readoutmitlength + 2*readoutbsmaftertomlength:\n",
    "                                                chsh3testlen + readoutmitlength + 2*readoutbsmaftertomlength + chsh3testlen]\n",
    "\n",
    "if Run_Real:\n",
    "    ibm_real_chsh3 = copy.deepcopy(ibm_real_result)\n",
    "    ibm_real_chsh3.results = ibm_real_chsh3.results[0: chsh3testlen]\n",
    "\n",
    "    ibm_real_meascalib = copy.deepcopy(ibm_real_result)\n",
    "    ibm_real_meascalib.results = ibm_real_meascalib.results[chsh3testlen: chsh3testlen + readoutmitlength]\n",
    "    \n",
    "    ibm_real_bsmafter = copy.deepcopy(ibm_real_result)\n",
    "    ibm_real_bsmafter.results = ibm_real_bsmafter.results[chsh3testlen + readoutmitlength: chsh3testlen + readoutmitlength + readoutbsmaftertomlength]\n",
    "    \n",
    "    ibm_real_bsmbefore = copy.deepcopy(ibm_real_result)\n",
    "    ibm_real_bsmbefore.results = ibm_real_bsmbefore.results[chsh3testlen + readoutmitlength: chsh3testlen + readoutmitlength + readoutbsmaftertomlength]\n",
    "    \n",
    "    ibm_real_chsh3dd = copy.deepcopy(ibm_real_result)\n",
    "    ibm_real_chsh3dd.results = ibm_real_chsh3dd.results[chsh3testlen + readoutmitlength + 2*readoutbsmaftertomlength:\n",
    "                                                      chsh3testlen + readoutmitlength + 2*readoutbsmaftertomlength + chsh3testlen]"
   ]
  },
  {
   "cell_type": "code",
   "execution_count": null,
   "id": "e0e9f942",
   "metadata": {},
   "outputs": [],
   "source": [
    "aer_sim_chsh3dd"
   ]
  },
  {
   "cell_type": "markdown",
   "id": "fa2094f1",
   "metadata": {},
   "source": [
    "# Create Read Out Error Fitter"
   ]
  },
  {
   "cell_type": "code",
   "execution_count": null,
   "id": "ba855d81",
   "metadata": {},
   "outputs": [],
   "source": [
    "# Create Meas Fitter\n",
    "ibm_sim_meas_fitter = CompleteMeasFitter(ibm_sim_meascalib, state_labels, circlabel='mcal')\n",
    "aer_sim_meas_fitter = CompleteMeasFitter(aer_sim_meascalib, state_labels, circlabel='mcal')\n",
    "\n",
    "if Run_Real: \n",
    "    ibm_real_meas_fitter = CompleteMeasFitter(ibm_real_meascalib, state_labels, circlabel='mcal')"
   ]
  },
  {
   "cell_type": "code",
   "execution_count": null,
   "id": "1d61e5c1",
   "metadata": {},
   "outputs": [],
   "source": [
    "# array_to_latex(ibm_sim_meas_fitter.cal_matrix)"
   ]
  },
  {
   "cell_type": "code",
   "execution_count": null,
   "id": "c7d2aaab",
   "metadata": {},
   "outputs": [],
   "source": [
    "ibm_sim_meas_filter = ibm_sim_meas_fitter.filter\n",
    "aer_sim_meas_filter = aer_sim_meas_fitter.filter\n",
    "\n",
    "# Results with mitigation\n",
    "ibm_sim_chsh3_mitigated = ibm_sim_meas_filter.apply(ibm_sim_chsh3)\n",
    "aer_sim_chsh3_mitigated = aer_sim_meas_filter.apply(aer_sim_chsh3)\n",
    "\n",
    "ibm_sim_chsh3dd_mitigated = ibm_sim_meas_filter.apply(ibm_sim_chsh3dd)\n",
    "aer_sim_chsh3dd_mitigated = aer_sim_meas_filter.apply(aer_sim_chsh3dd)\n",
    "\n",
    "if Run_Real:\n",
    "    ibm_real_meas_filter = ibm_real_meas_fitter.filter\n",
    "    ibm_real_chsh3_mitigated = ibm_real_meas_filter.apply(ibm_real_chsh3)\n",
    "    ibm_real_chsh3dd_mitigated = ibm_real_meas_filter.apply(ibm_real_chsh3dd)"
   ]
  },
  {
   "cell_type": "markdown",
   "id": "b4e8af4c",
   "metadata": {},
   "source": [
    "# Quantum Tomography Fit"
   ]
  },
  {
   "cell_type": "code",
   "execution_count": null,
   "id": "bc9fac1f",
   "metadata": {},
   "outputs": [],
   "source": [
    "ibm_sim_bsm_after = StateTomographyFitter(ibm_sim_bsmafter, tomography_circuits_after)\n",
    "aer_sim_bsm_after = StateTomographyFitter(aer_sim_bsmafter, tomography_circuits_after)\n",
    "\n",
    "ibm_sim_bsm_before = StateTomographyFitter(ibm_sim_bsmbefore, tomography_circuits_before)\n",
    "aer_sim_bsm_before = StateTomographyFitter(aer_sim_bsmbefore, tomography_circuits_before)\n",
    "\n",
    "if Run_Real:\n",
    "    ibm_real_bsm_after = StateTomographyFitter(ibm_real_bsmafter, tomography_circuits_after)\n",
    "    ibm_real_bsm_before = StateTomographyFitter(ibm_real_bsmbefore, tomography_circuits_before)"
   ]
  },
  {
   "cell_type": "markdown",
   "id": "b9e369e8",
   "metadata": {},
   "source": [
    "# CHSH Calculations"
   ]
  },
  {
   "cell_type": "code",
   "execution_count": null,
   "id": "50c6b39d",
   "metadata": {},
   "outputs": [],
   "source": [
    "def calc_chsh1(theta_dict):\n",
    "    zz = theta_dict[0]\n",
    "    zx = theta_dict[1]\n",
    "    xz = theta_dict[3]\n",
    "    xx = theta_dict[2]\n",
    "    \n",
    "    no_shots = sum(xx[y] for y in xx)\n",
    "\n",
    "    chsh = 0\n",
    "    totalOO = 0\n",
    "\n",
    "    for element in zz:\n",
    "        if (int(element[1]) == 0 and int(element[2]) == 0):\n",
    "            totalOO += zz[element]\n",
    "            parity = (-1)**(int(element[0])+int(element[3]))\n",
    "            chsh += parity*zz[element]\n",
    "        \n",
    "    for element in zx:\n",
    "        if (int(element[1]) == 0 and int(element[2]) == 0):\n",
    "            totalOO += zx[element]\n",
    "            parity = (-1)**(int(element[0])+int(element[3]))\n",
    "            chsh += parity*zx[element]\n",
    "\n",
    "    for element in xz:\n",
    "        if (int(element[1]) == 0 and int(element[2]) == 0):\n",
    "            totalOO += xz[element]\n",
    "            parity = (-1)**(int(element[0])+int(element[3]))\n",
    "            chsh -= parity*xz[element]\n",
    "\n",
    "    for element in xx:\n",
    "        if (int(element[1]) == 0 and int(element[2]) == 0):\n",
    "            totalOO += xx[element]\n",
    "            parity = (-1)**(int(element[0])+int(element[3]))\n",
    "            chsh += parity*xx[element]\n",
    "    \n",
    "    return 4*chsh / totalOO"
   ]
  },
  {
   "cell_type": "code",
   "execution_count": null,
   "id": "09eedd5e",
   "metadata": {},
   "outputs": [],
   "source": [
    "def calc_chsh23(theta_dict):\n",
    "    zz = theta_dict[0]\n",
    "    zx = theta_dict[1]\n",
    "    xz = theta_dict[2]\n",
    "    xx = theta_dict[3]\n",
    "    \n",
    "    no_shots = sum(xx[y] for y in xx)\n",
    "\n",
    "    chsh = 0\n",
    "    totalOO = 0\n",
    "\n",
    "    for element in zz:\n",
    "        if (int(element[1]) == 0 and int(element[2]) == 0):\n",
    "            totalOO += zz[element]\n",
    "            parity = (-1)**(int(element[0])+int(element[3]))\n",
    "            chsh += parity*zz[element]\n",
    "\n",
    "    for element in zx:\n",
    "        if (int(element[1]) == 0 and int(element[2]) == 0):\n",
    "            totalOO += zx[element]\n",
    "            parity = (-1)**(int(element[0])+int(element[3]))\n",
    "            chsh += parity*zx[element]\n",
    "\n",
    "    for element in xz:\n",
    "        if (int(element[1]) == 0 and int(element[2]) == 0):\n",
    "            totalOO += xz[element]\n",
    "            parity = (-1)**(int(element[0])+int(element[3]))\n",
    "            chsh -= parity*xz[element]\n",
    "\n",
    "    for element in xx:\n",
    "        if (int(element[1]) == 0 and int(element[2]) == 0):\n",
    "            totalOO += xx[element]\n",
    "            parity = (-1)**(int(element[0])+int(element[3]))\n",
    "            chsh += parity*xx[element]\n",
    "    \n",
    "    return 4*chsh / totalOO"
   ]
  },
  {
   "cell_type": "code",
   "execution_count": null,
   "id": "fab131e2",
   "metadata": {},
   "outputs": [],
   "source": [
    "def calc_chsh23std(theta_dict):\n",
    "    zz = theta_dict[0]\n",
    "    zx = theta_dict[1]\n",
    "    xz = theta_dict[2]\n",
    "    xx = theta_dict[3]\n",
    "    \n",
    "    no_shots = sum(xx[y] for y in xx)\n",
    "\n",
    "    chsh = 0\n",
    "    totalOO = 0\n",
    "    zznumneg = 0\n",
    "    zznumpos = 0\n",
    "    zztot = 0\n",
    "    zxnumneg = 0\n",
    "    zxnumpos = 0\n",
    "    zxtot = 0\n",
    "    xznumneg = 0\n",
    "    xznumpos = 0\n",
    "    xztot = 0\n",
    "    xxnumneg = 0\n",
    "    xxnumpos = 0\n",
    "    xxtot = 0\n",
    "\n",
    "    for element in zz:\n",
    "        if (int(element[1]) == 0 and int(element[2]) == 0):\n",
    "            totalOO += zz[element]\n",
    "            parity = (-1)**(int(element[0])+int(element[3]))\n",
    "            chsh += parity*zz[element]\n",
    "            zznumneg += zz[element] if parity == -1 else 0\n",
    "            zznumpos += zz[element] if parity == 1 else 0\n",
    "            zztot += zz[element]\n",
    "\n",
    "    for element in zx:\n",
    "        if (int(element[1]) == 0 and int(element[2]) == 0):\n",
    "            totalOO += zx[element]\n",
    "            parity = (-1)**(int(element[0])+int(element[3]))\n",
    "            chsh += parity*zx[element]\n",
    "            zxnumneg += zx[element] if parity == -1 else 0\n",
    "            zxnumpos += zx[element] if parity == 1 else 0\n",
    "            zxtot += zx[element]\n",
    "\n",
    "    for element in xz:\n",
    "        if (int(element[1]) == 0 and int(element[2]) == 0):\n",
    "            totalOO += xz[element]\n",
    "            parity = (-1)**(int(element[0])+int(element[3]))\n",
    "            chsh -= parity*xz[element]\n",
    "            xznumneg += xz[element] if parity == -1 else 0\n",
    "            xznumpos += xz[element] if parity == 1 else 0\n",
    "            xztot += xz[element]\n",
    "\n",
    "    for element in xx:\n",
    "        if (int(element[1]) == 0 and int(element[2]) == 0):\n",
    "            totalOO += xx[element]\n",
    "            parity = (-1)**(int(element[0])+int(element[3]))\n",
    "            chsh += parity*xx[element]\n",
    "            xxnumneg += xx[element] if parity == -1 else 0\n",
    "            xxnumpos += xx[element] if parity == 1 else 0\n",
    "            xxtot += xx[element]\n",
    "            \n",
    "    zzdata = np.concatenate((np.ones(int(zznumpos)), -np.ones(int(zznumneg))))\n",
    "    zzdatastd = np.std(zzdata) / np.sqrt(len(zzdata))\n",
    "    zxdata = np.concatenate((np.ones(int(zxnumpos)), -np.ones(int(zxnumneg))))\n",
    "    zxdatastd = np.std(zxdata) / np.sqrt(len(zzdata))\n",
    "    xzdata = -np.concatenate((np.ones(int(xznumpos)), -np.ones(int(xznumneg))))\n",
    "    xzdatastd = np.std(xzdata) / np.sqrt(len(zzdata))\n",
    "    xxdata = np.concatenate((np.ones(int(xxnumpos)), -np.ones(int(xxnumneg))))\n",
    "    xxdatastd = np.std(xzdata) / np.sqrt(len(zzdata))\n",
    "    \n",
    "    \n",
    "    chshdata = np.concatenate((zzdata, zxdata, xzdata, xxdata))\n",
    "    \n",
    "    return np.sqrt(zzdatastd**2 + zxdatastd**2 + xzdatastd**2 + xxdatastd**2)"
   ]
  },
  {
   "cell_type": "code",
   "execution_count": null,
   "id": "9e6c2f52",
   "metadata": {},
   "outputs": [],
   "source": [
    "def calc_chsh1std(theta_dict):\n",
    "    zz = theta_dict[0]\n",
    "    zx = theta_dict[1]\n",
    "    xz = theta_dict[3]\n",
    "    xx = theta_dict[2]\n",
    "    \n",
    "    no_shots = sum(xx[y] for y in xx)\n",
    "\n",
    "    chsh = 0\n",
    "    totalOO = 0\n",
    "    zznumneg = 0\n",
    "    zznumpos = 0\n",
    "    zztot = 0\n",
    "    zxnumneg = 0\n",
    "    zxnumpos = 0\n",
    "    zxtot = 0\n",
    "    xznumneg = 0\n",
    "    xznumpos = 0\n",
    "    xztot = 0\n",
    "    xxnumneg = 0\n",
    "    xxnumpos = 0\n",
    "    xxtot = 0\n",
    "\n",
    "    for element in zz:\n",
    "        if (int(element[1]) == 0 and int(element[2]) == 0):\n",
    "            totalOO += zz[element]\n",
    "            parity = (-1)**(int(element[0])+int(element[3]))\n",
    "            chsh += parity*zz[element]\n",
    "            zznumneg += zz[element] if parity == -1 else 0\n",
    "            zznumpos += zz[element] if parity == 1 else 0\n",
    "            zztot += zz[element]\n",
    "\n",
    "    for element in zx:\n",
    "        if (int(element[1]) == 0 and int(element[2]) == 0):\n",
    "            totalOO += zx[element]\n",
    "            parity = (-1)**(int(element[0])+int(element[3]))\n",
    "            chsh += parity*zx[element]\n",
    "            zxnumneg += zx[element] if parity == -1 else 0\n",
    "            zxnumpos += zx[element] if parity == 1 else 0\n",
    "            zxtot += zx[element]\n",
    "\n",
    "    for element in xz:\n",
    "        if (int(element[1]) == 0 and int(element[2]) == 0):\n",
    "            totalOO += xz[element]\n",
    "            parity = (-1)**(int(element[0])+int(element[3]))\n",
    "            chsh -= parity*xz[element]\n",
    "            xznumneg += xz[element] if parity == -1 else 0\n",
    "            xznumpos += xz[element] if parity == 1 else 0\n",
    "            xztot += xz[element]\n",
    "\n",
    "    for element in xx:\n",
    "        if (int(element[1]) == 0 and int(element[2]) == 0):\n",
    "            totalOO += xx[element]\n",
    "            parity = (-1)**(int(element[0])+int(element[3]))\n",
    "            chsh += parity*xx[element]\n",
    "            xxnumneg += xx[element] if parity == -1 else 0\n",
    "            xxnumpos += xx[element] if parity == 1 else 0\n",
    "            xxtot += xx[element]\n",
    "            \n",
    "    zzdata = np.concatenate((np.ones(int(zznumpos)), -np.ones(int(zznumneg))))\n",
    "    zzdatastd = np.std(zzdata) / np.sqrt(len(zzdata))\n",
    "    zxdata = np.concatenate((np.ones(int(zxnumpos)), -np.ones(int(zxnumneg))))\n",
    "    zxdatastd = np.std(zxdata) / np.sqrt(len(zzdata))\n",
    "    xzdata = -np.concatenate((np.ones(int(xznumpos)), -np.ones(int(xznumneg))))\n",
    "    xzdatastd = np.std(xzdata) / np.sqrt(len(zzdata))\n",
    "    xxdata = np.concatenate((np.ones(int(xxnumpos)), -np.ones(int(xxnumneg))))\n",
    "    xxdatastd = np.std(xzdata) / np.sqrt(len(zzdata))\n",
    "    \n",
    "    \n",
    "    chshdata = np.concatenate((zzdata, zxdata, xzdata, xxdata))\n",
    "    \n",
    "    return np.sqrt(zzdatastd**2 + zxdatastd**2 + xzdatastd**2 + xxdatastd**2)"
   ]
  },
  {
   "cell_type": "code",
   "execution_count": null,
   "id": "ba447041",
   "metadata": {},
   "outputs": [],
   "source": [
    "def get_chsh3(circuit_counts):\n",
    "    chsh23 = calc_chsh23(circuit_counts[8:12]) + calc_chsh23(circuit_counts[4:8])\n",
    "    chsh1 = calc_chsh1(circuit_counts[0:4])\n",
    "    return chsh23 + chsh1"
   ]
  },
  {
   "cell_type": "code",
   "execution_count": null,
   "id": "5f8dc609",
   "metadata": {},
   "outputs": [],
   "source": [
    "def geterror(circuit_counts):\n",
    "    chsh1 = calc_chsh23std(circuit_counts[8:12])\n",
    "    chsh2 = calc_chsh23std(circuit_counts[4:8])\n",
    "    chsh3 = calc_chsh1std(circuit_counts[0:4])\n",
    "    totalstd = np.sqrt(chsh1**2 + chsh2**2 + chsh3**2)\n",
    "    return totalstd"
   ]
  },
  {
   "cell_type": "code",
   "execution_count": null,
   "id": "d4629a37",
   "metadata": {},
   "outputs": [],
   "source": [
    "print(geterror(ibm_sim_chsh3_mitigated.get_counts()))\n",
    "20000*12 / 4\n",
    "1/np.sqrt(60000)"
   ]
  },
  {
   "cell_type": "markdown",
   "id": "3bf2d21f",
   "metadata": {},
   "source": [
    "# Probability of EPR Pairs"
   ]
  },
  {
   "cell_type": "code",
   "execution_count": null,
   "id": "a90ecf8d",
   "metadata": {},
   "outputs": [],
   "source": [
    "def prob_epr_pairs(circuit_counts):\n",
    "    no_shots = sum(circuit_counts[outcome] for outcome in circuit_counts)\n",
    "    \n",
    "    zz = 0\n",
    "    zo = 0\n",
    "    oz = 0\n",
    "    oo = 0\n",
    "    \n",
    "    for element in circuit_counts:\n",
    "        if int(element[0]) == 0 and int(element[3]) == 0:\n",
    "            zz += circuit_counts[element]\n",
    "            \n",
    "        if int(element[0]) == 0 and int(element[3]) == 1:\n",
    "            zo += circuit_counts[element]\n",
    "            \n",
    "        if int(element[0]) == 1 and int(element[3]) == 0:\n",
    "            oz += circuit_counts[element]\n",
    "            \n",
    "        if int(element[0]) == 1 and int(element[3]) == 1:\n",
    "            oo += circuit_counts[element]\n",
    "            \n",
    "    return np.array([zz, zo, oz, oo]) / no_shots"
   ]
  },
  {
   "cell_type": "markdown",
   "id": "c3f4e6c7",
   "metadata": {},
   "source": [
    "# Tomography Calculations"
   ]
  },
  {
   "cell_type": "code",
   "execution_count": null,
   "id": "540ca5fa",
   "metadata": {},
   "outputs": [],
   "source": [
    "ibm_sim_bsm_after = ibm_sim_bsm_after.fit(method='lstsq')\n",
    "ibm_sim_bsm_before = ibm_sim_bsm_before.fit(method='lstsq')\n",
    "\n",
    "aer_sim_bsm_after = aer_sim_bsm_after.fit(method='lstsq')\n",
    "aer_sim_bsm_before = aer_sim_bsm_before.fit(method='lstsq')\n",
    "\n",
    "if Run_Real:\n",
    "    ibm_real_bsm_after = ibm_real_bsm_after.fit(method='lstsq')\n",
    "    ibm_real_bsm_before = ibm_real_bsm_before.fit(method='lstsq')"
   ]
  },
  {
   "cell_type": "code",
   "execution_count": null,
   "id": "9fd013c1",
   "metadata": {},
   "outputs": [],
   "source": [
    "print(len(ibm_sim_chsh3dd_mitigated.get_counts()))"
   ]
  },
  {
   "cell_type": "markdown",
   "id": "2162b49f",
   "metadata": {},
   "source": [
    "# Complex Bell Test Results"
   ]
  },
  {
   "cell_type": "code",
   "execution_count": null,
   "id": "8a5af370",
   "metadata": {},
   "outputs": [],
   "source": [
    "# print(\"Complex Bell Test\")\n",
    "# print(\"Manila Sim Results: {0:.4f}\".format(get_chsh3(ibm_sim_chsh3.get_counts())))\n",
    "# print(\"Manila Sim Mitigated Results: {0:.4f}\".format(get_chsh3(ibm_sim_chsh3_mitigated.get_counts())))\n",
    "# print(\"Manila Sim DD Mitigated Results: {0:.4f}\".format(get_chsh3(ibm_sim_chsh3dd_mitigated.get_counts())))\n",
    "\n",
    "# if Run_Real:\n",
    "#     print(\"Manila Real Results: {0:.4f}\".format(get_chsh3(ibm_real_chsh3.get_counts())))\n",
    "#     print(\"Manila Real Mitigated Results: {0:.4f}\".format(get_chsh3(ibm_real_chsh3_mitigated.get_counts())))\n",
    "#     print(\"Manila Real DD Mitigated Results: {0:.4f}\".format(get_chsh3(ibm_real_chsh3dd_mitigated.get_counts())))\n",
    "    \n",
    "# print(\"Aer Sim Results: {0:.7f}\".format(get_chsh3(aer_sim_chsh3.get_counts())))\n",
    "# print(\"Aer Sim Mitigated Results: {0:.7f}\".format(get_chsh3(aer_sim_chsh3_mitigated.get_counts())))\n",
    "# print(f\"Quantum Theoretical: {6*np.sqrt(2)}\")"
   ]
  },
  {
   "cell_type": "code",
   "execution_count": null,
   "id": "7129ae38",
   "metadata": {},
   "outputs": [],
   "source": [
    "BSR = get_chsh3(ibm_sim_chsh3.get_counts()) # IBM sim results\n",
    "BSMR = get_chsh3(ibm_sim_chsh3_mitigated.get_counts()) # IBM sim Mitigated Results \n",
    "BSMDR = get_chsh3(ibm_sim_chsh3dd_mitigated.get_counts()) # IBM sim mitigated Dynamic Decoupling results\n",
    "BSDR = get_chsh3(ibm_sim_chsh3dd.get_counts())\n",
    "\n",
    "BRR = get_chsh3(ibm_real_chsh3.get_counts())\n",
    "BRMR = get_chsh3(ibm_real_chsh3_mitigated.get_counts())\n",
    "BRMDR = get_chsh3(ibm_real_chsh3dd_mitigated.get_counts())\n",
    "BRDR = get_chsh3(ibm_real_chsh3dd.get_counts())\n",
    "\n",
    "ASR = get_chsh3(aer_sim_chsh3.get_counts())\n",
    "ASMR = get_chsh3(aer_sim_chsh3_mitigated.get_counts())\n",
    "ASMDR = get_chsh3(aer_sim_chsh3dd_mitigated.get_counts())\n",
    "ASDR = get_chsh3(aer_sim_chsh3dd.get_counts())\n",
    "\n",
    "QT = 6*np.sqrt(2)\n",
    "\n",
    "columns = ['Raw', 'Readout', 'Readout + DD', 'RawDD']\n",
    "rows = ['AerSim', 'IBMSim', 'Real Score', 'IBMExperiment', 'Complex Max Score']"
   ]
  },
  {
   "cell_type": "code",
   "execution_count": null,
   "id": "90197f03",
   "metadata": {},
   "outputs": [],
   "source": [
    "X = ['Raw','Mitigated','Mitigated w/ DD', 'RawDD']\n",
    "AerSim = [ASR, ASMR, ASMDR, ASDR]\n",
    "AerSimerr = [geterror(aer_sim_chsh3.get_counts()), geterror(aer_sim_chsh3_mitigated.get_counts()), geterror(aer_sim_chsh3dd_mitigated.get_counts()),\n",
    "            geterror(aer_sim_chsh3dd.get_counts())]\n",
    "IBMSim = [BSR, BSMR, BSMDR, BSDR]\n",
    "IBMSimerr = [geterror(ibm_sim_chsh3.get_counts()), geterror(ibm_sim_chsh3_mitigated.get_counts()), geterror(ibm_sim_chsh3dd_mitigated.get_counts()),\n",
    "            geterror(ibm_sim_chsh3dd.get_counts())]\n",
    "IBMReal = [BRR, BRMR, BRMDR, BRDR]\n",
    "IBMRealerr = [geterror(ibm_real_chsh3.get_counts()), geterror(ibm_real_chsh3_mitigated.get_counts()), geterror(ibm_real_chsh3dd_mitigated.get_counts()),\n",
    "            geterror(ibm_real_chsh3dd.get_counts())]\n",
    "QT = [QT, QT, QT, QT]\n",
    "RQT = [7.66, 7.66, 7.66, 7.66]\n",
    "\n",
    "X_axis = np.arange(len(X))*1.3\n",
    "\n",
    "colors = plt.cm.BuPu(np.linspace(0.1, 0.6, len(rows)))\n",
    "print(colors.shape)\n",
    "  \n",
    "plt.bar(X_axis - 0.4, AerSim, 0.2, label = 'AerSim', color=colors[0], yerr=AerSimerr)\n",
    "plt.bar(X_axis - 0.2, IBMSim, 0.2, label = 'IBMSim', color=colors[1], yerr=np.array(IBMSim) /1000)\n",
    "plt.bar(X_axis, RQT, 0.2, label = 'Real Max Score', color=colors[2])\n",
    "plt.bar(X_axis + 0.2, IBMReal, 0.2, label = 'IBMExperiment', color=colors[3], yerr=IBMRealerr)\n",
    "plt.bar(X_axis + 0.4, QT, 0.2, label = 'Complex Max Score', color=colors[4])\n",
    "  \n",
    "    \n",
    "float_formatter = \"{:.3f}\".format\n",
    "\n",
    "cell_text = []\n",
    "cell_text.append(AerSim)\n",
    "cell_text.append(IBMSim)\n",
    "cell_text.append(RQT)\n",
    "cell_text.append(IBMReal)\n",
    "cell_text.append(QT)\n",
    "\n",
    "cell_texterr = []\n",
    "cell_texterr.append(AerSimerr)\n",
    "cell_texterr.append(IBMSimerr)\n",
    "cell_texterr.append(np.zeros(4))\n",
    "cell_texterr.append(IBMRealerr)\n",
    "cell_texterr.append(np.zeros(4))\n",
    "\n",
    "for i in range(len(cell_text)):\n",
    "    for j in range(len(cell_text[0])):\n",
    "        cell_text[i][j] = f'{cell_text[i][j]:.3f} +- {cell_texterr[i][j]:.3f}'\n",
    "\n",
    "    \n",
    "the_table = plt.table(cellText=cell_text,\n",
    "                      rowLabels=rows,\n",
    "                      rowColours=colors,\n",
    "                      colLabels=columns,\n",
    "                      cellLoc='center',\n",
    "                      loc='bottom')\n",
    "\n",
    "plt.xticks([])\n",
    "plt.ylabel(\"Score\")\n",
    "plt.ylim((6, 8.6))\n",
    "plt.title(\"Scores\")\n",
    "plt.show()"
   ]
  },
  {
   "cell_type": "code",
   "execution_count": null,
   "id": "f9898a09",
   "metadata": {},
   "outputs": [],
   "source": [
    "X_axis - 0.4"
   ]
  },
  {
   "cell_type": "code",
   "execution_count": null,
   "id": "848ccb3e",
   "metadata": {},
   "outputs": [],
   "source": [
    "plot_histogram(aer_sim_chsh3.get_counts()[0])"
   ]
  },
  {
   "cell_type": "code",
   "execution_count": null,
   "id": "48a43439",
   "metadata": {},
   "outputs": [],
   "source": [
    "plot_histogram(ibm_sim_chsh3_mitigated.get_counts()[-1])"
   ]
  },
  {
   "cell_type": "code",
   "execution_count": null,
   "id": "2a3baca3",
   "metadata": {},
   "outputs": [],
   "source": [
    "# if Run_Real: \n",
    "plot_histogram(ibm_real_chsh3.get_counts()[-1])"
   ]
  },
  {
   "cell_type": "code",
   "execution_count": null,
   "id": "694875c8",
   "metadata": {},
   "outputs": [],
   "source": [
    "# if Run_Real: \n",
    "plot_histogram(ibm_real_chsh3_mitigated.get_counts()[-1])"
   ]
  },
  {
   "cell_type": "code",
   "execution_count": null,
   "id": "ed26ca91",
   "metadata": {},
   "outputs": [],
   "source": [
    "plot_histogram(aer_sim_chsh3.get_counts()[-1])"
   ]
  },
  {
   "cell_type": "code",
   "execution_count": null,
   "id": "a141aa99",
   "metadata": {},
   "outputs": [],
   "source": [
    "plot_histogram(aer_sim_chsh3_mitigated.get_counts()[-1])"
   ]
  },
  {
   "cell_type": "markdown",
   "id": "e708d554",
   "metadata": {},
   "source": [
    "# Tomography Results"
   ]
  },
  {
   "cell_type": "code",
   "execution_count": null,
   "id": "5cd778d0",
   "metadata": {},
   "outputs": [],
   "source": [
    "print('State fidelity IBM Sim BSM After: F = {:.5f}'.format(qi.state_fidelity(\n",
    "    ibm_sim_bsm_after, partial_trace(DensityMatrix(bsm_after),[0,4,3]))))"
   ]
  },
  {
   "cell_type": "code",
   "execution_count": null,
   "id": "d977762f",
   "metadata": {},
   "outputs": [],
   "source": [
    "plot_state_city(ibm_sim_bsm_before)"
   ]
  },
  {
   "cell_type": "code",
   "execution_count": null,
   "id": "27b01223",
   "metadata": {},
   "outputs": [],
   "source": [
    "print('State fidelity IBM Sim BSM Before: F = {:.5f}'.format(qi.state_fidelity(\n",
    "    ibm_sim_bsm_before, partial_trace(DensityMatrix(bsm_before),[0,3,4]))))"
   ]
  },
  {
   "cell_type": "code",
   "execution_count": null,
   "id": "5eaf41d1",
   "metadata": {},
   "outputs": [],
   "source": [
    "plot_state_city(ibm_real_bsm_before)"
   ]
  },
  {
   "cell_type": "code",
   "execution_count": null,
   "id": "be063ed3",
   "metadata": {},
   "outputs": [],
   "source": [
    "print('State fidelity IBM Real BSM After: F = {:.5f}'.format(qi.state_fidelity(\n",
    "    ibm_real_bsm_after, partial_trace(DensityMatrix(bsm_after),[0,3,4]))))"
   ]
  },
  {
   "cell_type": "code",
   "execution_count": null,
   "id": "cbc1c674",
   "metadata": {},
   "outputs": [],
   "source": [
    "plot_state_city(partial_trace(DensityMatrix(bsm_before),[0,3,4]))"
   ]
  },
  {
   "cell_type": "code",
   "execution_count": null,
   "id": "6b49c675",
   "metadata": {},
   "outputs": [],
   "source": [
    "print('State fidelity IBM Real BSM Before: F = {:.5f}'.format(qi.state_fidelity(\n",
    "    ibm_real_bsm_before, partial_trace(DensityMatrix(bsm_before),[0,3,4]))))"
   ]
  },
  {
   "cell_type": "code",
   "execution_count": null,
   "id": "f8bb51e7",
   "metadata": {},
   "outputs": [],
   "source": [
    "plot_state_city(ibm_real_bsm_before)"
   ]
  },
  {
   "cell_type": "code",
   "execution_count": null,
   "id": "f04c5577",
   "metadata": {},
   "outputs": [],
   "source": [
    "plot_state_city(partial_trace(DensityMatrix(bsm_before),[0,4,3]))"
   ]
  },
  {
   "cell_type": "code",
   "execution_count": null,
   "id": "f97e4a31",
   "metadata": {},
   "outputs": [],
   "source": [
    "plot_state_city(ibm_real_bsm_after)"
   ]
  },
  {
   "cell_type": "code",
   "execution_count": null,
   "id": "e09ce35b",
   "metadata": {},
   "outputs": [],
   "source": [
    "print('State fidelity Aer Sim BSM After: F = {:.5f}'.format(qi.state_fidelity(\n",
    "    aer_sim_bsm_after, partial_trace(DensityMatrix(bsm_after),[1,3]))))"
   ]
  },
  {
   "cell_type": "code",
   "execution_count": null,
   "id": "8e1575e1",
   "metadata": {},
   "outputs": [],
   "source": [
    "plot_state_city(aer_sim_bsm_after)"
   ]
  },
  {
   "cell_type": "code",
   "execution_count": null,
   "id": "4a88eb25",
   "metadata": {},
   "outputs": [],
   "source": [
    "print('State fidelity Aer Sim BSM After: F = {:.5f}'.format(qi.state_fidelity(\n",
    "    aer_sim_bsm_before, partial_trace(DensityMatrix(bsm_before),[1,3]))))"
   ]
  },
  {
   "cell_type": "code",
   "execution_count": null,
   "id": "ea5bbcd2",
   "metadata": {},
   "outputs": [],
   "source": [
    "plot_state_city(aer_sim_bsm_before)"
   ]
  }
 ],
 "metadata": {
  "kernelspec": {
   "display_name": "Python 3 (ipykernel)",
   "language": "python",
   "name": "python3"
  },
  "language_info": {
   "codemirror_mode": {
    "name": "ipython",
    "version": 3
   },
   "file_extension": ".py",
   "mimetype": "text/x-python",
   "name": "python",
   "nbconvert_exporter": "python",
   "pygments_lexer": "ipython3",
   "version": "3.8.10"
  }
 },
 "nbformat": 4,
 "nbformat_minor": 5
}
