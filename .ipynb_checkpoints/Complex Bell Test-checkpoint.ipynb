{
 "cells": [
  {
   "cell_type": "code",
   "execution_count": 1,
   "id": "72416e57",
   "metadata": {},
   "outputs": [
    {
     "name": "stderr",
     "output_type": "stream",
     "text": [
      "C:\\Users\\ahoyt\\AppData\\Local\\Temp\\ipykernel_14528\\2311286557.py:12: DeprecationWarning: The qiskit.ignis package is deprecated and has been supersceded by the qiskit-experiments project. Refer to the migration guide: https://github.com/Qiskit/qiskit-ignis#migration-guide on how to migrate to the new project.\n",
      "  from qiskit.ignis.verification.tomography import state_tomography_circuits, StateTomographyFitter\n"
     ]
    }
   ],
   "source": [
    "from qiskit import *\n",
    "from qiskit import QuantumCircuit\n",
    "from qiskit import IBMQ\n",
    "from qiskit import transpile\n",
    "import numpy as np\n",
    "from qiskit.quantum_info import Statevector, DensityMatrix\n",
    "from qiskit.visualization import plot_state_city\n",
    "from qiskit.tools.monitor import job_monitor, backend_monitor, backend_overview\n",
    "from qiskit.providers.aer import AerSimulator\n",
    "from qiskit import Aer\n",
    "from qiskit.visualization import plot_histogram\n",
    "from qiskit.ignis.verification.tomography import state_tomography_circuits, StateTomographyFitter\n",
    "from qiskit.ignis.verification.tomography import process_tomography_circuits, ProcessTomographyFitter\n",
    "from qiskit.ignis.verification.tomography import gateset_tomography_circuits, GatesetTomographyFitter\n",
    "from qiskit.quantum_info import state_fidelity, partial_trace\n",
    "from qiskit.utils.mitigation import CompleteMeasFitter, complete_meas_cal\n",
    "import qiskit.ignis.mitigation.measurement as mc\n",
    "import qiskit.quantum_info as qi\n",
    "import copy"
   ]
  },
  {
   "cell_type": "code",
   "execution_count": 2,
   "id": "4c599928",
   "metadata": {},
   "outputs": [],
   "source": [
    "from qiskit import transpile\n",
    "from qiskit.circuit import ClassicalRegister, QuantumCircuit, QuantumRegister\n",
    "from qiskit.transpiler.passmanager import PassManager\n",
    "\n",
    "from qiskit.transpiler import InstructionDurations\n",
    "from qiskit.transpiler.passes.scheduling import ALAPScheduleAnalysis\n",
    "from qiskit.transpiler.passes.scheduling import PadDelay\n",
    "\n",
    "from qiskit.circuit.library import XGate\n",
    "from qiskit.circuit.library import YGate\n",
    "\n",
    "from qiskit.transpiler.passes import ASAPScheduleAnalysis, PadDynamicalDecoupling\n",
    "from qiskit.visualization import timeline_drawer"
   ]
  },
  {
   "cell_type": "code",
   "execution_count": 3,
   "id": "542c2e9e",
   "metadata": {},
   "outputs": [],
   "source": [
    "Visualize_On = True # To Turn off Circuit Visualizations make this False\n",
    "Run_Real = True # Make True to run on IBM Quantum Computer\n",
    "retrieve_ibm_job = None #\"63541472fe8bafbd7631ce40\" # Insert IBM job label\n",
    "run_readout_error_mit = True # Run readout error mitigation builder\n",
    "tomography_after_bsm = True # Run experiment to visualize Alice and Charlie's Qubit after BSM\n",
    "tomography_before_bsm = True # Run Experiment to visualize Alice and Charlie's Qubit before BSM"
   ]
  },
  {
   "cell_type": "markdown",
   "id": "ed9b3b34",
   "metadata": {},
   "source": [
    "# Create Backends"
   ]
  },
  {
   "cell_type": "code",
   "execution_count": 4,
   "id": "75fb2d7e",
   "metadata": {},
   "outputs": [],
   "source": [
    "# Load IBM Account\n",
    "IBMQ.load_account()\n",
    "provider = IBMQ.get_provider('ibm-q')"
   ]
  },
  {
   "cell_type": "code",
   "execution_count": 5,
   "id": "21bad40d",
   "metadata": {},
   "outputs": [
    {
     "name": "stderr",
     "output_type": "stream",
     "text": [
      "C:\\Users\\ahoyt\\anaconda3\\envs\\csq\\lib\\site-packages\\qiskit\\providers\\aer\\noise\\device\\models.py:264: UserWarning: Device model returned an invalid T_2 relaxation time greater than the theoretical maximum value 2 * T_1 (221952.93838053106 > 2 * 31730.740894698738). Truncating to maximum value.\n",
      "  warn(\"Device model returned an invalid T_2 relaxation time greater than\"\n",
      "C:\\Users\\ahoyt\\anaconda3\\envs\\csq\\lib\\site-packages\\qiskit\\providers\\aer\\noise\\device\\models.py:264: UserWarning: Device model returned an invalid T_2 relaxation time greater than the theoretical maximum value 2 * T_1 (261151.41168067817 > 2 * 62237.55387400427). Truncating to maximum value.\n",
      "  warn(\"Device model returned an invalid T_2 relaxation time greater than\"\n",
      "C:\\Users\\ahoyt\\anaconda3\\envs\\csq\\lib\\site-packages\\qiskit\\providers\\aer\\noise\\device\\models.py:264: UserWarning: Device model returned an invalid T_2 relaxation time greater than the theoretical maximum value 2 * T_1 (221952.93838053106 > 2 * 31730.740894698738). Truncating to maximum value.\n",
      "  warn(\"Device model returned an invalid T_2 relaxation time greater than\"\n",
      "C:\\Users\\ahoyt\\anaconda3\\envs\\csq\\lib\\site-packages\\qiskit\\providers\\aer\\noise\\device\\models.py:264: UserWarning: Device model returned an invalid T_2 relaxation time greater than the theoretical maximum value 2 * T_1 (261151.41168067817 > 2 * 62237.55387400427). Truncating to maximum value.\n",
      "  warn(\"Device model returned an invalid T_2 relaxation time greater than\"\n",
      "C:\\Users\\ahoyt\\anaconda3\\envs\\csq\\lib\\site-packages\\qiskit\\providers\\aer\\noise\\device\\models.py:264: UserWarning: Device model returned an invalid T_2 relaxation time greater than the theoretical maximum value 2 * T_1 (221952.93838053106 > 2 * 31730.740894698738). Truncating to maximum value.\n",
      "  warn(\"Device model returned an invalid T_2 relaxation time greater than\"\n",
      "C:\\Users\\ahoyt\\anaconda3\\envs\\csq\\lib\\site-packages\\qiskit\\providers\\aer\\noise\\device\\models.py:264: UserWarning: Device model returned an invalid T_2 relaxation time greater than the theoretical maximum value 2 * T_1 (261151.41168067817 > 2 * 62237.55387400427). Truncating to maximum value.\n",
      "  warn(\"Device model returned an invalid T_2 relaxation time greater than\"\n",
      "C:\\Users\\ahoyt\\anaconda3\\envs\\csq\\lib\\site-packages\\qiskit\\providers\\aer\\noise\\device\\models.py:264: UserWarning: Device model returned an invalid T_2 relaxation time greater than the theoretical maximum value 2 * T_1 (221952.93838053106 > 2 * 31730.740894698738). Truncating to maximum value.\n",
      "  warn(\"Device model returned an invalid T_2 relaxation time greater than\"\n",
      "C:\\Users\\ahoyt\\anaconda3\\envs\\csq\\lib\\site-packages\\qiskit\\providers\\aer\\noise\\device\\models.py:264: UserWarning: Device model returned an invalid T_2 relaxation time greater than the theoretical maximum value 2 * T_1 (221952.93838053106 > 2 * 31730.740894698738). Truncating to maximum value.\n",
      "  warn(\"Device model returned an invalid T_2 relaxation time greater than\"\n",
      "C:\\Users\\ahoyt\\anaconda3\\envs\\csq\\lib\\site-packages\\qiskit\\providers\\aer\\noise\\device\\models.py:264: UserWarning: Device model returned an invalid T_2 relaxation time greater than the theoretical maximum value 2 * T_1 (261151.41168067817 > 2 * 62237.55387400427). Truncating to maximum value.\n",
      "  warn(\"Device model returned an invalid T_2 relaxation time greater than\"\n",
      "C:\\Users\\ahoyt\\anaconda3\\envs\\csq\\lib\\site-packages\\qiskit\\providers\\aer\\noise\\device\\models.py:264: UserWarning: Device model returned an invalid T_2 relaxation time greater than the theoretical maximum value 2 * T_1 (261151.41168067817 > 2 * 62237.55387400427). Truncating to maximum value.\n",
      "  warn(\"Device model returned an invalid T_2 relaxation time greater than\"\n",
      "Device reported a gate error parameter greater than maximum allowed value (1.000000 > 0.800000). Truncating to maximum value.\n",
      "Device model returned a depolarizing error parameter greater than maximum allowed value (1.067257 > 1.066667). Truncating to maximum value.\n",
      "Device reported a gate error parameter greater than maximum allowed value (1.000000 > 0.800000). Truncating to maximum value.\n",
      "Device model returned a depolarizing error parameter greater than maximum allowed value (1.067418 > 1.066667). Truncating to maximum value.\n",
      "C:\\Users\\ahoyt\\anaconda3\\envs\\csq\\lib\\site-packages\\qiskit\\providers\\aer\\noise\\device\\models.py:264: UserWarning: Device model returned an invalid T_2 relaxation time greater than the theoretical maximum value 2 * T_1 (221952.93838053106 > 2 * 31730.740894698738). Truncating to maximum value.\n",
      "  warn(\"Device model returned an invalid T_2 relaxation time greater than\"\n",
      "C:\\Users\\ahoyt\\anaconda3\\envs\\csq\\lib\\site-packages\\qiskit\\providers\\aer\\noise\\device\\models.py:264: UserWarning: Device model returned an invalid T_2 relaxation time greater than the theoretical maximum value 2 * T_1 (261151.41168067817 > 2 * 62237.55387400427). Truncating to maximum value.\n",
      "  warn(\"Device model returned an invalid T_2 relaxation time greater than\"\n",
      "C:\\Users\\ahoyt\\anaconda3\\envs\\csq\\lib\\site-packages\\qiskit\\providers\\aer\\noise\\device\\models.py:264: UserWarning: Device model returned an invalid T_2 relaxation time greater than the theoretical maximum value 2 * T_1 (0.00022195293838053105 > 2 * 3.173074089469874e-05). Truncating to maximum value.\n",
      "  warn(\"Device model returned an invalid T_2 relaxation time greater than\"\n",
      "C:\\Users\\ahoyt\\anaconda3\\envs\\csq\\lib\\site-packages\\qiskit\\providers\\aer\\noise\\device\\models.py:264: UserWarning: Device model returned an invalid T_2 relaxation time greater than the theoretical maximum value 2 * T_1 (0.00026115141168067815 > 2 * 6.223755387400427e-05). Truncating to maximum value.\n",
      "  warn(\"Device model returned an invalid T_2 relaxation time greater than\"\n"
     ]
    }
   ],
   "source": [
    "# Load Backends\n",
    "ibm_real = provider.get_backend('ibm_oslo')\n",
    "ibm_sim = AerSimulator.from_backend(ibm_real)\n",
    "aer_sim = Aer.get_backend('aer_simulator')"
   ]
  },
  {
   "cell_type": "markdown",
   "id": "7fd59cb4",
   "metadata": {},
   "source": [
    "# Initialize Registers"
   ]
  },
  {
   "cell_type": "code",
   "execution_count": 6,
   "id": "f904aa63",
   "metadata": {},
   "outputs": [],
   "source": [
    "cregister = ClassicalRegister(4, 'c')\n",
    "qregister = QuantumRegister(4, 'q')"
   ]
  },
  {
   "cell_type": "markdown",
   "id": "40528c67",
   "metadata": {},
   "source": [
    "# Initialize Dual EPR State"
   ]
  },
  {
   "cell_type": "code",
   "execution_count": 7,
   "id": "e9470cc3",
   "metadata": {},
   "outputs": [
    {
     "data": {
      "text/plain": [
       "<qiskit.circuit.instructionset.InstructionSet at 0x1e30c8d4d40>"
      ]
     },
     "execution_count": 7,
     "metadata": {},
     "output_type": "execute_result"
    }
   ],
   "source": [
    "# Intialize Dual EPR State Between Alice and Bob and Bob and Charlie\n",
    "initial_epr = QuantumCircuit(qregister, cregister)\n",
    "\n",
    "initial_epr.h(0)\n",
    "initial_epr.cx(0, 1)\n",
    "initial_epr.h(2)\n",
    "initial_epr.cx(2, 3)\n",
    "#initial_epr.draw('mpl') "
   ]
  },
  {
   "cell_type": "code",
   "execution_count": 8,
   "id": "17110e16",
   "metadata": {},
   "outputs": [
    {
     "data": {
      "image/png": "[encoded data removed]",
      "text/plain": [
       "<Figure size 133.526x144.48 with 1 Axes>"
      ]
     },
     "execution_count": 8,
     "metadata": {},
     "output_type": "execute_result"
    }
   ],
   "source": [
    "circ = QuantumCircuit(1, 1)\n",
    "circ.y(0)\n",
    "\n",
    "transpile(circ).draw('mpl')"
   ]
  },
  {
   "cell_type": "markdown",
   "id": "48ea1752",
   "metadata": {},
   "source": [
    "# Bell State Measurement and Teleportation"
   ]
  },
  {
   "cell_type": "code",
   "execution_count": 9,
   "id": "83b5087a",
   "metadata": {},
   "outputs": [
    {
     "data": {
      "text/plain": [
       "<qiskit.circuit.instructionset.InstructionSet at 0x1e30fe8ad00>"
      ]
     },
     "execution_count": 9,
     "metadata": {},
     "output_type": "execute_result"
    }
   ],
   "source": [
    "# Bob performs Bell State Measurement\n",
    "bell_state_measurement = QuantumCircuit(qregister, cregister)\n",
    "\n",
    "bell_state_measurement.cx(1, 2)\n",
    "bell_state_measurement.h(1)\n",
    "# bell_state_measurement.barrier((1, 2))\n",
    "# bell_state_measurement.measure((1 , 2), (1, 2))\n",
    "\n",
    "#bell_state_measurement.x(4).c_if(3, 1)\n",
    "#bell_state_measurement.z(4).c_if(2, 1) # Implement if c_if is possible\n",
    "\n",
    "# bell_state_measurement.cx(2, 3)\n",
    "# bell_state_measurement.cz(1, 3) # Implement if c_if is not possible\n",
    "bell_state_measurement.barrier(range(4))\n",
    "# bell_state_measurement.draw('mpl')"
   ]
  },
  {
   "cell_type": "markdown",
   "id": "cdb447ea",
   "metadata": {},
   "source": [
    "# Create CHSH3 Bell Test"
   ]
  },
  {
   "cell_type": "code",
   "execution_count": 10,
   "id": "cc52b692",
   "metadata": {},
   "outputs": [],
   "source": [
    "# Create CHSH3 Bell Test\n",
    "chsh3test = []"
   ]
  },
  {
   "cell_type": "code",
   "execution_count": 11,
   "id": "2fc428ce",
   "metadata": {},
   "outputs": [],
   "source": [
    "rotate_az_cDzx = QuantumCircuit(qregister, cregister)\n",
    "rotate_az_cDzx.ry(-np.pi/4, 3)\n",
    "chsh3test.append(rotate_az_cDzx)\n",
    "\n",
    "rotate_az_cEzx = QuantumCircuit(qregister, cregister)\n",
    "rotate_az_cEzx.ry(np.pi/4, 3)\n",
    "chsh3test.append(rotate_az_cEzx)\n",
    "\n",
    "rotate_ax_cDzx = QuantumCircuit(qregister, cregister)\n",
    "rotate_ax_cDzx.ry(-np.pi/2, 0)\n",
    "rotate_ax_cDzx.ry(-np.pi/4, 3)\n",
    "chsh3test.append(rotate_ax_cDzx)\n",
    "\n",
    "rotate_ax_cEzx = QuantumCircuit(qregister, cregister)\n",
    "rotate_ax_cEzx.ry(-np.pi/2, 0)\n",
    "rotate_ax_cEzx.ry(np.pi/4, 3)\n",
    "chsh3test.append(rotate_ax_cEzx)"
   ]
  },
  {
   "cell_type": "code",
   "execution_count": 12,
   "id": "598b7dde",
   "metadata": {},
   "outputs": [],
   "source": [
    "rotate_az_cDzy = QuantumCircuit(qregister, cregister)\n",
    "rotate_az_cDzy.rx(np.pi/4, 3)\n",
    "chsh3test.append(rotate_az_cDzy)\n",
    "\n",
    "rotate_az_cEzy = QuantumCircuit(qregister, cregister)\n",
    "rotate_az_cEzy.rx(-np.pi/4, 3)\n",
    "chsh3test.append(rotate_az_cEzy)\n",
    "\n",
    "rotate_ay_cDzy = QuantumCircuit(qregister, cregister)\n",
    "rotate_ay_cDzy.rx(np.pi/2, 0)\n",
    "rotate_ay_cDzy.rx(np.pi/4, 3)\n",
    "chsh3test.append(rotate_ay_cDzy)\n",
    "\n",
    "rotate_ay_cEzy = QuantumCircuit(qregister, cregister)\n",
    "rotate_ay_cEzy.rx(np.pi/2, 0)\n",
    "rotate_ay_cEzy.rx(-np.pi/4, 3)\n",
    "chsh3test.append(rotate_ay_cEzy)"
   ]
  },
  {
   "cell_type": "code",
   "execution_count": 13,
   "id": "1b49e0f6",
   "metadata": {},
   "outputs": [],
   "source": [
    "rotate_ax_cDxy = QuantumCircuit(qregister, cregister)\n",
    "rotate_ax_cDxy.ry(-np.pi/2, 0)\n",
    "rotate_ax_cDxy.rz(-np.pi/4, 3)\n",
    "rotate_ax_cDxy.ry(-np.pi/2, 3)\n",
    "chsh3test.append(rotate_ax_cDxy)\n",
    "\n",
    "rotate_ax_cExy = QuantumCircuit(qregister, cregister)\n",
    "rotate_ax_cExy.ry(-np.pi/2, 0)\n",
    "rotate_ax_cExy.rz(np.pi/4, 3)\n",
    "rotate_ax_cExy.ry(-np.pi/2, 3)\n",
    "chsh3test.append(rotate_ax_cExy)\n",
    "\n",
    "rotate_ay_cDxy = QuantumCircuit(qregister, cregister)\n",
    "rotate_ay_cDxy.rx(np.pi/2, 0)\n",
    "rotate_ay_cDxy.rz(-np.pi/4, 3)\n",
    "rotate_ay_cDxy.ry(-np.pi/2, 3)\n",
    "chsh3test.append(rotate_ay_cDxy)\n",
    "\n",
    "rotate_ay_cExy = QuantumCircuit(qregister, cregister)\n",
    "rotate_ay_cExy.rx(np.pi/2, 0)\n",
    "rotate_ay_cExy.rz(np.pi/4, 3)\n",
    "rotate_ay_cExy.ry(-np.pi/2, 3)\n",
    "chsh3test.append(rotate_ay_cExy)"
   ]
  },
  {
   "cell_type": "code",
   "execution_count": 14,
   "id": "932fb2af",
   "metadata": {},
   "outputs": [],
   "source": [
    "# chsh3test[0].draw('mpl')"
   ]
  },
  {
   "cell_type": "markdown",
   "id": "dff262bd",
   "metadata": {},
   "source": [
    "# Perform Measurement of Alice and Charlie"
   ]
  },
  {
   "cell_type": "code",
   "execution_count": 15,
   "id": "fd3727e8",
   "metadata": {},
   "outputs": [
    {
     "data": {
      "text/plain": [
       "<qiskit.circuit.instructionset.InstructionSet at 0x1e30c80c0c0>"
      ]
     },
     "execution_count": 15,
     "metadata": {},
     "output_type": "execute_result"
    }
   ],
   "source": [
    "# Measure Alice and Charlie's Qubits\n",
    "measurement = QuantumCircuit(qregister, cregister)\n",
    "measurement.barrier(range(4))\n",
    "measurement.measure((0, 1, 2, 3), (0, 1, 2, 3))"
   ]
  },
  {
   "cell_type": "code",
   "execution_count": 16,
   "id": "4a24d157",
   "metadata": {},
   "outputs": [],
   "source": [
    "#measurement.draw('mpl')"
   ]
  },
  {
   "cell_type": "markdown",
   "id": "7914803c",
   "metadata": {},
   "source": [
    "# Combine Individual Complex Bell Test Circuits"
   ]
  },
  {
   "cell_type": "code",
   "execution_count": 17,
   "id": "c91433cd",
   "metadata": {},
   "outputs": [],
   "source": [
    "#build circuits\n",
    "chsh3testlen = len(chsh3test)\n",
    "circuit_experiments = []\n",
    "for rotation in chsh3test:\n",
    "    circuit = QuantumCircuit(qregister, cregister)\n",
    "    circuit.compose(initial_epr, inplace=True)\n",
    "    circuit.compose(bell_state_measurement, inplace=True)\n",
    "    circuit.compose(rotation, inplace=True)\n",
    "    circuit.compose(measurement, inplace=True)\n",
    "    circuit_experiments.append(circuit)\n",
    "    "
   ]
  },
  {
   "cell_type": "code",
   "execution_count": 18,
   "id": "520c611a",
   "metadata": {},
   "outputs": [
    {
     "data": {
      "image/png": "[encoded data removed]",
      "text/plain": [
       "<Figure size 748.797x325.08 with 1 Axes>"
      ]
     },
     "execution_count": 18,
     "metadata": {},
     "output_type": "execute_result"
    }
   ],
   "source": [
    "circuit_experiments[4].draw('mpl')"
   ]
  },
  {
   "cell_type": "markdown",
   "id": "8ad4512f",
   "metadata": {},
   "source": [
    "# Create Read Out Error Mitigation Circuits"
   ]
  },
  {
   "cell_type": "code",
   "execution_count": 19,
   "id": "c9b07d01",
   "metadata": {},
   "outputs": [],
   "source": [
    "readoutmitlength = 0\n",
    "qregistermit = QuantumRegister(4, 'c')\n",
    "if run_readout_error_mit:\n",
    "    meas_calibs, state_labels = complete_meas_cal(qr=qregistermit, circlabel='mcal')\n",
    "    readoutmitlength = len(meas_calibs)\n",
    "    \n",
    "    for circ in meas_calibs:\n",
    "        circuit_experiments.append(circ)\n"
   ]
  },
  {
   "cell_type": "code",
   "execution_count": 20,
   "id": "52a5fdf8",
   "metadata": {},
   "outputs": [
    {
     "data": {
      "image/png": "[encoded data removed]",
      "text/plain": [
       "<Figure size 446.067x325.08 with 1 Axes>"
      ]
     },
     "execution_count": 20,
     "metadata": {},
     "output_type": "execute_result"
    }
   ],
   "source": [
    "meas_calibs[2].draw('mpl')"
   ]
  },
  {
   "cell_type": "markdown",
   "id": "28316a6d",
   "metadata": {},
   "source": [
    "# Temporary Modified Circuits for Tomography"
   ]
  },
  {
   "cell_type": "code",
   "execution_count": 21,
   "id": "f827035b",
   "metadata": {},
   "outputs": [],
   "source": [
    "qregistertom = QuantumRegister(4, 'q')\n",
    "cregistertom = ClassicalRegister(2, 'c1')"
   ]
  },
  {
   "cell_type": "code",
   "execution_count": 22,
   "id": "78c0f561",
   "metadata": {},
   "outputs": [
    {
     "data": {
      "text/plain": [
       "<qiskit.circuit.instructionset.InstructionSet at 0x1e30f747e80>"
      ]
     },
     "execution_count": 22,
     "metadata": {},
     "output_type": "execute_result"
    }
   ],
   "source": [
    "initial_epr_tom = QuantumCircuit(qregistertom, cregistertom)\n",
    "\n",
    "initial_epr_tom.h(0)\n",
    "initial_epr_tom.cx(0, 1)\n",
    "initial_epr_tom.h(2)\n",
    "initial_epr_tom.cx(2, 3)"
   ]
  },
  {
   "cell_type": "code",
   "execution_count": 23,
   "id": "6262f3d0",
   "metadata": {},
   "outputs": [
    {
     "data": {
      "text/plain": [
       "<qiskit.circuit.instructionset.InstructionSet at 0x1e310158840>"
      ]
     },
     "execution_count": 23,
     "metadata": {},
     "output_type": "execute_result"
    }
   ],
   "source": [
    "bell_state_measurement_tom = QuantumCircuit(qregistertom, cregistertom)\n",
    "\n",
    "bell_state_measurement_tom.cx(1, 2)\n",
    "bell_state_measurement_tom.h(1)\n",
    "bell_state_measurement_tom.barrier(range(4))"
   ]
  },
  {
   "cell_type": "markdown",
   "id": "12d9113b",
   "metadata": {},
   "source": [
    "# Create Quantum State Tomography Circuits"
   ]
  },
  {
   "cell_type": "code",
   "execution_count": 24,
   "id": "c4dcb53a",
   "metadata": {},
   "outputs": [],
   "source": [
    "# After Bell State Measurement\n",
    "readoutbsmaftertomlength = 0\n",
    "if tomography_after_bsm:\n",
    "    bsm_after = QuantumCircuit(qregistertom, cregistertom)\n",
    "    bsm_after.compose(initial_epr_tom, inplace=True)\n",
    "    bsm_after.compose(bell_state_measurement_tom, inplace=True)\n",
    "    tomography_circuits_after = state_tomography_circuits(bsm_after, [qregistertom[0], qregistertom[3]])\n",
    "    readoutbsmaftertomlength = len(tomography_circuits_after)\n",
    "    for circ in tomography_circuits_after:\n",
    "        circuit_experiments.append(circ)"
   ]
  },
  {
   "cell_type": "code",
   "execution_count": 25,
   "id": "502d886e",
   "metadata": {},
   "outputs": [
    {
     "data": {
      "image/png": "[encoded data removed]",
      "text/plain": [
       "<Figure size 688.597x325.08 with 1 Axes>"
      ]
     },
     "execution_count": 25,
     "metadata": {},
     "output_type": "execute_result"
    }
   ],
   "source": [
    "tomography_circuits_after[1].draw('mpl')"
   ]
  },
  {
   "cell_type": "code",
   "execution_count": 26,
   "id": "6e15e4d5",
   "metadata": {},
   "outputs": [],
   "source": [
    "# Before Bell State Measurement\n",
    "readoutbsmbeforetomlength = 0\n",
    "if tomography_before_bsm:\n",
    "    qregistertom = QuantumRegister(4, 'q')\n",
    "    cregistertom = ClassicalRegister(2, 'c2')\n",
    "    bsm_before = QuantumCircuit(qregistertom, cregistertom)\n",
    "    bsm_before.compose(initial_epr_tom, inplace=True)\n",
    "    tomography_circuits_before = state_tomography_circuits(bsm_before, [qregistertom[0], qregistertom[3]])\n",
    "    readoutbsmbeforetomlength = len(tomography_circuits_before)\n",
    "    for circ in tomography_circuits_before:\n",
    "        circuit_experiments.append(circ)"
   ]
  },
  {
   "cell_type": "code",
   "execution_count": 27,
   "id": "72755d86",
   "metadata": {},
   "outputs": [
    {
     "data": {
      "image/png": "[encoded data removed]",
      "text/plain": [
       "<Figure size 507.997x325.08 with 1 Axes>"
      ]
     },
     "execution_count": 27,
     "metadata": {},
     "output_type": "execute_result"
    }
   ],
   "source": [
    "tomography_circuits_before[1].draw('mpl')"
   ]
  },
  {
   "cell_type": "code",
   "execution_count": null,
   "id": "92325f4d",
   "metadata": {},
   "outputs": [],
   "source": []
  },
  {
   "cell_type": "markdown",
   "id": "b71fbf02",
   "metadata": {},
   "source": [
    "# Transpile Circuits to Real Quantum Hardware"
   ]
  },
  {
   "cell_type": "code",
   "execution_count": 28,
   "id": "87f0e475",
   "metadata": {},
   "outputs": [],
   "source": [
    "transpiled_circuit_exp = transpile(circuit_experiments, ibm_real)\n",
    "# transpiled_circuit_exp[0].draw('mpl')"
   ]
  },
  {
   "cell_type": "code",
   "execution_count": 29,
   "id": "f1645622",
   "metadata": {},
   "outputs": [
    {
     "data": {
      "image/png": "[encoded data removed]",
      "text/plain": [
       "<Figure size 1471.2x505.68 with 1 Axes>"
      ]
     },
     "execution_count": 29,
     "metadata": {},
     "output_type": "execute_result"
    }
   ],
   "source": [
    "# create instruction durations from the real backend\n",
    "ID = InstructionDurations()\n",
    "durations = ID.from_backend(ibm_real)\n",
    "# balanced X-Y sequence on all qubits\n",
    "dd_sequence = [XGate(), XGate(), XGate(), XGate()]\n",
    "pm = PassManager([ALAPScheduleAnalysis(durations),\n",
    "                  PadDynamicalDecoupling(durations, dd_sequence)])\n",
    "circ_dd = pm.run(transpile(circuit_experiments[1], ibm_real))\n",
    "timeline_drawer(circ_dd)\n",
    "\n",
    "for i in range(len(chsh3test)):\n",
    "    circ_dd = pm.run(transpile(circuit_experiments[i], ibm_real))\n",
    "    transpiled_circuit_exp.append(circ_dd)\n",
    "\n",
    "transpiled_circuit_exp[-1].draw('mpl')"
   ]
  },
  {
   "cell_type": "code",
   "execution_count": 30,
   "id": "abf579a3",
   "metadata": {},
   "outputs": [
    {
     "name": "stdout",
     "output_type": "stream",
     "text": [
      "Total Circuits in Experiment is | 58 | ~ The max is 100\n"
     ]
    }
   ],
   "source": [
    "print(\"Total Circuits in Experiment is | {0} | ~ The max is 100\".format(len(transpiled_circuit_exp)))"
   ]
  },
  {
   "cell_type": "markdown",
   "id": "24ec4920",
   "metadata": {},
   "source": [
    "# Run Quantum Circuits"
   ]
  },
  {
   "cell_type": "code",
   "execution_count": null,
   "id": "3e3d149c",
   "metadata": {},
   "outputs": [
    {
     "name": "stdout",
     "output_type": "stream",
     "text": [
      "Job Status: job is queued (71)    "
     ]
    }
   ],
   "source": [
    "# Run transpiled circuits on IBM, Simulated IBM, and Perfect IBM Quantum Hardware\n",
    "ibm_sim_job = ibm_sim.run(transpiled_circuit_exp, shots=10000)\n",
    "aer_sim_job = aer_sim.run(transpiled_circuit_exp, shots=10000)\n",
    "\n",
    "if Run_Real and retrieve_ibm_job is None: \n",
    "    ibm_real_job = ibm_real.run(transpiled_circuit_exp, shots=20000)\n",
    "    job_monitor(ibm_real_job)\n",
    "\n",
    "if retrieve_ibm_job is not None:\n",
    "    ibm_real_job = ibm_real.retrieve_job(retrieve_ibm_job)"
   ]
  },
  {
   "cell_type": "code",
   "execution_count": null,
   "id": "c82eb3a3",
   "metadata": {},
   "outputs": [],
   "source": [
    "# Grab the results from the job.\n",
    "aer_sim_result = aer_sim_job.result()\n",
    "ibm_sim_result = ibm_sim_job.result()\n",
    "if Run_Real:\n",
    "    ibm_real_result = ibm_real_job.result()"
   ]
  },
  {
   "cell_type": "markdown",
   "id": "70a311df",
   "metadata": {},
   "source": [
    "# Perfect Results For Tomography"
   ]
  },
  {
   "cell_type": "code",
   "execution_count": null,
   "id": "e390b23e",
   "metadata": {},
   "outputs": [],
   "source": [
    "# State Before Circuit\n",
    "before = QuantumCircuit(4,4)\n",
    "before"
   ]
  },
  {
   "cell_type": "markdown",
   "id": "9c281c24",
   "metadata": {},
   "source": [
    "# Individual Results"
   ]
  },
  {
   "cell_type": "code",
   "execution_count": null,
   "id": "51e5ba20",
   "metadata": {},
   "outputs": [],
   "source": [
    "ibm_sim_chsh3 = copy.deepcopy(ibm_sim_result)\n",
    "ibm_sim_chsh3.results = ibm_sim_chsh3.results[0: chsh3testlen]\n",
    "aer_sim_chsh3 = copy.deepcopy(aer_sim_result)\n",
    "aer_sim_chsh3.results = aer_sim_chsh3.results[0: chsh3testlen]\n",
    "\n",
    "ibm_sim_meascalib = copy.deepcopy(ibm_sim_result)\n",
    "ibm_sim_meascalib.results = ibm_sim_meascalib.results[chsh3testlen: chsh3testlen + readoutmitlength]\n",
    "aer_sim_meascalib = copy.deepcopy(aer_sim_result)\n",
    "aer_sim_meascalib.results = aer_sim_meascalib.results[chsh3testlen: chsh3testlen + readoutmitlength]\n",
    "\n",
    "ibm_sim_bsmafter = copy.deepcopy(ibm_sim_result)\n",
    "ibm_sim_bsmafter.results = ibm_sim_bsmafter.results[chsh3testlen + readoutmitlength: chsh3testlen + readoutmitlength +readoutbsmaftertomlength]\n",
    "aer_sim_bsmafter = copy.deepcopy(aer_sim_result)\n",
    "aer_sim_bsmafter.results = aer_sim_bsmafter.results[chsh3testlen + readoutmitlength: chsh3testlen + readoutmitlength + readoutbsmaftertomlength]\n",
    "\n",
    "ibm_sim_bsmbefore = copy.deepcopy(ibm_sim_result)\n",
    "ibm_sim_bsmbefore.results = ibm_sim_bsmbefore.results[chsh3testlen + readoutmitlength: chsh3testlen + readoutmitlength + readoutbsmaftertomlength]\n",
    "aer_sim_bsmbefore = copy.deepcopy(aer_sim_result)\n",
    "aer_sim_bsmbefore.results = aer_sim_bsmbefore.results[chsh3testlen + readoutmitlength: chsh3testlen + readoutmitlength + readoutbsmaftertomlength]\n",
    "\n",
    "ibm_sim_chsh3dd = copy.deepcopy(ibm_sim_result)\n",
    "ibm_sim_chsh3dd.results = ibm_sim_chsh3.results[chsh3testlen + readoutmitlength + readoutbsmaftertomlength:\n",
    "                                                chsh3testlen + readoutmitlength + readoutbsmaftertomlength + chsh3testlen]\n",
    "aer_sim_chsh3dd = copy.deepcopy(aer_sim_result)\n",
    "aer_sim_chsh3dd.results = aer_sim_chsh3.results[chsh3testlen + readoutmitlength + readoutbsmaftertomlength:\n",
    "                                                chsh3testlen + readoutmitlength + readoutbsmaftertomlength + chsh3testlen]\n",
    "\n",
    "if Run_Real:\n",
    "    ibm_real_chsh3 = copy.deepcopy(ibm_real_result)\n",
    "    ibm_real_chsh3.results = ibm_real_chsh3.results[0: chsh3testlen]\n",
    "\n",
    "    ibm_real_meascalib = copy.deepcopy(ibm_real_result)\n",
    "    ibm_real_meascalib.results = ibm_real_meascalib.results[chsh3testlen: chsh3testlen + readoutmitlength]\n",
    "    \n",
    "    ibm_real_bsmafter = copy.deepcopy(ibm_real_result)\n",
    "    ibm_real_bsmafter.results = ibm_real_bsmafter.results[chsh3testlen + readoutmitlength: chsh3testlen + readoutmitlength + readoutbsmaftertomlength]\n",
    "    \n",
    "    ibm_real_bsmbefore = copy.deepcopy(ibm_real_result)\n",
    "    ibm_real_bsmbefore.results = ibm_real_bsmbefore.results[chsh3testlen + readoutmitlength: chsh3testlen + readoutmitlength + readoutbsmaftertomlength]\n",
    "    \n",
    "    ibm_real_chsh3dd = copy.deepcopy(ibm_real_result)\n",
    "    ibm_real_chsh3dd.results = ibm_real_chsh3.results[chsh3testlen + readoutmitlength + readoutbsmaftertomlength:\n",
    "                                                      chsh3testlen + readoutmitlength + readoutbsmaftertomlength + chsh3testlen]"
   ]
  },
  {
   "cell_type": "markdown",
   "id": "fa2094f1",
   "metadata": {},
   "source": [
    "# Create Read Out Error Fitter"
   ]
  },
  {
   "cell_type": "code",
   "execution_count": null,
   "id": "ba855d81",
   "metadata": {},
   "outputs": [],
   "source": [
    "# Create Meas Fitter\n",
    "ibm_sim_meas_fitter = CompleteMeasFitter(ibm_sim_meascalib, state_labels, circlabel='mcal')\n",
    "aer_sim_meas_fitter = CompleteMeasFitter(aer_sim_meascalib, state_labels, circlabel='mcal')\n",
    "\n",
    "if Run_Real: \n",
    "    ibm_real_meas_fitter = CompleteMeasFitter(ibm_real_meascalib, state_labels, circlabel='mcal')"
   ]
  },
  {
   "cell_type": "code",
   "execution_count": null,
   "id": "1d61e5c1",
   "metadata": {},
   "outputs": [],
   "source": [
    "# array_to_latex(ibm_sim_meas_fitter.cal_matrix)"
   ]
  },
  {
   "cell_type": "code",
   "execution_count": null,
   "id": "c7d2aaab",
   "metadata": {},
   "outputs": [],
   "source": [
    "ibm_sim_meas_filter = ibm_sim_meas_fitter.filter\n",
    "aer_sim_meas_filter = aer_sim_meas_fitter.filter\n",
    "\n",
    "# Results with mitigation\n",
    "ibm_sim_chsh3_mitigated = ibm_sim_meas_filter.apply(ibm_sim_chsh3)\n",
    "aer_sim_chsh3_mitigated = aer_sim_meas_filter.apply(aer_sim_chsh3)\n",
    "\n",
    "ibm_sim_chsh3dd_mitigated = ibm_sim_meas_filter.apply(ibm_sim_chsh3dd)\n",
    "aer_sim_chsh3dd_mitigated = aer_sim_meas_filter.apply(aer_sim_chsh3dd)\n",
    "\n",
    "if Run_Real:\n",
    "    ibm_real_meas_filter = ibm_sim_meas_fitter.filter\n",
    "    ibm_real_chsh3_mitigated = ibm_real_meas_filter.apply(ibm_real_chsh3)\n",
    "    ibm_real_chsh3dd_mitigated = ibm_real_meas_filter.apply(ibm_real_chsh3dd)"
   ]
  },
  {
   "cell_type": "markdown",
   "id": "b4e8af4c",
   "metadata": {},
   "source": [
    "# Quantum Tomography Fit"
   ]
  },
  {
   "cell_type": "code",
   "execution_count": null,
   "id": "bc9fac1f",
   "metadata": {},
   "outputs": [],
   "source": [
    "ibm_sim_bsm_after = StateTomographyFitter(ibm_sim_bsmafter, tomography_circuits_after)\n",
    "aer_sim_bsm_after = StateTomographyFitter(aer_sim_bsmafter, tomography_circuits_after)\n",
    "\n",
    "ibm_sim_bsm_before = StateTomographyFitter(ibm_sim_bsmbefore, tomography_circuits_before)\n",
    "aer_sim_bsm_before = StateTomographyFitter(aer_sim_bsmbefore, tomography_circuits_before)\n",
    "\n",
    "if Run_Real:\n",
    "    ibm_real_bsm_after = StateTomographyFitter(ibm_real_bsmafter, tomography_circuits_after)\n",
    "    ibm_real_bsm_before = StateTomographyFitter(ibm_real_bsmbefore, tomography_circuits_before)"
   ]
  },
  {
   "cell_type": "markdown",
   "id": "b9e369e8",
   "metadata": {},
   "source": [
    "# CHSH Calculations"
   ]
  },
  {
   "cell_type": "code",
   "execution_count": null,
   "id": "50c6b39d",
   "metadata": {},
   "outputs": [],
   "source": [
    "def calc_chsh1(theta_dict):\n",
    "    zz = theta_dict[0]\n",
    "    zx = theta_dict[1]\n",
    "    xz = theta_dict[3]\n",
    "    xx = theta_dict[2]\n",
    "    \n",
    "    no_shots = sum(xx[y] for y in xx)\n",
    "\n",
    "    chsh = 0\n",
    "    totalOO = 0\n",
    "\n",
    "    for element in zz:\n",
    "        if (int(element[1]) == 0 and int(element[2]) == 0):\n",
    "            totalOO += zz[element]\n",
    "            parity = (-1)**(int(element[0])+int(element[3]))\n",
    "            chsh += parity*zz[element]\n",
    "        \n",
    "    for element in zx:\n",
    "        if (int(element[1]) == 0 and int(element[2]) == 0):\n",
    "            totalOO += zx[element]\n",
    "            parity = (-1)**(int(element[0])+int(element[3]))\n",
    "            chsh += parity*zx[element]\n",
    "\n",
    "    for element in xz:\n",
    "        if (int(element[1]) == 0 and int(element[2]) == 0):\n",
    "            totalOO += xz[element]\n",
    "            parity = (-1)**(int(element[0])+int(element[3]))\n",
    "            chsh -= parity*xz[element]\n",
    "\n",
    "    for element in xx:\n",
    "        if (int(element[1]) == 0 and int(element[2]) == 0):\n",
    "            totalOO += xx[element]\n",
    "            parity = (-1)**(int(element[0])+int(element[3]))\n",
    "            chsh += parity*xx[element]\n",
    "    \n",
    "    return 4*chsh / totalOO"
   ]
  },
  {
   "cell_type": "code",
   "execution_count": null,
   "id": "09eedd5e",
   "metadata": {},
   "outputs": [],
   "source": [
    "def calc_chsh23(theta_dict):\n",
    "    zz = theta_dict[0]\n",
    "    zx = theta_dict[1]\n",
    "    xz = theta_dict[2]\n",
    "    xx = theta_dict[3]\n",
    "    \n",
    "    no_shots = sum(xx[y] for y in xx)\n",
    "\n",
    "    chsh = 0\n",
    "    totalOO = 0\n",
    "\n",
    "    for element in zz:\n",
    "        if (int(element[1]) == 0 and int(element[2]) == 0):\n",
    "            totalOO += zz[element]\n",
    "            parity = (-1)**(int(element[0])+int(element[3]))\n",
    "            chsh += parity*zz[element]\n",
    "\n",
    "    for element in zx:\n",
    "        if (int(element[1]) == 0 and int(element[2]) == 0):\n",
    "            totalOO += zx[element]\n",
    "            parity = (-1)**(int(element[0])+int(element[3]))\n",
    "            chsh += parity*zx[element]\n",
    "\n",
    "    for element in xz:\n",
    "        if (int(element[1]) == 0 and int(element[2]) == 0):\n",
    "            totalOO += xz[element]\n",
    "            parity = (-1)**(int(element[0])+int(element[3]))\n",
    "            chsh -= parity*xz[element]\n",
    "\n",
    "    for element in xx:\n",
    "        if (int(element[1]) == 0 and int(element[2]) == 0):\n",
    "            totalOO += xx[element]\n",
    "            parity = (-1)**(int(element[0])+int(element[3]))\n",
    "            chsh += parity*xx[element]\n",
    "    \n",
    "    return 4*chsh / totalOO"
   ]
  },
  {
   "cell_type": "code",
   "execution_count": null,
   "id": "ba447041",
   "metadata": {},
   "outputs": [],
   "source": [
    "def get_chsh3(circuit_counts):\n",
    "    chsh23 = calc_chsh23(circuit_counts[8:12]) + calc_chsh23(circuit_counts[4:8])\n",
    "    chsh1 = calc_chsh1(circuit_counts[0:4])\n",
    "    return chsh23 + chsh1"
   ]
  },
  {
   "cell_type": "markdown",
   "id": "3bf2d21f",
   "metadata": {},
   "source": [
    "# Probability of EPR Pairs"
   ]
  },
  {
   "cell_type": "code",
   "execution_count": null,
   "id": "a90ecf8d",
   "metadata": {},
   "outputs": [],
   "source": [
    "def prob_epr_pairs(circuit_counts):\n",
    "    no_shots = sum(circuit_counts[outcome] for outcome in circuit_counts)\n",
    "    \n",
    "    zz = 0\n",
    "    zo = 0\n",
    "    oz = 0\n",
    "    oo = 0\n",
    "    \n",
    "    for element in circuit_counts:\n",
    "        if int(element[0]) == 0 and int(element[3]) == 0:\n",
    "            zz += circuit_counts[element]\n",
    "            \n",
    "        if int(element[0]) == 0 and int(element[3]) == 1:\n",
    "            zo += circuit_counts[element]\n",
    "            \n",
    "        if int(element[0]) == 1 and int(element[3]) == 0:\n",
    "            oz += circuit_counts[element]\n",
    "            \n",
    "        if int(element[0]) == 1 and int(element[3]) == 1:\n",
    "            oo += circuit_counts[element]\n",
    "            \n",
    "    return np.array([zz, zo, oz, oo]) / no_shots"
   ]
  },
  {
   "cell_type": "markdown",
   "id": "c3f4e6c7",
   "metadata": {},
   "source": [
    "# Tomography Calculations"
   ]
  },
  {
   "cell_type": "code",
   "execution_count": null,
   "id": "540ca5fa",
   "metadata": {},
   "outputs": [],
   "source": [
    "ibm_sim_bsm_after = ibm_sim_bsm_after.fit(method='lstsq')\n",
    "ibm_sim_bsm_before = ibm_sim_bsm_before.fit(method='lstsq')\n",
    "\n",
    "aer_sim_bsm_after = aer_sim_bsm_after.fit(method='lstsq')\n",
    "aer_sim_bsm_before = aer_sim_bsm_before.fit(method='lstsq')\n",
    "\n",
    "if Run_Real:\n",
    "    ibm_real_bsm_after = ibm_real_bsm_after.fit(method='lstsq')\n",
    "    ibm_real_bsm_before = ibm_real_bsm_before.fit(method='lstsq')"
   ]
  },
  {
   "cell_type": "markdown",
   "id": "2162b49f",
   "metadata": {},
   "source": [
    "# Complex Bell Test Results"
   ]
  },
  {
   "cell_type": "code",
   "execution_count": null,
   "id": "8a5af370",
   "metadata": {},
   "outputs": [],
   "source": [
    "print(\"Complex Bell Test\")\n",
    "print(\"Manila Sim Results: {0:.4f}\".format(get_chsh3(ibm_sim_chsh3.get_counts())))\n",
    "print(\"Manila Sim Mitigated Results: {0:.4f}\".format(get_chsh3(ibm_sim_chsh3_mitigated.get_counts())))\n",
    "print(\"Manila Sim DD Mitigated Results: {0:.4f}\".format(get_chsh3(ibm_sim_chsh3dd_mitigated.get_counts())))\n",
    "\n",
    "if Run_Real:\n",
    "    print(\"Manila Real Results: {0:.4f}\".format(get_chsh3(ibm_real_chsh3.get_counts())))\n",
    "    print(\"Manila Real Mitigated Results: {0:.4f}\".format(get_chsh3(ibm_real_chsh3_mitigated.get_counts())))\n",
    "    print(\"Manila Real DD Mitigated Results: {0:.4f}\".format(get_chsh3(ibm_real_chsh3dd_mitigated.get_counts())))\n",
    "    \n",
    "print(\"Aer Sim Results: {0:.7f}\".format(get_chsh3(aer_sim_chsh3.get_counts())))\n",
    "print(\"Aer Sim Mitigated Results: {0:.7f}\".format(get_chsh3(aer_sim_chsh3_mitigated.get_counts())))\n",
    "print(\"Quantum Theoretical: \")\n",
    "print(6*np.sqrt(2))"
   ]
  },
  {
   "cell_type": "code",
   "execution_count": null,
   "id": "848ccb3e",
   "metadata": {},
   "outputs": [],
   "source": [
    "plot_histogram(ibm_sim_chsh3.get_counts()[-1])"
   ]
  },
  {
   "cell_type": "code",
   "execution_count": null,
   "id": "48a43439",
   "metadata": {},
   "outputs": [],
   "source": [
    "plot_histogram(ibm_sim_chsh3_mitigated.get_counts()[-1])"
   ]
  },
  {
   "cell_type": "code",
   "execution_count": null,
   "id": "2a3baca3",
   "metadata": {},
   "outputs": [],
   "source": [
    "# if Run_Real: \n",
    "plot_histogram(ibm_real_chsh3.get_counts()[-1])"
   ]
  },
  {
   "cell_type": "code",
   "execution_count": null,
   "id": "694875c8",
   "metadata": {},
   "outputs": [],
   "source": [
    "# if Run_Real: \n",
    "plot_histogram(ibm_real_chsh3_mitigated.get_counts()[-1])"
   ]
  },
  {
   "cell_type": "code",
   "execution_count": null,
   "id": "ed26ca91",
   "metadata": {},
   "outputs": [],
   "source": [
    "plot_histogram(aer_sim_chsh3.get_counts()[-1])"
   ]
  },
  {
   "cell_type": "code",
   "execution_count": null,
   "id": "a141aa99",
   "metadata": {},
   "outputs": [],
   "source": [
    "plot_histogram(aer_sim_chsh3_mitigated.get_counts()[-1])"
   ]
  },
  {
   "cell_type": "markdown",
   "id": "e708d554",
   "metadata": {},
   "source": [
    "# Tomography Results"
   ]
  },
  {
   "cell_type": "code",
   "execution_count": null,
   "id": "5cd778d0",
   "metadata": {},
   "outputs": [],
   "source": [
    "print('State fidelity IBM Sim BSM After: F = {:.5f}'.format(qi.state_fidelity(\n",
    "    ibm_sim_bsm_after, partial_trace(DensityMatrix(bsm_after),[0,3]))))"
   ]
  },
  {
   "cell_type": "code",
   "execution_count": null,
   "id": "d977762f",
   "metadata": {},
   "outputs": [],
   "source": [
    "plot_state_city(ibm_sim_bsm_after)"
   ]
  },
  {
   "cell_type": "code",
   "execution_count": null,
   "id": "27b01223",
   "metadata": {},
   "outputs": [],
   "source": [
    "print('State fidelity IBM Sim BSM Before: F = {:.5f}'.format(qi.state_fidelity(\n",
    "    ibm_sim_bsm_before, partial_trace(DensityMatrix(bsm_before),[0,3]))))"
   ]
  },
  {
   "cell_type": "code",
   "execution_count": null,
   "id": "5eaf41d1",
   "metadata": {},
   "outputs": [],
   "source": [
    "plot_state_city(ibm_sim_bsm_before)"
   ]
  },
  {
   "cell_type": "code",
   "execution_count": null,
   "id": "be063ed3",
   "metadata": {},
   "outputs": [],
   "source": [
    "print('State fidelity IBM Real BSM After: F = {:.5f}'.format(qi.state_fidelity(\n",
    "    ibm_real_bsm_after, partial_trace(DensityMatrix(bsm_after),[0,3]))))"
   ]
  },
  {
   "cell_type": "code",
   "execution_count": null,
   "id": "cbc1c674",
   "metadata": {},
   "outputs": [],
   "source": [
    "plot_state_city(ibm_real_bsm_after)"
   ]
  },
  {
   "cell_type": "code",
   "execution_count": null,
   "id": "6b49c675",
   "metadata": {},
   "outputs": [],
   "source": [
    "print('State fidelity IBM Real BSM Before: F = {:.5f}'.format(qi.state_fidelity(\n",
    "    ibm_real_bsm_before, partial_trace(DensityMatrix(bsm_before),[0,3]))))"
   ]
  },
  {
   "cell_type": "code",
   "execution_count": null,
   "id": "f8bb51e7",
   "metadata": {},
   "outputs": [],
   "source": [
    "plot_state_city(ibm_real_bsm_before)"
   ]
  },
  {
   "cell_type": "code",
   "execution_count": null,
   "id": "e09ce35b",
   "metadata": {},
   "outputs": [],
   "source": [
    "print('State fidelity Aer Sim BSM After: F = {:.5f}'.format(qi.state_fidelity(\n",
    "    aer_sim_bsm_after, partial_trace(DensityMatrix(bsm_after),[1,2]))))"
   ]
  },
  {
   "cell_type": "code",
   "execution_count": null,
   "id": "8e1575e1",
   "metadata": {},
   "outputs": [],
   "source": [
    "plot_state_city(aer_sim_bsm_after)"
   ]
  },
  {
   "cell_type": "code",
   "execution_count": null,
   "id": "4a88eb25",
   "metadata": {},
   "outputs": [],
   "source": [
    "print('State fidelity Aer Sim BSM After: F = {:.5f}'.format(qi.state_fidelity(\n",
    "    aer_sim_bsm_before, partial_trace(DensityMatrix(bsm_before),[1,2]))))"
   ]
  },
  {
   "cell_type": "code",
   "execution_count": null,
   "id": "ea5bbcd2",
   "metadata": {},
   "outputs": [],
   "source": [
    "plot_state_city(aer_sim_bsm_before)"
   ]
  }
 ],
 "metadata": {
  "kernelspec": {
   "display_name": "Python 3 (ipykernel)",
   "language": "python",
   "name": "python3"
  },
  "language_info": {
   "codemirror_mode": {
    "name": "ipython",
    "version": 3
   },
   "file_extension": ".py",
   "mimetype": "text/x-python",
   "name": "python",
   "nbconvert_exporter": "python",
   "pygments_lexer": "ipython3",
   "version": "3.8.10"
  }
 },
 "nbformat": 4,
 "nbformat_minor": 5
}
