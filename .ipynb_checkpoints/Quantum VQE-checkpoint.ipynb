{
 "cells": [
  {
   "cell_type": "code",
   "execution_count": 1,
   "id": "b99d3976",
   "metadata": {},
   "outputs": [
    {
     "name": "stdout",
     "output_type": "stream",
     "text": [
      "3.8.10 (default, Jun  4 2021, 15:09:15) \n",
      "[GCC 7.5.0]\n"
     ]
    }
   ],
   "source": [
    "import sys\n",
    "print(sys.version)\n",
    "from qiskit_nature.settings import settings\n",
    "from qiskit_nature.drivers import UnitsType\n",
    "from qiskit_nature.drivers.second_quantization import PySCFDriver\n",
    "from qiskit_nature.problems.second_quantization.electronic import ElectronicStructureProblem"
   ]
  },
  {
   "cell_type": "code",
   "execution_count": 2,
   "id": "6b10ae32",
   "metadata": {},
   "outputs": [],
   "source": [
    "settings.dict_aux_operators = True"
   ]
  },
  {
   "cell_type": "code",
   "execution_count": 3,
   "id": "99407139",
   "metadata": {},
   "outputs": [],
   "source": [
    "# Use PySCF, a classical computational chemistry software\n",
    "# package, to compute the one-body and two-body integrals in\n",
    "# electronic-orbital basis, necessary to form the Fermionic operator\n",
    "driver = PySCFDriver(atom='H .0 .0 .0; H .0 .0 0.735',\n",
    "                     unit=UnitsType.ANGSTROM,\n",
    "                     basis='sto3g')\n",
    "problem = ElectronicStructureProblem(driver)"
   ]
  },
  {
   "cell_type": "code",
   "execution_count": 4,
   "id": "b62141d8",
   "metadata": {},
   "outputs": [],
   "source": [
    "# generate the second-quantized operators\n",
    "second_q_ops = problem.second_q_ops()\n",
    "main_op = second_q_ops['ElectronicEnergy']\n",
    "\n",
    "particle_number = problem.grouped_property_transformed.get_property(\"ParticleNumber\")\n",
    "\n",
    "num_particles = (particle_number.num_alpha, particle_number.num_beta)\n",
    "num_spin_orbitals = particle_number.num_spin_orbitals"
   ]
  },
  {
   "cell_type": "code",
   "execution_count": 5,
   "id": "9119e92f",
   "metadata": {},
   "outputs": [],
   "source": [
    "# setup the classical optimizer for VQE\n",
    "from qiskit.algorithms.optimizers import L_BFGS_B\n",
    "\n",
    "optimizer = L_BFGS_B()\n",
    "\n",
    "# setup the mapper and qubit converter\n",
    "from qiskit_nature.mappers.second_quantization import ParityMapper\n",
    "from qiskit_nature.converters.second_quantization import QubitConverter\n",
    "\n",
    "mapper = ParityMapper()\n",
    "converter = QubitConverter(mapper=mapper, two_qubit_reduction=True)"
   ]
  },
  {
   "cell_type": "code",
   "execution_count": 6,
   "id": "dfb99d89",
   "metadata": {},
   "outputs": [
    {
     "name": "stdout",
     "output_type": "stream",
     "text": [
      "4\n"
     ]
    }
   ],
   "source": [
    "# map to qubit operators\n",
    "qubit_op = converter.convert(main_op, num_particles=num_particles)\n",
    "\n",
    "# setup the initial state for the ansatz\n",
    "from qiskit_nature.circuit.library import HartreeFock\n",
    "\n",
    "init_state = HartreeFock(num_spin_orbitals, num_particles, converter)\n",
    "\n",
    "# setup the ansatz for VQE\n",
    "from qiskit.circuit.library import TwoLocal\n",
    "\n",
    "ansatz = TwoLocal(num_spin_orbitals, ['ry', 'rz'], 'cz')\n",
    "\n",
    "print(num_spin_orbitals)\n",
    "\n",
    "# add the initial state\n",
    "ansatz.compose(init_state, front=True, inplace=True)\n"
   ]
  },
  {
   "cell_type": "code",
   "execution_count": 7,
   "id": "264aa93a",
   "metadata": {},
   "outputs": [
    {
     "name": "stdout",
     "output_type": "stream",
     "text": [
      "-1.857275030068881\n",
      "=== GROUND STATE ENERGY ===\n",
      " \n",
      "* Electronic ground state energy (Hartree): -1.857275030069\n",
      "  - computed part:      -1.857275030069\n",
      "~ Nuclear repulsion energy (Hartree): 0.719968994449\n",
      "> Total ground state energy (Hartree): -1.13730603562\n",
      " \n",
      "=== MEASURED OBSERVABLES ===\n",
      " \n",
      " \n",
      "=== DIPOLE MOMENTS ===\n",
      " \n",
      "~ Nuclear dipole moment (a.u.): [0.0  0.0  1.3889487]\n",
      " \n"
     ]
    }
   ],
   "source": [
    "# set the backend for the quantum computation\n",
    "from qiskit import Aer\n",
    "\n",
    "backend = Aer.get_backend('aer_simulator_statevector')\n",
    "\n",
    "# setup and run VQE\n",
    "from qiskit.algorithms import VQE\n",
    "\n",
    "algorithm = VQE(ansatz,\n",
    "                optimizer=optimizer,\n",
    "                quantum_instance=backend)\n",
    "\n",
    "result = algorithm.compute_minimum_eigenvalue(qubit_op)\n",
    "print(result.eigenvalue.real)\n",
    "\n",
    "electronic_structure_result = problem.interpret(result)\n",
    "print(electronic_structure_result)"
   ]
  }
 ],
 "metadata": {
  "kernelspec": {
   "display_name": "Python 3",
   "language": "python",
   "name": "python3"
  },
  "language_info": {
   "codemirror_mode": {
    "name": "ipython",
    "version": 3
   },
   "file_extension": ".py",
   "mimetype": "text/x-python",
   "name": "python",
   "nbconvert_exporter": "python",
   "pygments_lexer": "ipython3",
   "version": "3.8.10"
  }
 },
 "nbformat": 4,
 "nbformat_minor": 5
}
