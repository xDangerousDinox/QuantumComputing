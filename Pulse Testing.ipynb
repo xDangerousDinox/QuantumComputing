{
 "cells": [
  {
   "cell_type": "code",
   "execution_count": 3,
   "id": "a3599311",
   "metadata": {},
   "outputs": [
    {
     "name": "stderr",
     "output_type": "stream",
     "text": [
      "C:\\Users\\ahoyt\\AppData\\Local\\Temp\\ipykernel_10920\\3869693394.py:12: DeprecationWarning: The qiskit.ignis package is deprecated and has been supersceded by the qiskit-experiments project. Refer to the migration guide: https://github.com/Qiskit/qiskit-ignis#migration-guide on how to migrate to the new project.\n",
      "  from qiskit.ignis.verification.tomography import state_tomography_circuits, StateTomographyFitter\n"
     ]
    }
   ],
   "source": [
    "from qiskit import *\n",
    "from qiskit import QuantumCircuit\n",
    "from qiskit import IBMQ\n",
    "from qiskit import transpile\n",
    "import numpy as np\n",
    "from qiskit.quantum_info import Statevector, DensityMatrix\n",
    "from qiskit.visualization import plot_state_city\n",
    "from qiskit.tools.monitor import job_monitor, backend_monitor, backend_overview\n",
    "from qiskit.providers.aer import AerSimulator\n",
    "from qiskit import Aer\n",
    "from qiskit.visualization import plot_histogram\n",
    "from qiskit.ignis.verification.tomography import state_tomography_circuits, StateTomographyFitter\n",
    "from qiskit.ignis.verification.tomography import process_tomography_circuits, ProcessTomographyFitter\n",
    "from qiskit.ignis.verification.tomography import gateset_tomography_circuits, GatesetTomographyFitter\n",
    "from qiskit.quantum_info import state_fidelity, partial_trace\n",
    "from qiskit.utils.mitigation import CompleteMeasFitter, complete_meas_cal\n",
    "import qiskit.ignis.mitigation.measurement as mc\n",
    "import qiskit.quantum_info as qi\n",
    "import copy\n",
    "\n",
    "from qiskit import transpile\n",
    "from qiskit.circuit import ClassicalRegister, QuantumCircuit, QuantumRegister\n",
    "from qiskit.transpiler.passmanager import PassManager\n",
    "\n",
    "from qiskit.transpiler import InstructionDurations\n",
    "from qiskit.transpiler.passes.scheduling import ALAPScheduleAnalysis\n",
    "from qiskit.transpiler.passes.scheduling import PadDelay\n",
    "\n",
    "from qiskit.circuit.library import XGate\n",
    "from qiskit.circuit.library import YGate\n",
    "\n",
    "from qiskit.transpiler.passes import ASAPScheduleAnalysis, PadDynamicalDecoupling\n",
    "from qiskit.visualization import timeline_drawer\n",
    "\n",
    "from qiskit import pulse\n",
    "\n",
    "import matplotlib.pyplot as plt\n",
    "\n",
    "from qiskit.pulse import library\n",
    "\n",
    "import math"
   ]
  },
  {
   "cell_type": "code",
   "execution_count": 4,
   "id": "ad2a6d18",
   "metadata": {},
   "outputs": [
    {
     "name": "stderr",
     "output_type": "stream",
     "text": [
      "accountprovider._discover_remote_backends:WARNING:2022-11-29 12:58:32,447: Remote backend \"ibmq_lima\" for provider <AccountProvider for IBMQ(hub='ibm-q', group='open', project='main')> could not be instantiated due to an invalid config: Traceback (most recent call last):\n",
      "  File \"C:\\Users\\ahoyt\\anaconda3\\envs\\csq\\lib\\site-packages\\qiskit\\providers\\ibmq\\accountprovider.py\", line 198, in _discover_remote_backends\n",
      "    config = PulseBackendConfiguration.from_dict(raw_config)\n",
      "  File \"C:\\Users\\ahoyt\\anaconda3\\envs\\csq\\lib\\site-packages\\qiskit\\providers\\models\\backendconfiguration.py\", line 692, in from_dict\n",
      "    input_uchannels = in_data.pop(\"u_channel_lo\")\n",
      "KeyError: 'u_channel_lo'\n",
      "\n",
      "During handling of the above exception, another exception occurred:\n",
      "\n",
      "Traceback (most recent call last):\n",
      "  File \"C:\\Users\\ahoyt\\anaconda3\\envs\\csq\\lib\\site-packages\\qiskit\\providers\\ibmq\\accountprovider.py\", line 200, in _discover_remote_backends\n",
      "    config = QasmBackendConfiguration.from_dict(raw_config)\n",
      "  File \"C:\\Users\\ahoyt\\anaconda3\\envs\\csq\\lib\\site-packages\\qiskit\\providers\\models\\backendconfiguration.py\", line 402, in from_dict\n",
      "    return cls(**in_data)\n",
      "TypeError: __init__() missing 2 required positional arguments: 'local' and 'conditional'\n",
      "\n",
      "accountprovider._discover_remote_backends:WARNING:2022-11-29 12:58:32,448: Remote backend \"ibmq_belem\" for provider <AccountProvider for IBMQ(hub='ibm-q', group='open', project='main')> could not be instantiated due to an invalid config: Traceback (most recent call last):\n",
      "  File \"C:\\Users\\ahoyt\\anaconda3\\envs\\csq\\lib\\site-packages\\qiskit\\providers\\ibmq\\accountprovider.py\", line 198, in _discover_remote_backends\n",
      "    config = PulseBackendConfiguration.from_dict(raw_config)\n",
      "  File \"C:\\Users\\ahoyt\\anaconda3\\envs\\csq\\lib\\site-packages\\qiskit\\providers\\models\\backendconfiguration.py\", line 692, in from_dict\n",
      "    input_uchannels = in_data.pop(\"u_channel_lo\")\n",
      "KeyError: 'u_channel_lo'\n",
      "\n",
      "During handling of the above exception, another exception occurred:\n",
      "\n",
      "Traceback (most recent call last):\n",
      "  File \"C:\\Users\\ahoyt\\anaconda3\\envs\\csq\\lib\\site-packages\\qiskit\\providers\\ibmq\\accountprovider.py\", line 200, in _discover_remote_backends\n",
      "    config = QasmBackendConfiguration.from_dict(raw_config)\n",
      "  File \"C:\\Users\\ahoyt\\anaconda3\\envs\\csq\\lib\\site-packages\\qiskit\\providers\\models\\backendconfiguration.py\", line 402, in from_dict\n",
      "    return cls(**in_data)\n",
      "TypeError: __init__() missing 2 required positional arguments: 'local' and 'conditional'\n",
      "\n",
      "accountprovider._discover_remote_backends:WARNING:2022-11-29 12:58:32,449: Remote backend \"ibmq_quito\" for provider <AccountProvider for IBMQ(hub='ibm-q', group='open', project='main')> could not be instantiated due to an invalid config: Traceback (most recent call last):\n",
      "  File \"C:\\Users\\ahoyt\\anaconda3\\envs\\csq\\lib\\site-packages\\qiskit\\providers\\ibmq\\accountprovider.py\", line 198, in _discover_remote_backends\n",
      "    config = PulseBackendConfiguration.from_dict(raw_config)\n",
      "  File \"C:\\Users\\ahoyt\\anaconda3\\envs\\csq\\lib\\site-packages\\qiskit\\providers\\models\\backendconfiguration.py\", line 692, in from_dict\n",
      "    input_uchannels = in_data.pop(\"u_channel_lo\")\n",
      "KeyError: 'u_channel_lo'\n",
      "\n",
      "During handling of the above exception, another exception occurred:\n",
      "\n",
      "Traceback (most recent call last):\n",
      "  File \"C:\\Users\\ahoyt\\anaconda3\\envs\\csq\\lib\\site-packages\\qiskit\\providers\\ibmq\\accountprovider.py\", line 200, in _discover_remote_backends\n",
      "    config = QasmBackendConfiguration.from_dict(raw_config)\n",
      "  File \"C:\\Users\\ahoyt\\anaconda3\\envs\\csq\\lib\\site-packages\\qiskit\\providers\\models\\backendconfiguration.py\", line 402, in from_dict\n",
      "    return cls(**in_data)\n",
      "TypeError: __init__() missing 2 required positional arguments: 'local' and 'conditional'\n",
      "\n",
      "accountprovider._discover_remote_backends:WARNING:2022-11-29 12:58:32,453: Remote backend \"ibm_oslo\" for provider <AccountProvider for IBMQ(hub='ibm-q', group='open', project='main')> could not be instantiated due to an invalid config: Traceback (most recent call last):\n",
      "  File \"C:\\Users\\ahoyt\\anaconda3\\envs\\csq\\lib\\site-packages\\qiskit\\providers\\ibmq\\accountprovider.py\", line 198, in _discover_remote_backends\n",
      "    config = PulseBackendConfiguration.from_dict(raw_config)\n",
      "  File \"C:\\Users\\ahoyt\\anaconda3\\envs\\csq\\lib\\site-packages\\qiskit\\providers\\models\\backendconfiguration.py\", line 692, in from_dict\n",
      "    input_uchannels = in_data.pop(\"u_channel_lo\")\n",
      "KeyError: 'u_channel_lo'\n",
      "\n",
      "During handling of the above exception, another exception occurred:\n",
      "\n",
      "Traceback (most recent call last):\n",
      "  File \"C:\\Users\\ahoyt\\anaconda3\\envs\\csq\\lib\\site-packages\\qiskit\\providers\\ibmq\\accountprovider.py\", line 200, in _discover_remote_backends\n",
      "    config = QasmBackendConfiguration.from_dict(raw_config)\n",
      "  File \"C:\\Users\\ahoyt\\anaconda3\\envs\\csq\\lib\\site-packages\\qiskit\\providers\\models\\backendconfiguration.py\", line 402, in from_dict\n",
      "    return cls(**in_data)\n",
      "TypeError: __init__() missing 2 required positional arguments: 'local' and 'conditional'\n",
      "\n"
     ]
    },
    {
     "ename": "KeyError",
     "evalue": "'qubits'",
     "output_type": "error",
     "traceback": [
      "\u001b[1;31m---------------------------------------------------------------------------\u001b[0m",
      "\u001b[1;31mKeyError\u001b[0m                                  Traceback (most recent call last)",
      "Input \u001b[1;32mIn [4]\u001b[0m, in \u001b[0;36m<cell line: 7>\u001b[1;34m()\u001b[0m\n\u001b[0;32m      5\u001b[0m \u001b[38;5;66;03m# Load Backends\u001b[39;00m\n\u001b[0;32m      6\u001b[0m ibm_real \u001b[38;5;241m=\u001b[39m provider\u001b[38;5;241m.\u001b[39mget_backend(\u001b[38;5;124m'\u001b[39m\u001b[38;5;124mibmq_manila\u001b[39m\u001b[38;5;124m'\u001b[39m)\n\u001b[1;32m----> 7\u001b[0m ibm_sim \u001b[38;5;241m=\u001b[39m \u001b[43mAerSimulator\u001b[49m\u001b[38;5;241;43m.\u001b[39;49m\u001b[43mfrom_backend\u001b[49m\u001b[43m(\u001b[49m\u001b[43mibm_real\u001b[49m\u001b[43m)\u001b[49m\n\u001b[0;32m      8\u001b[0m aer_sim \u001b[38;5;241m=\u001b[39m Aer\u001b[38;5;241m.\u001b[39mget_backend(\u001b[38;5;124m'\u001b[39m\u001b[38;5;124maer_simulator\u001b[39m\u001b[38;5;124m'\u001b[39m)\n\u001b[0;32m      9\u001b[0m ibm_real\u001b[38;5;241m.\u001b[39mconfiguration()\n",
      "File \u001b[1;32m~\\anaconda3\\envs\\csq\\lib\\site-packages\\qiskit\\providers\\aer\\backends\\aer_simulator.py:575\u001b[0m, in \u001b[0;36mAerSimulator.from_backend\u001b[1;34m(cls, backend, **options)\u001b[0m\n\u001b[0;32m    573\u001b[0m \u001b[38;5;66;03m# Get configuration and properties from backend\u001b[39;00m\n\u001b[0;32m    574\u001b[0m configuration \u001b[38;5;241m=\u001b[39m copy\u001b[38;5;241m.\u001b[39mcopy(backend\u001b[38;5;241m.\u001b[39mconfiguration())\n\u001b[1;32m--> 575\u001b[0m properties \u001b[38;5;241m=\u001b[39m copy\u001b[38;5;241m.\u001b[39mcopy(\u001b[43mbackend\u001b[49m\u001b[38;5;241;43m.\u001b[39;49m\u001b[43mproperties\u001b[49m\u001b[43m(\u001b[49m\u001b[43m)\u001b[49m)\n\u001b[0;32m    577\u001b[0m \u001b[38;5;66;03m# Customize configuration name\u001b[39;00m\n\u001b[0;32m    578\u001b[0m name \u001b[38;5;241m=\u001b[39m configuration\u001b[38;5;241m.\u001b[39mbackend_name\n",
      "File \u001b[1;32m~\\anaconda3\\envs\\csq\\lib\\site-packages\\qiskit\\providers\\ibmq\\ibmqbackend.py:453\u001b[0m, in \u001b[0;36mIBMQBackend.properties\u001b[1;34m(self, refresh, datetime)\u001b[0m\n\u001b[0;32m    451\u001b[0m \u001b[38;5;28;01mif\u001b[39;00m \u001b[38;5;129;01mnot\u001b[39;00m api_properties:\n\u001b[0;32m    452\u001b[0m     \u001b[38;5;28;01mreturn\u001b[39;00m \u001b[38;5;28;01mNone\u001b[39;00m\n\u001b[1;32m--> 453\u001b[0m \u001b[43mdecode_backend_properties\u001b[49m\u001b[43m(\u001b[49m\u001b[43mapi_properties\u001b[49m\u001b[43m)\u001b[49m\n\u001b[0;32m    454\u001b[0m api_properties \u001b[38;5;241m=\u001b[39m utc_to_local_all(api_properties)\n\u001b[0;32m    455\u001b[0m backend_properties \u001b[38;5;241m=\u001b[39m BackendProperties\u001b[38;5;241m.\u001b[39mfrom_dict(api_properties)\n",
      "File \u001b[1;32m~\\anaconda3\\envs\\csq\\lib\\site-packages\\qiskit\\providers\\ibmq\\utils\\json_decoder.py:58\u001b[0m, in \u001b[0;36mdecode_backend_properties\u001b[1;34m(properties)\u001b[0m\n\u001b[0;32m     52\u001b[0m \u001b[38;5;124;03m\"\"\"Decode backend properties.\u001b[39;00m\n\u001b[0;32m     53\u001b[0m \n\u001b[0;32m     54\u001b[0m \u001b[38;5;124;03mArgs:\u001b[39;00m\n\u001b[0;32m     55\u001b[0m \u001b[38;5;124;03m    properties: A ``BackendProperties`` in dictionary format.\u001b[39;00m\n\u001b[0;32m     56\u001b[0m \u001b[38;5;124;03m\"\"\"\u001b[39;00m\n\u001b[0;32m     57\u001b[0m properties[\u001b[38;5;124m'\u001b[39m\u001b[38;5;124mlast_update_date\u001b[39m\u001b[38;5;124m'\u001b[39m] \u001b[38;5;241m=\u001b[39m dateutil\u001b[38;5;241m.\u001b[39mparser\u001b[38;5;241m.\u001b[39misoparse(properties[\u001b[38;5;124m'\u001b[39m\u001b[38;5;124mlast_update_date\u001b[39m\u001b[38;5;124m'\u001b[39m])\n\u001b[1;32m---> 58\u001b[0m \u001b[38;5;28;01mfor\u001b[39;00m qubit \u001b[38;5;129;01min\u001b[39;00m \u001b[43mproperties\u001b[49m\u001b[43m[\u001b[49m\u001b[38;5;124;43m'\u001b[39;49m\u001b[38;5;124;43mqubits\u001b[39;49m\u001b[38;5;124;43m'\u001b[39;49m\u001b[43m]\u001b[49m:\n\u001b[0;32m     59\u001b[0m     \u001b[38;5;28;01mfor\u001b[39;00m nduv \u001b[38;5;129;01min\u001b[39;00m qubit:\n\u001b[0;32m     60\u001b[0m         nduv[\u001b[38;5;124m'\u001b[39m\u001b[38;5;124mdate\u001b[39m\u001b[38;5;124m'\u001b[39m] \u001b[38;5;241m=\u001b[39m dateutil\u001b[38;5;241m.\u001b[39mparser\u001b[38;5;241m.\u001b[39misoparse(nduv[\u001b[38;5;124m'\u001b[39m\u001b[38;5;124mdate\u001b[39m\u001b[38;5;124m'\u001b[39m])\n",
      "\u001b[1;31mKeyError\u001b[0m: 'qubits'"
     ]
    }
   ],
   "source": [
    "# Load IBM Account\n",
    "IBMQ.load_account()\n",
    "provider = IBMQ.get_provider('ibm-q')\n",
    "\n",
    "# Load Backends\n",
    "ibm_real = provider.get_backend('ibmq_manila')\n",
    "ibm_sim = AerSimulator.from_backend(ibm_real)\n",
    "aer_sim = Aer.get_backend('aer_simulator')\n",
    "ibm_real.configuration()"
   ]
  },
  {
   "cell_type": "code",
   "execution_count": 3,
   "id": "670bf98f",
   "metadata": {},
   "outputs": [
    {
     "data": {
      "image/png": "[encoded data removed]",
      "text/plain": [
       "<Figure size 936x550.8 with 1 Axes>"
      ]
     },
     "execution_count": 3,
     "metadata": {},
     "output_type": "execute_result"
    }
   ],
   "source": [
    "with pulse.build(backend=ibm_real, name='pulse_program') as pulse_program:\n",
    "    # Create a pulse.\n",
    "    gaussian_pulse = library.gaussian(10, 1, 2)\n",
    "    # Get the qubit's corresponding drive channel from the backend.\n",
    "    d0 = pulse.drive_channel(0)\n",
    "    d1 = pulse.drive_channel(1)\n",
    "    \n",
    "    pulse.play(gaussian_pulse, d0)\n",
    "    # Play another pulse directly after the previous pulse at t=10.\n",
    "    pulse.play(gaussian_pulse, d0)\n",
    "    \n",
    "    # The default scheduling behavior is to schedule pulses in parallel\n",
    "    # across channels. For example, the statement below\n",
    "    # plays the same pulse on a different channel at t=0.\n",
    "    \n",
    "    pulse.play(gaussian_pulse, d1)\n",
    "    with pulse.align_sequential():\n",
    "        pulse.play(gaussian_pulse, d0)\n",
    "        # Play another pulse after at t=20.\n",
    "        pulse.play(gaussian_pulse, d1)\n",
    "        with pulse.align_left():\n",
    "            # Start at t=30.\n",
    "            pulse.play(gaussian_pulse, d0)\n",
    "            # Start at t=30.\n",
    "            pulse.play(gaussian_pulse, d1)\n",
    "            # Context ends at t=40.\n",
    "            \n",
    "        with pulse.align_right():\n",
    "            # Shift the phase of a pulse channel.\n",
    "            pulse.shift_phase(math.pi, d1)\n",
    "            # Starts at t=40.\n",
    "            pulse.delay(100, d0)\n",
    "            # Ends at t=140.\n",
    "\n",
    "            # Starts at t=130.\n",
    "            pulse.play(gaussian_pulse, d1)\n",
    "            # Ends at t=140.\n",
    "            \n",
    "        # Call a quantum circuit. The pulse builder lazily constructs a quantum\n",
    "        # circuit which is then transpiled and scheduled before inserting into\n",
    "        # a pulse schedule.\n",
    "        # NOTE: Quantum register indices correspond to physical qubit indices.\n",
    "        qc = QuantumCircuit(2, 2)\n",
    "        qc.cx(0, 1)\n",
    "        pulse.call(qc)\n",
    "            \n",
    "    \n",
    "pulse_program.draw(backend=ibm_real)"
   ]
  },
  {
   "cell_type": "code",
   "execution_count": 4,
   "id": "645bda2f",
   "metadata": {},
   "outputs": [
    {
     "data": {
      "text/plain": [
       "<qiskit.circuit.instructionset.InstructionSet at 0x1775b746d40>"
      ]
     },
     "execution_count": 4,
     "metadata": {},
     "output_type": "execute_result"
    }
   ],
   "source": [
    "cregister = ClassicalRegister(5, 'c')\n",
    "qregister = QuantumRegister(5, 'q')\n",
    "\n",
    "bell_state_measurement = QuantumCircuit(qregister, cregister)\n",
    "\n",
    "bell_state_measurement.cx(1, 3)\n",
    "bell_state_measurement.h(1)"
   ]
  },
  {
   "cell_type": "code",
   "execution_count": 5,
   "id": "63bc9c3c",
   "metadata": {},
   "outputs": [
    {
     "data": {
      "text/plain": [
       "<qiskit.circuit.instructionset.InstructionSet at 0x1775468f280>"
      ]
     },
     "execution_count": 5,
     "metadata": {},
     "output_type": "execute_result"
    }
   ],
   "source": [
    "Y2 = QuantumCircuit(qregister, cregister)\n",
    "Y2.y(2)\n",
    "Y0 = QuantumCircuit(qregister, cregister)\n",
    "Y0.y(0)\n",
    "X2 = QuantumCircuit(qregister, cregister)\n",
    "X2.x(2)\n",
    "X0 = QuantumCircuit(qregister, cregister)\n",
    "X0.x(0)\n",
    "X4 = QuantumCircuit(qregister, cregister)\n",
    "X4.x(4)\n",
    "# XY4.y(2)\n",
    "# XY4.x(2)\n",
    "# XY4.y(2)"
   ]
  },
  {
   "cell_type": "code",
   "execution_count": 6,
   "id": "82ae242d",
   "metadata": {},
   "outputs": [],
   "source": [
    "# Create CHSH3 Bell Test\n",
    "chsh3test = []\n",
    "rotate_az_cDzx = QuantumCircuit(qregister, cregister)\n",
    "rotate_az_cDzx.ry(-np.pi/4, 4)\n",
    "chsh3test.append(rotate_az_cDzx)\n",
    "\n",
    "rotate_az_cEzx = QuantumCircuit(qregister, cregister)\n",
    "rotate_az_cEzx.ry(np.pi/4, 4)\n",
    "chsh3test.append(rotate_az_cEzx)\n",
    "\n",
    "rotate_ax_cDzx = QuantumCircuit(qregister, cregister)\n",
    "rotate_ax_cDzx.ry(-np.pi/2, 0)\n",
    "rotate_ax_cDzx.ry(-np.pi/4, 4)\n",
    "chsh3test.append(rotate_ax_cDzx)\n",
    "\n",
    "rotate_ax_cEzx = QuantumCircuit(qregister, cregister)\n",
    "rotate_ax_cEzx.ry(-np.pi/2, 0)\n",
    "rotate_ax_cEzx.ry(np.pi/4, 4)\n",
    "chsh3test.append(rotate_ax_cEzx)\n",
    "rotate_az_cDzy = QuantumCircuit(qregister, cregister)\n",
    "rotate_az_cDzy.rx(np.pi/4, 4)\n",
    "chsh3test.append(rotate_az_cDzy)\n",
    "\n",
    "rotate_az_cEzy = QuantumCircuit(qregister, cregister)\n",
    "rotate_az_cEzy.rx(-np.pi/4, 4)\n",
    "chsh3test.append(rotate_az_cEzy)\n",
    "\n",
    "rotate_ay_cDzy = QuantumCircuit(qregister, cregister)\n",
    "rotate_ay_cDzy.rx(np.pi/2, 0)\n",
    "rotate_ay_cDzy.rx(np.pi/4, 4)\n",
    "chsh3test.append(rotate_ay_cDzy)\n",
    "\n",
    "rotate_ay_cEzy = QuantumCircuit(qregister, cregister)\n",
    "rotate_ay_cEzy.rx(np.pi/2, 0)\n",
    "rotate_ay_cEzy.rx(-np.pi/4, 4)\n",
    "chsh3test.append(rotate_ay_cEzy)\n",
    "rotate_ax_cDxy = QuantumCircuit(qregister, cregister)\n",
    "rotate_ax_cDxy.ry(-np.pi/2, 0)\n",
    "rotate_ax_cDxy.rz(-np.pi/4, 4)\n",
    "rotate_ax_cDxy.ry(-np.pi/2, 4)\n",
    "chsh3test.append(rotate_ax_cDxy)\n",
    "\n",
    "rotate_ax_cExy = QuantumCircuit(qregister, cregister)\n",
    "rotate_ax_cExy.ry(-np.pi/2, 0)\n",
    "rotate_ax_cExy.rz(np.pi/4, 4)\n",
    "rotate_ax_cExy.ry(-np.pi/2, 4)\n",
    "chsh3test.append(rotate_ax_cExy)\n",
    "\n",
    "rotate_ay_cDxy = QuantumCircuit(qregister, cregister)\n",
    "rotate_ay_cDxy.rx(np.pi/2, 0)\n",
    "rotate_ay_cDxy.rz(-np.pi/4, 4)\n",
    "rotate_ay_cDxy.ry(-np.pi/2, 4)\n",
    "chsh3test.append(rotate_ay_cDxy)\n",
    "\n",
    "rotate_ay_cExy = QuantumCircuit(qregister, cregister)\n",
    "rotate_ay_cExy.rx(np.pi/2, 0)\n",
    "rotate_ay_cExy.rz(np.pi/4, 4)\n",
    "rotate_ay_cExy.ry(-np.pi/2, 4)\n",
    "chsh3test.append(rotate_ay_cExy)"
   ]
  },
  {
   "cell_type": "code",
   "execution_count": 7,
   "id": "03b73b5f",
   "metadata": {},
   "outputs": [
    {
     "data": {
      "text/plain": [
       "<qiskit.circuit.instructionset.InstructionSet at 0x17750c6c940>"
      ]
     },
     "execution_count": 7,
     "metadata": {},
     "output_type": "execute_result"
    }
   ],
   "source": [
    "measurement = QuantumCircuit(qregister, cregister)\n",
    "measurement.measure((0, 1, 3, 4), (0, 1, 3, 4))"
   ]
  },
  {
   "cell_type": "code",
   "execution_count": 8,
   "id": "4573cdcc",
   "metadata": {},
   "outputs": [
    {
     "ename": "NameError",
     "evalue": "name 'i' is not defined",
     "output_type": "error",
     "traceback": [
      "\u001b[1;31m---------------------------------------------------------------------------\u001b[0m",
      "\u001b[1;31mNameError\u001b[0m                                 Traceback (most recent call last)",
      "Input \u001b[1;32mIn [8]\u001b[0m, in \u001b[0;36m<cell line: 1>\u001b[1;34m()\u001b[0m\n\u001b[0;32m     47\u001b[0m             pulse\u001b[38;5;241m.\u001b[39mcall(Y2)\n\u001b[0;32m     49\u001b[0m         \u001b[38;5;28;01mwith\u001b[39;00m pulse\u001b[38;5;241m.\u001b[39malign_right():\n\u001b[1;32m---> 50\u001b[0m             pulse\u001b[38;5;241m.\u001b[39mcall(chsh3test[\u001b[43mi\u001b[49m])\n\u001b[0;32m     52\u001b[0m         pulse\u001b[38;5;241m.\u001b[39mcall(measurement)\n\u001b[0;32m     58\u001b[0m pulse_program2\u001b[38;5;241m.\u001b[39mdraw(backend\u001b[38;5;241m=\u001b[39mibm_real)\n",
      "\u001b[1;31mNameError\u001b[0m: name 'i' is not defined"
     ]
    }
   ],
   "source": [
    "\n",
    "\n",
    "with pulse.build(backend=ibm_real, name='pulse_program') as pulse_program2:\n",
    "    d0 = pulse.drive_channel(0)\n",
    "    d1 = pulse.drive_channel(1)\n",
    "    d2 = pulse.drive_channel(2)\n",
    "    d3 = pulse.drive_channel(3)\n",
    "    d4 = pulse.drive_channel(4)\n",
    "    with pulse.align_sequential():\n",
    "        with pulse.align_left():\n",
    "            initial_epr = QuantumCircuit(qregister, cregister)\n",
    "            initial_epr.h(0)\n",
    "            initial_epr.cx(0, 1)\n",
    "            initial_epr.h(3)\n",
    "            initial_epr.cx(3, 4)\n",
    "            pulse.call(transpile(initial_epr, ibm_real))\n",
    "            \n",
    "            # Target Spectator qubit 2 XX delay XX\n",
    "            pulse.delay(200, d2)\n",
    "            pulse.x(2)\n",
    "            pulse.call(X2)\n",
    "            pulse.delay(290, d2)\n",
    "            pulse.x(2)\n",
    "            pulse.call(X2)\n",
    "            pulse.delay(150, d3)\n",
    "            pulse.delay(150, d1)\n",
    "            \n",
    "            pulse.call(bell_state_measurement, ibm_real)\n",
    "            \n",
    "            # Target Spectator qubit 4 XX delay XX\n",
    "            pulse.x(4)\n",
    "            pulse.call(X4)\n",
    "            pulse.delay(500, d4)\n",
    "            pulse.x(4)\n",
    "            pulse.call(X4)\n",
    "            \n",
    "            # Control Spectator qubit 0 XY4\n",
    "            pulse.delay(280, d0)\n",
    "            pulse.call(X0)\n",
    "            pulse.call(Y0)\n",
    "            pulse.call(X0)\n",
    "            pulse.call(Y0)\n",
    "            \n",
    "            # Control Spectator qubit 2 XY4\n",
    "            pulse.delay(560, d2)\n",
    "            pulse.call(X2)\n",
    "            pulse.call(Y2)\n",
    "            pulse.call(X2)\n",
    "            pulse.call(Y2)\n",
    "            \n",
    "        with pulse.align_right():\n",
    "            pulse.call(chsh3test[i])\n",
    "            \n",
    "        pulse.call(measurement)\n",
    "            \n",
    "            \n",
    "    \n",
    "            \n",
    "            \n",
    "pulse_program2.draw(backend=ibm_real)"
   ]
  },
  {
   "cell_type": "code",
   "execution_count": 1,
   "id": "a6796df5",
   "metadata": {},
   "outputs": [
    {
     "ename": "NameError",
     "evalue": "name 'InstructionDurations' is not defined",
     "output_type": "error",
     "traceback": [
      "\u001b[1;31m---------------------------------------------------------------------------\u001b[0m",
      "\u001b[1;31mNameError\u001b[0m                                 Traceback (most recent call last)",
      "Input \u001b[1;32mIn [1]\u001b[0m, in \u001b[0;36m<cell line: 2>\u001b[1;34m()\u001b[0m\n\u001b[0;32m      1\u001b[0m \u001b[38;5;66;03m# create instruction durations from the real backend\u001b[39;00m\n\u001b[1;32m----> 2\u001b[0m ID \u001b[38;5;241m=\u001b[39m \u001b[43mInstructionDurations\u001b[49m()\n\u001b[0;32m      3\u001b[0m durations \u001b[38;5;241m=\u001b[39m ID\u001b[38;5;241m.\u001b[39mfrom_backend(ibm_real)\n\u001b[0;32m      4\u001b[0m \u001b[38;5;66;03m# balanced X-Y sequence on all qubits\u001b[39;00m\n",
      "\u001b[1;31mNameError\u001b[0m: name 'InstructionDurations' is not defined"
     ]
    }
   ],
   "source": [
    "# create instruction durations from the real backend\n",
    "ID = InstructionDurations()\n",
    "durations = ID.from_backend(ibm_real)\n",
    "# balanced X-Y sequence on all qubits\n",
    "dd_sequence = [XGate(), XGate(), XGate(), XGate()]\n",
    "pm = PassManager([ALAPScheduleAnalysis(durations),\n",
    "                  PadDynamicalDecoupling(durations, dd_sequence, skip_reset_qubits=False, qubits=[0, 4])])\n",
    "circ_dd = pm.run(transpile(circuit_experiments[1], ibm_real))\n",
    "timeline_drawer(circ_dd)\n",
    "\n",
    "for i in range(len(chsh3test)):\n",
    "    circ_dd = copy.deepcopy(circuit_experiments[i])\n",
    "    circ_dd.x(2)\n",
    "    circ_dd.y(2)\n",
    "    circ_dd.x(2)\n",
    "    circ_dd.y(2)\n",
    "    circ_dd = pm.run(transpile(circ_dd, ibm_real))\n",
    "    transpiled_circuit_exp.append(circ_dd)\n",
    "\n",
    "\n",
    "transpiled_circuit_exp[-1].draw('mpl')"
   ]
  },
  {
   "cell_type": "code",
   "execution_count": null,
   "id": "6122afff",
   "metadata": {},
   "outputs": [],
   "source": [
    "timeline_drawer(circ_dd)"
   ]
  },
  {
   "cell_type": "code",
   "execution_count": 2,
   "id": "9eb8cdb6",
   "metadata": {},
   "outputs": [
    {
     "ename": "NameError",
     "evalue": "name 'pulse' is not defined",
     "output_type": "error",
     "traceback": [
      "\u001b[1;31m---------------------------------------------------------------------------\u001b[0m",
      "\u001b[1;31mNameError\u001b[0m                                 Traceback (most recent call last)",
      "Input \u001b[1;32mIn [2]\u001b[0m, in \u001b[0;36m<cell line: 1>\u001b[1;34m()\u001b[0m\n\u001b[1;32m----> 1\u001b[0m \u001b[38;5;28;01mwith\u001b[39;00m \u001b[43mpulse\u001b[49m\u001b[38;5;241m.\u001b[39mbuild(backend\u001b[38;5;241m=\u001b[39mibm_real, name\u001b[38;5;241m=\u001b[39m\u001b[38;5;124m'\u001b[39m\u001b[38;5;124mpulse_program\u001b[39m\u001b[38;5;124m'\u001b[39m) \u001b[38;5;28;01mas\u001b[39;00m pulse_program:\n\u001b[0;32m      2\u001b[0m     pulse\u001b[38;5;241m.\u001b[39mcall(transpiled_circuit_exp[\u001b[38;5;241m-\u001b[39m\u001b[38;5;241m1\u001b[39m])\n\u001b[0;32m      3\u001b[0m     qc \u001b[38;5;241m=\u001b[39m QuantumCircuit(\u001b[38;5;241m4\u001b[39m, \u001b[38;5;241m4\u001b[39m)\n",
      "\u001b[1;31mNameError\u001b[0m: name 'pulse' is not defined"
     ]
    }
   ],
   "source": [
    "with pulse.build(backend=ibm_real, name='pulse_program') as pulse_program:\n",
    "    pulse.call(transpiled_circuit_exp[-1])\n",
    "    qc = QuantumCircuit(4, 4)\n",
    "    qc.x(2)\n",
    "    pulse.call(qc)\n",
    "    \n",
    "pulse_program.draw(backend=ibm_real)"
   ]
  },
  {
   "cell_type": "code",
   "execution_count": null,
   "id": "5717c918",
   "metadata": {},
   "outputs": [],
   "source": [
    "from qiskit import IBMQ\n",
    "provider = IBMQ.load_account()\n",
    "backends_supporting_openpulse = provider.backends(filters=lambda b: b.configuration().open_pulse)"
   ]
  },
  {
   "cell_type": "code",
   "execution_count": null,
   "id": "05660c1b",
   "metadata": {},
   "outputs": [],
   "source": [
    "print(backends_supporting_openpulse)"
   ]
  },
  {
   "cell_type": "code",
   "execution_count": null,
   "id": "48cc521c",
   "metadata": {},
   "outputs": [],
   "source": []
  }
 ],
 "metadata": {
  "kernelspec": {
   "display_name": "Python 3 (ipykernel)",
   "language": "python",
   "name": "python3"
  },
  "language_info": {
   "codemirror_mode": {
    "name": "ipython",
    "version": 3
   },
   "file_extension": ".py",
   "mimetype": "text/x-python",
   "name": "python",
   "nbconvert_exporter": "python",
   "pygments_lexer": "ipython3",
   "version": "3.8.10"
  }
 },
 "nbformat": 4,
 "nbformat_minor": 5
}
