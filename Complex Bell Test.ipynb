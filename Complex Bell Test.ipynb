{
 "cells": [
  {
   "cell_type": "code",
   "execution_count": 1,
   "id": "72416e57",
   "metadata": {},
   "outputs": [],
   "source": [
    "from qiskit import *\n",
    "from qiskit import QuantumCircuit\n",
    "from qiskit import IBMQ\n",
    "from qiskit import transpile\n",
    "import numpy as np\n",
    "from qiskit.tools.monitor import job_monitor, backend_monitor, backend_overview"
   ]
  },
  {
   "cell_type": "code",
   "execution_count": 2,
   "id": "21bad40d",
   "metadata": {},
   "outputs": [],
   "source": [
    "from qiskit import Aer\n",
    "sv_sim = Aer.get_backend('aer_simulator')"
   ]
  },
  {
   "cell_type": "code",
   "execution_count": 3,
   "id": "0de48f2c",
   "metadata": {},
   "outputs": [],
   "source": [
    "IBMQ.load_account()\n",
    "provider = IBMQ.get_provider('ibm-q')\n",
    "quito = provider.get_backend('ibmq_manila')"
   ]
  },
  {
   "cell_type": "code",
   "execution_count": 4,
   "id": "e9470cc3",
   "metadata": {},
   "outputs": [
    {
     "data": {
      "image/png": "[encoded data removed]",
      "text/plain": [
       "<Figure size 206.997x325.08 with 1 Axes>"
      ]
     },
     "execution_count": 4,
     "metadata": {},
     "output_type": "execute_result"
    }
   ],
   "source": [
    "initial_epr = QuantumCircuit(4, 4)\n",
    "\n",
    "#Hadmard gate on \n",
    "# initial_epr.h(0)\n",
    "# # #cnot gate on 0 and 1\n",
    "# initial_epr.cx(0, 1)\n",
    "# # #Hadmard gate on \n",
    "# initial_epr.h(2)\n",
    "# # #cnot gate on 0 and 1\n",
    "# initial_epr.cx(2, 3)\n",
    "#draw the circuit\n",
    "initial_epr.h(0)\n",
    "initial_epr.cx(0, 3)\n",
    "initial_epr.draw('mpl')"
   ]
  },
  {
   "cell_type": "code",
   "execution_count": 5,
   "id": "83b5087a",
   "metadata": {},
   "outputs": [
    {
     "data": {
      "image/png": "[encoded data removed]",
      "text/plain": [
       "<Figure size 568.197x325.08 with 1 Axes>"
      ]
     },
     "execution_count": 5,
     "metadata": {},
     "output_type": "execute_result"
    }
   ],
   "source": [
    "bell_state_measurement = QuantumCircuit(4, 4)\n",
    "\n",
    "#CNOT gate on 1 and 2\n",
    "bell_state_measurement.cx(1, 2)\n",
    "#Hadamard on 1\n",
    "bell_state_measurement.h(1)\n",
    "#barrier to seperate measurement\n",
    "bell_state_measurement.barrier((1, 2))\n",
    "#add z measurement\n",
    "bell_state_measurement.measure((1 , 2), (1, 2))\n",
    "bell_state_measurement.x(3).c_if(2, 1)\n",
    "bell_state_measurement.z(3).c_if(1, 1)\n",
    "#add barrier so BSM happens before CHSH\n",
    "bell_state_measurement.barrier(range(4))\n",
    "bell_state_measurement.draw('mpl')"
   ]
  },
  {
   "cell_type": "code",
   "execution_count": 6,
   "id": "2fc428ce",
   "metadata": {},
   "outputs": [
    {
     "data": {
      "image/png": "[encoded data removed]",
      "text/plain": [
       "<Figure size 146.797x325.08 with 1 Axes>"
      ]
     },
     "execution_count": 6,
     "metadata": {},
     "output_type": "execute_result"
    }
   ],
   "source": [
    "chsh1 = []\n",
    "\n",
    "rotate_az_cDzx = QuantumCircuit(4, 4)\n",
    "rotate_az_cDzx.ry(np.pi/4, 3)\n",
    "chsh1.append(rotate_az_cDzx)\n",
    "\n",
    "rotate_az_cEzx = QuantumCircuit(4, 4)\n",
    "rotate_az_cEzx.ry(-np.pi/4, 3)\n",
    "# rotate_az_cEzx.h(3)\n",
    "chsh1.append(rotate_az_cEzx)\n",
    "\n",
    "rotate_ax_cDzx = QuantumCircuit(4, 4)\n",
    "rotate_ax_cDzx.h(0)\n",
    "rotate_ax_cDzx.ry(np.pi/4, 3)\n",
    "chsh1.append(rotate_ax_cDzx)\n",
    "\n",
    "rotate_ax_cEzx = QuantumCircuit(4, 4)\n",
    "rotate_ax_cEzx.h(0)\n",
    "rotate_ax_cEzx.ry(-np.pi/4, 3)\n",
    "# rotate_ax_cEzx.h(3)\n",
    "chsh1.append(rotate_ax_cEzx)\n",
    "\n",
    "\n",
    "rotate_az_cDzy = QuantumCircuit(4, 4)\n",
    "rotate_az_cDzy.rx(-np.pi/4, 3)\n",
    "chsh1.append(rotate_az_cDzy)\n",
    "\n",
    "rotate_az_cEzy = QuantumCircuit(4, 4)\n",
    "rotate_az_cEzy.rx(np.pi/4, 3)\n",
    "chsh1.append(rotate_az_cEzy)\n",
    "\n",
    "rotate_ay_cDzy = QuantumCircuit(4, 4)\n",
    "# rotate_ay_cDzy.rx(-np.pi/2, 0)\n",
    "rotate_ay_cDzy.sdg(0)\n",
    "rotate_ay_cDzy.h(0)\n",
    "rotate_ay_cDzy.rx(-np.pi/4, 3)\n",
    "chsh1.append(rotate_ay_cDzy)\n",
    "\n",
    "rotate_ay_cEzy = QuantumCircuit(4, 4)\n",
    "# rotate_ay_cEzy.rx(-np.pi/2, 0)\n",
    "rotate_ay_cEzy.sdg(0)\n",
    "rotate_ay_cEzy.h(0)\n",
    "rotate_ay_cEzy.rx(np.pi/4, 3)\n",
    "chsh1.append(rotate_ay_cEzy)\n",
    "\n",
    "\n",
    "rotate_ax_cDxy = QuantumCircuit(4, 4)\n",
    "rotate_ax_cDxy.h(0)\n",
    "rotate_ax_cDxy.ry(np.pi/4, 3)\n",
    "rotate_ax_cDxy.rz(-np.pi/4, 3)\n",
    "chsh1.append(rotate_ax_cDxy)\n",
    "\n",
    "rotate_ax_cExy = QuantumCircuit(4, 4)\n",
    "rotate_ax_cExy.h(0)\n",
    "rotate_ax_cExy.ry(np.pi/4, 3)\n",
    "rotate_ax_cExy.rz(np.pi/4, 3)\n",
    "chsh1.append(rotate_ax_cExy)\n",
    "\n",
    "rotate_ay_cDxy = QuantumCircuit(4, 4)\n",
    "rotate_ay_cDxy.rx(-np.pi/2, 0)\n",
    "rotate_ay_cDxy.ry(np.pi/4, 3)\n",
    "rotate_ay_cDxy.rz(-np.pi/4, 3)\n",
    "chsh1.append(rotate_ay_cDxy)\n",
    "\n",
    "rotate_ay_cExy = QuantumCircuit(4, 4)\n",
    "rotate_ay_cExy.rx(-np.pi/2, 0)\n",
    "rotate_ay_cExy.ry(np.pi/4, 3)\n",
    "rotate_ay_cExy.rz(np.pi/4, 3)\n",
    "chsh1.append(rotate_ay_cExy)\n",
    "\n",
    "chsh1[3].draw('mpl')"
   ]
  },
  {
   "cell_type": "code",
   "execution_count": 7,
   "id": "fd3727e8",
   "metadata": {},
   "outputs": [
    {
     "data": {
      "text/html": [
       "<pre style=\"word-wrap: normal;white-space: pre;background: #fff0;line-height: 1.1;font-family: &quot;Courier New&quot;,Courier,monospace\">      ░ ┌─┐   \n",
       "q_0: ─░─┤M├───\n",
       "      ░ └╥┘   \n",
       "q_1: ─░──╫────\n",
       "      ░  ║    \n",
       "q_2: ─░──╫────\n",
       "      ░  ║ ┌─┐\n",
       "q_3: ─░──╫─┤M├\n",
       "      ░  ║ └╥┘\n",
       "c: 4/════╩══╩═\n",
       "         0  3 </pre>"
      ],
      "text/plain": [
       "      ░ ┌─┐   \n",
       "q_0: ─░─┤M├───\n",
       "      ░ └╥┘   \n",
       "q_1: ─░──╫────\n",
       "      ░  ║    \n",
       "q_2: ─░──╫────\n",
       "      ░  ║ ┌─┐\n",
       "q_3: ─░──╫─┤M├\n",
       "      ░  ║ └╥┘\n",
       "c: 4/════╩══╩═\n",
       "         0  3 "
      ]
     },
     "execution_count": 7,
     "metadata": {},
     "output_type": "execute_result"
    }
   ],
   "source": [
    "meas = QuantumCircuit(4, 4)\n",
    "meas.barrier(range(4))\n",
    "#add z measurement\n",
    "meas.measure((0, 3), (0, 3))\n",
    "\n",
    "# meas.measure((1, 2), (1, 2))\n",
    "meas.draw()\n",
    "\n",
    "# The Qiskit circuit object supports composition using\n",
    "# the addition operator.\n",
    "# print(meas.cregs[0])\n",
    "# qc = circ.compose(meas)\n",
    "\n",
    "#drawing the circuit\n",
    "#qc.draw()"
   ]
  },
  {
   "cell_type": "code",
   "execution_count": 8,
   "id": "1fc2981f",
   "metadata": {},
   "outputs": [
    {
     "data": {
      "text/plain": [
       "<qiskit.circuit.instructionset.InstructionSet at 0x7f32df50b780>"
      ]
     },
     "execution_count": 8,
     "metadata": {},
     "output_type": "execute_result"
    }
   ],
   "source": [
    "bsm2 = QuantumCircuit(4, 4)\n",
    "#CNOT gate on 1 and 2\n",
    "bsm2.cx(0, 3)\n",
    "#Hadamard on 1\n",
    "bsm2.h(0)"
   ]
  },
  {
   "cell_type": "code",
   "execution_count": 9,
   "id": "c91433cd",
   "metadata": {},
   "outputs": [
    {
     "name": "stderr",
     "output_type": "stream",
     "text": [
      "<ipython-input-9-1550ff8c5736>:8: DeprecationWarning: The QuantumCircuit.__add__() method is being deprecated.Use the compose() method which is more flexible w.r.t circuit register compatibility.\n",
      "  circuit = initial_epr + rot + meas\n"
     ]
    }
   ],
   "source": [
    "#build circuits\n",
    "quantum_circuits = []\n",
    "for rot in chsh1:\n",
    "#     circuit = QuantumCircuit(2, 2)\n",
    "#     circuit.compose(initialize)\n",
    "#     circuit.compose(rot)\n",
    "#     circuit.compose(meas)\n",
    "    circuit = initial_epr + rot + meas\n",
    "    quantum_circuits.append(circuit)\n",
    "    "
   ]
  },
  {
   "cell_type": "code",
   "execution_count": 10,
   "id": "520c611a",
   "metadata": {},
   "outputs": [
    {
     "data": {
      "image/png": "[encoded data removed]",
      "text/plain": [
       "<Figure size 447.797x325.08 with 1 Axes>"
      ]
     },
     "execution_count": 10,
     "metadata": {},
     "output_type": "execute_result"
    }
   ],
   "source": [
    "quantum_circuits[0].draw('mpl')"
   ]
  },
  {
   "cell_type": "code",
   "execution_count": 11,
   "id": "30cae7bc",
   "metadata": {},
   "outputs": [
    {
     "data": {
      "image/png": "[encoded data removed]",
      "text/plain": [
       "<Figure size 447.797x325.08 with 1 Axes>"
      ]
     },
     "execution_count": 11,
     "metadata": {},
     "output_type": "execute_result"
    }
   ],
   "source": [
    "quantum_circuits[1].draw('mpl')"
   ]
  },
  {
   "cell_type": "code",
   "execution_count": 12,
   "id": "e894e2d0",
   "metadata": {},
   "outputs": [
    {
     "data": {
      "image/png": "[encoded data removed]",
      "text/plain": [
       "<Figure size 447.797x325.08 with 1 Axes>"
      ]
     },
     "execution_count": 12,
     "metadata": {},
     "output_type": "execute_result"
    }
   ],
   "source": [
    "quantum_circuits[2].draw('mpl')"
   ]
  },
  {
   "cell_type": "code",
   "execution_count": 13,
   "id": "a98f37a5",
   "metadata": {},
   "outputs": [
    {
     "data": {
      "image/png": "[encoded data removed]",
      "text/plain": [
       "<Figure size 507.997x325.08 with 1 Axes>"
      ]
     },
     "execution_count": 13,
     "metadata": {},
     "output_type": "execute_result"
    }
   ],
   "source": [
    "quantum_circuits[9].draw('mpl')"
   ]
  },
  {
   "cell_type": "code",
   "execution_count": 14,
   "id": "ff36cfe8",
   "metadata": {},
   "outputs": [],
   "source": [
    "from qiskit.visualization import plot_state_city, plot_bloch_multivector\n",
    "from qiskit.visualization import plot_state_paulivec, plot_state_hinton\n",
    "from qiskit.visualization import plot_state_qsphere"
   ]
  },
  {
   "cell_type": "code",
   "execution_count": 15,
   "id": "8a41a596",
   "metadata": {},
   "outputs": [
    {
     "name": "stdout",
     "output_type": "stream",
     "text": [
      "{'0': 503, '1': 497}\n"
     ]
    }
   ],
   "source": [
    "backend = BasicAer.get_backend('statevector_simulator') # the device to run on\n",
    "qc = QuantumCircuit(1, 1)\n",
    "qc.ry(np.pi/2, 0)\n",
    "qc.rz(np.pi/4, 0)\n",
    "qc.measure(0, 0)\n",
    "result = sv_sim.run(transpile(qc, sv_sim), shots=1000).result()\n",
    "# psi  = result.get_statevector(qc)\n",
    "print(result.get_counts())"
   ]
  },
  {
   "cell_type": "code",
   "execution_count": null,
   "id": "2da051d1",
   "metadata": {},
   "outputs": [],
   "source": []
  },
  {
   "cell_type": "code",
   "execution_count": 16,
   "id": "4150b91c",
   "metadata": {},
   "outputs": [],
   "source": [
    "# plot_state_city(psi)"
   ]
  },
  {
   "cell_type": "code",
   "execution_count": 17,
   "id": "5a128669",
   "metadata": {},
   "outputs": [],
   "source": [
    "# plot_state_paulivec(psi)"
   ]
  },
  {
   "cell_type": "code",
   "execution_count": 18,
   "id": "2b762d63",
   "metadata": {},
   "outputs": [],
   "source": [
    "# from qiskit_textbook.widgets import plot_bloch_vector_spherical\n",
    "# coords = [pi/2,0,1] # [Theta, Phi, Radius]\n",
    "# plot_bloch_vector_spherical(psi)"
   ]
  },
  {
   "cell_type": "code",
   "execution_count": 19,
   "id": "b085a1d7",
   "metadata": {},
   "outputs": [],
   "source": [
    "# print(\"State of Measured Qubit = \" + str(psi))"
   ]
  },
  {
   "cell_type": "code",
   "execution_count": 20,
   "id": "0ebdc805",
   "metadata": {},
   "outputs": [],
   "source": [
    "# Use Aer's qasm_simulator\n",
    "\n",
    "# Execute the circuit on the qasm simulator.\n",
    "# We've set the number of repeats of the circuit\n",
    "# to be 1024, which is the default.\n",
    "job_sim = sv_sim.run(transpile(quantum_circuits, sv_sim), shots=20000)\n",
    "\n",
    "# job_real = quito.run(transpile(quantum_circuits, quito), shots=20000)\n",
    "# job_monitor(job_real)\n",
    "\n",
    "# Grab the results from the job.\n",
    "result_sim = job_sim.result()\n",
    "# result_real = job_real.result()"
   ]
  },
  {
   "cell_type": "code",
   "execution_count": 23,
   "id": "09eedd5e",
   "metadata": {},
   "outputs": [
    {
     "name": "stdout",
     "output_type": "stream",
     "text": [
      "[{'1000': 1492, '0001': 1483, '0000': 8519, '1001': 8506}, {'0001': 1460, '1000': 1389, '0000': 8575, '1001': 8576}, {'1001': 1455, '0001': 8524, '1000': 8519, '0000': 1502}, {'1001': 8515, '0000': 8476, '0001': 1485, '1000': 1524}]\n",
      "sim:\n",
      "0001\n",
      "1000\n",
      "1001\n",
      "0000\n",
      "0.0036\n",
      "maximum:\n",
      "2.8284271247461903\n"
     ]
    },
    {
     "data": {
      "image/png": "[encoded data removed]",
      "text/plain": [
       "<Figure size 504x360 with 1 Axes>"
      ]
     },
     "execution_count": 23,
     "metadata": {},
     "output_type": "execute_result"
    }
   ],
   "source": [
    "from qiskit.visualization import plot_histogram\n",
    "def calc_chsh(theta_dict):\n",
    "    zz = theta_dict[0]\n",
    "    zx = theta_dict[1]\n",
    "    xz = theta_dict[2]\n",
    "    xx = theta_dict[3]\n",
    "    \n",
    "    no_shots = sum(xx[y] for y in xx)\n",
    "\n",
    "    chsh1 = 0\n",
    "    chsh2 = 0\n",
    "\n",
    "    for element in zz:\n",
    "        print(element)\n",
    "        parity = (-1)**(int(element[0])+int(element[3]))\n",
    "        chsh1+= parity*zz[element]\n",
    "        chsh2+= parity*zz[element]\n",
    "\n",
    "    for element in zx:\n",
    "        parity = (-1)**(int(element[0])+int(element[3]))\n",
    "        chsh1+= parity*zx[element]\n",
    "        chsh2-= parity*zx[element]\n",
    "\n",
    "    for element in xz:\n",
    "        parity = (-1)**(int(element[0])+int(element[3]))\n",
    "        chsh1-= parity*xz[element]\n",
    "        chsh2+= parity*xz[element]\n",
    "\n",
    "    for element in xx:\n",
    "        parity = (-1)**(int(element[0])+int(element[3]))\n",
    "        chsh1+= parity*xx[element]\n",
    "        chsh2+= parity*xx[element]\n",
    "    \n",
    "    return chsh2 / no_shots\n",
    "\n",
    "print(result_sim.get_counts()[0:4])\n",
    "print(\"sim:\")\n",
    "print(calc_chsh(result_sim.get_counts()[4:8]))\n",
    "# print(\"real:\")\n",
    "# print(calc_chsh(result_real.get_counts()))\n",
    "print(\"maximum:\")\n",
    "print(2*np.sqrt(2))\n",
    "plot_histogram(result_sim.get_counts()[10:11])"
   ]
  },
  {
   "cell_type": "code",
   "execution_count": null,
   "id": "ef575b98",
   "metadata": {},
   "outputs": [],
   "source": []
  },
  {
   "cell_type": "code",
   "execution_count": null,
   "id": "1357fa1a",
   "metadata": {},
   "outputs": [],
   "source": []
  },
  {
   "cell_type": "code",
   "execution_count": null,
   "id": "41152b99",
   "metadata": {},
   "outputs": [],
   "source": []
  }
 ],
 "metadata": {
  "kernelspec": {
   "display_name": "Python 3",
   "language": "python",
   "name": "python3"
  },
  "language_info": {
   "codemirror_mode": {
    "name": "ipython",
    "version": 3
   },
   "file_extension": ".py",
   "mimetype": "text/x-python",
   "name": "python",
   "nbconvert_exporter": "python",
   "pygments_lexer": "ipython3",
   "version": "3.8.10"
  }
 },
 "nbformat": 4,
 "nbformat_minor": 5
}
