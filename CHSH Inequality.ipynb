{
 "cells": [
  {
   "cell_type": "code",
   "execution_count": 1,
   "id": "2b2d3719",
   "metadata": {},
   "outputs": [],
   "source": [
    "#import qiskit tools\n",
    "import qiskit\n",
    "from qiskit import QuantumCircuit, ClassicalRegister, QuantumRegister, transpile, Aer, IBMQ\n",
    "from qiskit.tools.visualization import circuit_drawer\n",
    "from qiskit.tools.monitor import job_monitor, backend_monitor, backend_overview\n",
    "from qiskit.providers.aer import noise\n",
    "\n",
    "#import python stuff\n",
    "import matplotlib.pyplot as plt\n",
    "import numpy as np\n",
    "import time\n"
   ]
  },
  {
   "cell_type": "code",
   "execution_count": 2,
   "id": "472bc6d6",
   "metadata": {},
   "outputs": [],
   "source": [
    "# Set devices, if using a real device\n",
    "IBMQ.load_account()\n",
    "provider = IBMQ.get_provider('ibm-q')\n",
    "quito = provider.get_backend('ibmq_quito')\n"
   ]
  },
  {
   "cell_type": "code",
   "execution_count": 3,
   "id": "34bb5dbe",
   "metadata": {},
   "outputs": [],
   "source": [
    "sim = Aer.get_backend('aer_simulator')\n"
   ]
  },
  {
   "cell_type": "code",
   "execution_count": 4,
   "id": "11b37da4",
   "metadata": {},
   "outputs": [],
   "source": [
    "def make_chsh_circuit(theta_vec):\n",
    "    \"\"\"Return a list of QuantumCircuits for use in a CHSH experiemnt\n",
    "    (one for each value of theta in theta_vec)\n",
    "    \n",
    "        Args:\n",
    "            theta_vec (list): list of values of angles between the bases of Alice and Bob\n",
    "        \n",
    "        Returns:\n",
    "            List[QuantumCircuit]: CHSH QuantumCircuits for each value of theta\n",
    "    \"\"\"\n",
    "    chsh_circuits = []\n",
    "    \n",
    "    for theta in theta_vec:\n",
    "        obs_vec = ['00', '01', '10', '11']\n",
    "        for el in obs_vec:\n",
    "            qc = QuantumCircuit(2,2)\n",
    "            qc.h(0)\n",
    "            qc.cx(0, 1)\n",
    "            qc.ry(theta, 0)\n",
    "            for a in range(2):\n",
    "                if el[a] == '1':\n",
    "                    qc.h(a) \n",
    "            qc.measure(range(2),range(2))\n",
    "            chsh_circuits.append(qc)\n",
    "\n",
    "    return chsh_circuits  \n"
   ]
  },
  {
   "cell_type": "code",
   "execution_count": 5,
   "id": "d11c0dc6",
   "metadata": {},
   "outputs": [],
   "source": [
    "def compute_chsh_witness(counts):\n",
    "    \"\"\"Computes expectation values for the CHSH inequality, for each\n",
    "    angle (theta) between measurement axis.\n",
    "\n",
    "        Args: counts (list[dict]): dict of counts for each experiment\n",
    "              (4 per value of theta)\n",
    "\n",
    "        Returns:\n",
    "            Tuple(List, List): Tuple of lists with the two CHSH witnesses\n",
    "    \"\"\"\n",
    "    # Order is ZZ,ZX,XZ,XX\n",
    "    \n",
    "    CHSH1 = []\n",
    "    CHSH2 = []\n",
    "    # Divide the list of dictionaries in sets of 4\n",
    "    for i in range(0, len(counts), 4):  \n",
    "        theta_dict = counts[i:i + 4]\n",
    "        zz = theta_dict[0]\n",
    "        zx = theta_dict[1]\n",
    "        xz = theta_dict[2]\n",
    "        xx = theta_dict[3]\n",
    "\n",
    "        no_shots = sum(xx[y] for y in xx)\n",
    "\n",
    "        chsh1 = 0\n",
    "        chsh2 = 0\n",
    "\n",
    "        for element in zz:\n",
    "            parity = (-1)**(int(element[0])+int(element[1]))\n",
    "            chsh1+= parity*zz[element]\n",
    "            chsh2+= parity*zz[element]\n",
    "\n",
    "        for element in zx:\n",
    "            parity = (-1)**(int(element[0])+int(element[1]))\n",
    "            chsh1+= parity*zx[element]\n",
    "            chsh2-= parity*zx[element]\n",
    "\n",
    "        for element in xz:\n",
    "            parity = (-1)**(int(element[0])+int(element[1]))\n",
    "            chsh1-= parity*xz[element]\n",
    "            chsh2+= parity*xz[element]\n",
    "\n",
    "        for element in xx:\n",
    "            parity = (-1)**(int(element[0])+int(element[1]))\n",
    "            chsh1+= parity*xx[element]\n",
    "            chsh2+= parity*xx[element]\n",
    "\n",
    "        CHSH1.append(chsh1/no_shots)\n",
    "        CHSH2.append(chsh2/no_shots)\n",
    "    \n",
    "    return CHSH1, CHSH2\n"
   ]
  },
  {
   "cell_type": "code",
   "execution_count": null,
   "id": "03ca1fe2",
   "metadata": {},
   "outputs": [],
   "source": []
  },
  {
   "cell_type": "code",
   "execution_count": 6,
   "id": "c8a4ecb8",
   "metadata": {},
   "outputs": [
    {
     "name": "stdout",
     "output_type": "stream",
     "text": [
      "[0.         0.44879895 0.8975979  1.34639685 1.7951958  2.24399475\n",
      " 2.6927937  3.14159265 3.5903916  4.03919055 4.48798951 4.93678846\n",
      " 5.38558741 5.83438636 6.28318531]\n",
      "0.8975979010256552\n",
      "\n"
     ]
    }
   ],
   "source": [
    "number_of_thetas = 15\n",
    "theta_vec = np.linspace(0,2*np.pi,number_of_thetas)\n",
    "print(theta_vec)\n",
    "print(2*np.pi*2/14)\n",
    "print()\n",
    "my_chsh_circuits = make_chsh_circuit(theta_vec)\n"
   ]
  },
  {
   "cell_type": "code",
   "execution_count": 7,
   "id": "25ccc32e",
   "metadata": {},
   "outputs": [
    {
     "data": {
      "text/html": [
       "<pre style=\"word-wrap: normal;white-space: pre;background: #fff0;line-height: 1.1;font-family: &quot;Courier New&quot;,Courier,monospace\">     ┌───┐     ┌──────────┐┌─┐\n",
       "q_0: ┤ H ├──■──┤ Ry(2π/7) ├┤M├\n",
       "     └───┘┌─┴─┐└───┬─┬────┘└╥┘\n",
       "q_1: ─────┤ X ├────┤M├──────╫─\n",
       "          └───┘    └╥┘      ║ \n",
       "c: 2/═══════════════╩═══════╩═\n",
       "                    1       0 </pre>"
      ],
      "text/plain": [
       "     ┌───┐     ┌──────────┐┌─┐\n",
       "q_0: ┤ H ├──■──┤ Ry(2π/7) ├┤M├\n",
       "     └───┘┌─┴─┐└───┬─┬────┘└╥┘\n",
       "q_1: ─────┤ X ├────┤M├──────╫─\n",
       "          └───┘    └╥┘      ║ \n",
       "c: 2/═══════════════╩═══════╩═\n",
       "                    1       0 "
      ]
     },
     "execution_count": 7,
     "metadata": {},
     "output_type": "execute_result"
    }
   ],
   "source": [
    "my_chsh_circuits[8].draw()\n"
   ]
  },
  {
   "cell_type": "code",
   "execution_count": 8,
   "id": "4d342762",
   "metadata": {},
   "outputs": [
    {
     "data": {
      "text/html": [
       "<pre style=\"word-wrap: normal;white-space: pre;background: #fff0;line-height: 1.1;font-family: &quot;Courier New&quot;,Courier,monospace\">     ┌───┐     ┌──────────┐┌─┐   \n",
       "q_0: ┤ H ├──■──┤ Ry(2π/7) ├┤M├───\n",
       "     └───┘┌─┴─┐└──┬───┬───┘└╥┘┌─┐\n",
       "q_1: ─────┤ X ├───┤ H ├─────╫─┤M├\n",
       "          └───┘   └───┘     ║ └╥┘\n",
       "c: 2/═══════════════════════╩══╩═\n",
       "                            0  1 </pre>"
      ],
      "text/plain": [
       "     ┌───┐     ┌──────────┐┌─┐   \n",
       "q_0: ┤ H ├──■──┤ Ry(2π/7) ├┤M├───\n",
       "     └───┘┌─┴─┐└──┬───┬───┘└╥┘┌─┐\n",
       "q_1: ─────┤ X ├───┤ H ├─────╫─┤M├\n",
       "          └───┘   └───┘     ║ └╥┘\n",
       "c: 2/═══════════════════════╩══╩═\n",
       "                            0  1 "
      ]
     },
     "execution_count": 8,
     "metadata": {},
     "output_type": "execute_result"
    }
   ],
   "source": [
    "my_chsh_circuits[9].draw()"
   ]
  },
  {
   "cell_type": "code",
   "execution_count": 9,
   "id": "d6349d44",
   "metadata": {},
   "outputs": [
    {
     "data": {
      "text/html": [
       "<pre style=\"word-wrap: normal;white-space: pre;background: #fff0;line-height: 1.1;font-family: &quot;Courier New&quot;,Courier,monospace\">     ┌───┐     ┌──────────┐┌───┐┌─┐\n",
       "q_0: ┤ H ├──■──┤ Ry(2π/7) ├┤ H ├┤M├\n",
       "     └───┘┌─┴─┐└───┬─┬────┘└───┘└╥┘\n",
       "q_1: ─────┤ X ├────┤M├───────────╫─\n",
       "          └───┘    └╥┘           ║ \n",
       "c: 2/═══════════════╩════════════╩═\n",
       "                    1            0 </pre>"
      ],
      "text/plain": [
       "     ┌───┐     ┌──────────┐┌───┐┌─┐\n",
       "q_0: ┤ H ├──■──┤ Ry(2π/7) ├┤ H ├┤M├\n",
       "     └───┘┌─┴─┐└───┬─┬────┘└───┘└╥┘\n",
       "q_1: ─────┤ X ├────┤M├───────────╫─\n",
       "          └───┘    └╥┘           ║ \n",
       "c: 2/═══════════════╩════════════╩═\n",
       "                    1            0 "
      ]
     },
     "execution_count": 9,
     "metadata": {},
     "output_type": "execute_result"
    }
   ],
   "source": [
    "my_chsh_circuits[10].draw()"
   ]
  },
  {
   "cell_type": "code",
   "execution_count": 10,
   "id": "45c682cf",
   "metadata": {},
   "outputs": [
    {
     "data": {
      "text/html": [
       "<pre style=\"word-wrap: normal;white-space: pre;background: #fff0;line-height: 1.1;font-family: &quot;Courier New&quot;,Courier,monospace\">     ┌───┐     ┌──────────┐┌───┐┌─┐\n",
       "q_0: ┤ H ├──■──┤ Ry(2π/7) ├┤ H ├┤M├\n",
       "     └───┘┌─┴─┐└──┬───┬───┘└┬─┬┘└╥┘\n",
       "q_1: ─────┤ X ├───┤ H ├─────┤M├──╫─\n",
       "          └───┘   └───┘     └╥┘  ║ \n",
       "c: 2/════════════════════════╩═══╩═\n",
       "                             1   0 </pre>"
      ],
      "text/plain": [
       "     ┌───┐     ┌──────────┐┌───┐┌─┐\n",
       "q_0: ┤ H ├──■──┤ Ry(2π/7) ├┤ H ├┤M├\n",
       "     └───┘┌─┴─┐└──┬───┬───┘└┬─┬┘└╥┘\n",
       "q_1: ─────┤ X ├───┤ H ├─────┤M├──╫─\n",
       "          └───┘   └───┘     └╥┘  ║ \n",
       "c: 2/════════════════════════╩═══╩═\n",
       "                             1   0 "
      ]
     },
     "execution_count": 10,
     "metadata": {},
     "output_type": "execute_result"
    }
   ],
   "source": [
    "my_chsh_circuits[11].draw()"
   ]
  },
  {
   "cell_type": "code",
   "execution_count": 16,
   "id": "e5475163",
   "metadata": {},
   "outputs": [
    {
     "name": "stdout",
     "output_type": "stream",
     "text": [
      "51.42857142857143\n"
     ]
    }
   ],
   "source": [
    "print((2*np.pi/7)*360/(2*np.pi))"
   ]
  },
  {
   "cell_type": "code",
   "execution_count": 11,
   "id": "b0a1cfe5",
   "metadata": {},
   "outputs": [],
   "source": [
    "# Execute and get counts\n",
    "result_ideal = sim.run(my_chsh_circuits).result()\n",
    "\n",
    "# tic = time.time()\n",
    "# transpiled_circuits = transpile(my_chsh_circuits, quito)\n",
    "# job_real = quito.run(transpiled_circuits, shots=8192)\n",
    "# job_monitor(job_real)\n",
    "# result_real = job_real.result()\n",
    "# toc = time.time()\n",
    "\n",
    "# print(toc-tic)\n"
   ]
  },
  {
   "cell_type": "code",
   "execution_count": 12,
   "id": "2e6022f2",
   "metadata": {},
   "outputs": [
    {
     "name": "stdout",
     "output_type": "stream",
     "text": [
      "[{'11': 502, '00': 522}, {'01': 242, '11': 261, '10': 270, '00': 251}, {'11': 240, '01': 278, '00': 261, '10': 245}, {'00': 492, '11': 532}]\n",
      "{'11': 502, '00': 522}\n",
      "11\n",
      "1\n",
      "00\n",
      "0\n",
      "[{'01': 15, '10': 25, '00': 454, '11': 530}, {'01': 377, '11': 133, '10': 385, '00': 129}, {'01': 148, '11': 371, '10': 135, '00': 370}, {'01': 29, '11': 499, '10': 28, '00': 468}]\n",
      "{'01': 15, '10': 25, '00': 454, '11': 530}\n",
      "01\n",
      "0\n",
      "10\n",
      "1\n",
      "00\n",
      "0\n",
      "11\n",
      "1\n",
      "[{'01': 94, '10': 107, '00': 417, '11': 406}, {'11': 60, '01': 476, '00': 46, '10': 442}, {'00': 453, '10': 45, '11': 469, '01': 57}, {'11': 388, '10': 96, '00': 440, '01': 100}]\n",
      "{'01': 94, '10': 107, '00': 417, '11': 406}\n",
      "01\n",
      "0\n",
      "10\n",
      "1\n",
      "00\n",
      "0\n",
      "11\n",
      "1\n",
      "[{'11': 320, '10': 213, '00': 288, '01': 203}, {'11': 11, '01': 510, '00': 4, '10': 499}, {'01': 10, '10': 8, '00': 508, '11': 498}, {'11': 309, '01': 203, '00': 304, '10': 208}]\n",
      "{'11': 320, '10': 213, '00': 288, '01': 203}\n",
      "11\n",
      "1\n",
      "10\n",
      "1\n",
      "00\n",
      "0\n",
      "01\n",
      "0\n",
      "[{'11': 204, '01': 313, '00': 180, '10': 327}, {'11': 3, '00': 5, '10': 522, '01': 494}, {'01': 10, '11': 492, '10': 2, '00': 520}, {'00': 179, '10': 326, '11': 182, '01': 337}]\n",
      "{'11': 204, '01': 313, '00': 180, '10': 327}\n",
      "11\n",
      "1\n",
      "01\n",
      "0\n",
      "00\n",
      "0\n",
      "10\n",
      "1\n",
      "[{'11': 94, '01': 440, '00': 100, '10': 390}, {'01': 441, '11': 54, '00': 65, '10': 464}, {'01': 62, '10': 66, '00': 472, '11': 424}, {'11': 86, '00': 98, '10': 434, '01': 406}]\n",
      "{'11': 94, '01': 440, '00': 100, '10': 390}\n",
      "11\n",
      "1\n",
      "01\n",
      "0\n",
      "00\n",
      "0\n",
      "10\n",
      "1\n",
      "[{'11': 26, '01': 470, '00': 33, '10': 495}, {'11': 127, '01': 354, '00': 166, '10': 377}, {'11': 357, '01': 145, '00': 376, '10': 146}, {'11': 20, '00': 16, '10': 497, '01': 491}]\n",
      "{'11': 26, '01': 470, '00': 33, '10': 495}\n",
      "11\n",
      "1\n",
      "01\n",
      "0\n",
      "00\n",
      "0\n",
      "10\n",
      "1\n",
      "[{'10': 507, '01': 517}, {'11': 280, '00': 247, '10': 251, '01': 246}, {'00': 265, '10': 252, '11': 236, '01': 271}, {'10': 529, '01': 495}]\n",
      "{'10': 507, '01': 517}\n",
      "10\n",
      "1\n",
      "01\n",
      "0\n",
      "[{'11': 25, '01': 451, '00': 23, '10': 525}, {'11': 360, '01': 159, '10': 149, '00': 356}, {'11': 140, '01': 363, '00': 149, '10': 372}, {'11': 29, '00': 29, '10': 476, '01': 490}]\n",
      "{'11': 25, '01': 451, '00': 23, '10': 525}\n",
      "11\n",
      "1\n",
      "01\n",
      "0\n",
      "00\n",
      "0\n",
      "10\n",
      "1\n",
      "[{'00': 93, '10': 421, '01': 416, '11': 94}, {'01': 53, '10': 62, '00': 430, '11': 479}, {'11': 66, '01': 475, '00': 52, '10': 431}, {'00': 115, '10': 391, '01': 413, '11': 105}]\n",
      "{'00': 93, '10': 421, '01': 416, '11': 94}\n",
      "00\n",
      "0\n",
      "10\n",
      "1\n",
      "01\n",
      "0\n",
      "11\n",
      "1\n",
      "[{'11': 201, '01': 318, '10': 318, '00': 187}, {'01': 5, '11': 507, '10': 4, '00': 508}, {'11': 10, '00': 4, '10': 500, '01': 510}, {'01': 317, '10': 329, '00': 185, '11': 193}]\n",
      "{'11': 201, '01': 318, '10': 318, '00': 187}\n",
      "11\n",
      "1\n",
      "01\n",
      "0\n",
      "10\n",
      "1\n",
      "00\n",
      "0\n",
      "[{'10': 197, '00': 310, '11': 313, '01': 204}, {'01': 14, '10': 2, '00': 487, '11': 521}, {'11': 1, '00': 6, '10': 504, '01': 513}, {'01': 200, '10': 196, '00': 320, '11': 308}]\n",
      "{'10': 197, '00': 310, '11': 313, '01': 204}\n",
      "10\n",
      "1\n",
      "00\n",
      "0\n",
      "11\n",
      "1\n",
      "01\n",
      "0\n",
      "[{'01': 101, '11': 436, '10': 93, '00': 394}, {'01': 60, '10': 67, '00': 427, '11': 470}, {'01': 469, '00': 45, '10': 452, '11': 58}, {'00': 386, '10': 109, '01': 100, '11': 429}]\n",
      "{'01': 101, '11': 436, '10': 93, '00': 394}\n",
      "01\n",
      "0\n",
      "11\n",
      "1\n",
      "10\n",
      "1\n",
      "00\n",
      "0\n",
      "[{'01': 31, '11': 479, '10': 21, '00': 493}, {'01': 140, '11': 373, '10': 152, '00': 359}, {'11': 150, '01': 360, '00': 123, '10': 391}, {'01': 21, '11': 474, '10': 24, '00': 505}]\n",
      "{'01': 31, '11': 479, '10': 21, '00': 493}\n",
      "01\n",
      "0\n",
      "11\n",
      "1\n",
      "10\n",
      "1\n",
      "00\n",
      "0\n",
      "[{'11': 519, '00': 505}, {'00': 264, '10': 252, '11': 262, '01': 246}, {'10': 288, '00': 250, '01': 232, '11': 254}, {'00': 518, '11': 506}]\n",
      "{'11': 519, '00': 505}\n",
      "11\n",
      "1\n",
      "00\n",
      "0\n"
     ]
    }
   ],
   "source": [
    "CHSH1_ideal, CHSH2_ideal = compute_chsh_witness(result_ideal.get_counts())\n",
    "# CHSH1_real, CHSH2_real = compute_chsh_witness(result_real.get_counts())\n",
    "\n",
    "# print(result_ideal.get_counts())\n",
    "counts = result_ideal.get_counts()\n",
    "for i in range(0, len(counts), 4):  \n",
    "    print(counts[i:i + 4])\n",
    "    theta_dict = counts[i:i + 4]\n",
    "    zz = theta_dict[0]\n",
    "    zx = theta_dict[1]\n",
    "    xz = theta_dict[2]\n",
    "    xx = theta_dict[3]\n",
    "    print(zz)\n",
    "    \n",
    "    no_shots = sum(xx[y] for y in xx)\n",
    "\n",
    "    chsh1 = 0\n",
    "    chsh2 = 0\n",
    "\n",
    "    for element in zz:\n",
    "        print(element)\n",
    "        print(element[0])\n",
    "        parity = (-1)**(int(element[0])+int(element[1]))\n",
    "        chsh1+= parity*zz[element]\n",
    "        chsh2+= parity*zz[element]\n",
    "\n",
    "    for element in zx:\n",
    "        parity = (-1)**(int(element[0])+int(element[1]))\n",
    "        chsh1+= parity*zx[element]\n",
    "        chsh2-= parity*zx[element]\n",
    "\n",
    "    for element in xz:\n",
    "        parity = (-1)**(int(element[0])+int(element[1]))\n",
    "        chsh1-= parity*xz[element]\n",
    "        chsh2+= parity*xz[element]\n",
    "\n",
    "    for element in xx:\n",
    "        parity = (-1)**(int(element[0])+int(element[1]))\n",
    "        chsh1+= parity*xx[element]\n",
    "        chsh2+= parity*xx[element]\n"
   ]
  },
  {
   "cell_type": "code",
   "execution_count": 13,
   "id": "56b462ae",
   "metadata": {},
   "outputs": [
    {
     "ename": "NameError",
     "evalue": "name 'CHSH1_real' is not defined",
     "output_type": "error",
     "traceback": [
      "\u001b[0;31m---------------------------------------------------------------------------\u001b[0m",
      "\u001b[0;31mNameError\u001b[0m                                 Traceback (most recent call last)",
      "\u001b[0;32m<ipython-input-13-9c909dae0271>\u001b[0m in \u001b[0;36m<module>\u001b[0;34m\u001b[0m\n\u001b[1;32m      4\u001b[0m \u001b[0mplt\u001b[0m\u001b[0;34m.\u001b[0m\u001b[0mplot\u001b[0m\u001b[0;34m(\u001b[0m\u001b[0mtheta_vec\u001b[0m\u001b[0;34m,\u001b[0m\u001b[0mCHSH2_ideal\u001b[0m\u001b[0;34m,\u001b[0m\u001b[0;34m'o-'\u001b[0m\u001b[0;34m,\u001b[0m\u001b[0mlabel\u001b[0m \u001b[0;34m=\u001b[0m \u001b[0;34m'CHSH2 Noiseless'\u001b[0m\u001b[0;34m)\u001b[0m\u001b[0;34m\u001b[0m\u001b[0;34m\u001b[0m\u001b[0m\n\u001b[1;32m      5\u001b[0m \u001b[0;34m\u001b[0m\u001b[0m\n\u001b[0;32m----> 6\u001b[0;31m \u001b[0mplt\u001b[0m\u001b[0;34m.\u001b[0m\u001b[0mplot\u001b[0m\u001b[0;34m(\u001b[0m\u001b[0mtheta_vec\u001b[0m\u001b[0;34m,\u001b[0m\u001b[0mCHSH1_real\u001b[0m\u001b[0;34m,\u001b[0m\u001b[0;34m'x-'\u001b[0m\u001b[0;34m,\u001b[0m\u001b[0mlabel\u001b[0m \u001b[0;34m=\u001b[0m \u001b[0;34m'CHSH1 Quito'\u001b[0m\u001b[0;34m)\u001b[0m\u001b[0;34m\u001b[0m\u001b[0;34m\u001b[0m\u001b[0m\n\u001b[0m\u001b[1;32m      7\u001b[0m \u001b[0mplt\u001b[0m\u001b[0;34m.\u001b[0m\u001b[0mplot\u001b[0m\u001b[0;34m(\u001b[0m\u001b[0mtheta_vec\u001b[0m\u001b[0;34m,\u001b[0m\u001b[0mCHSH2_real\u001b[0m\u001b[0;34m,\u001b[0m\u001b[0;34m'x-'\u001b[0m\u001b[0;34m,\u001b[0m\u001b[0mlabel\u001b[0m \u001b[0;34m=\u001b[0m \u001b[0;34m'CHSH2 Quito'\u001b[0m\u001b[0;34m)\u001b[0m\u001b[0;34m\u001b[0m\u001b[0;34m\u001b[0m\u001b[0m\n\u001b[1;32m      8\u001b[0m \u001b[0;34m\u001b[0m\u001b[0m\n",
      "\u001b[0;31mNameError\u001b[0m: name 'CHSH1_real' is not defined"
     ]
    },
    {
     "data": {
      "image/png": "[encoded data removed]",
      "text/plain": [
       "<Figure size 864x576 with 1 Axes>"
      ]
     },
     "metadata": {
      "needs_background": "light"
     },
     "output_type": "display_data"
    }
   ],
   "source": [
    "plt.figure(figsize=(12,8))\n",
    "plt.rcParams.update({'font.size': 22})\n",
    "plt.plot(theta_vec,CHSH1_ideal,'o-',label = 'CHSH1 Noiseless')\n",
    "plt.plot(theta_vec,CHSH2_ideal,'o-',label = 'CHSH2 Noiseless')\n",
    "\n",
    "plt.plot(theta_vec,CHSH1_real,'x-',label = 'CHSH1 Quito')\n",
    "plt.plot(theta_vec,CHSH2_real,'x-',label = 'CHSH2 Quito')\n",
    "\n",
    "plt.grid(which='major',axis='both')\n",
    "plt.rcParams.update({'font.size': 16})\n",
    "plt.legend()\n",
    "plt.axhline(y=2, color='r', linestyle='-')\n",
    "plt.axhline(y=-2, color='r', linestyle='-')\n",
    "plt.axhline(y=np.sqrt(2)*2, color='k', linestyle='-.')\n",
    "plt.axhline(y=-np.sqrt(2)*2, color='k', linestyle='-.')\n",
    "plt.xlabel('Theta')\n",
    "plt.ylabel('CHSH witness')\n"
   ]
  }
 ],
 "metadata": {
  "kernelspec": {
   "display_name": "Python 3",
   "language": "python",
   "name": "python3"
  },
  "language_info": {
   "codemirror_mode": {
    "name": "ipython",
    "version": 3
   },
   "file_extension": ".py",
   "mimetype": "text/x-python",
   "name": "python",
   "nbconvert_exporter": "python",
   "pygments_lexer": "ipython3",
   "version": "3.8.10"
  }
 },
 "nbformat": 4,
 "nbformat_minor": 5
}
