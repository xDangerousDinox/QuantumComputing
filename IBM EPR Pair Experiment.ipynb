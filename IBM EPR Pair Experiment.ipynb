{
 "cells": [
  {
   "cell_type": "code",
   "execution_count": 1,
   "id": "f3433c5b",
   "metadata": {},
   "outputs": [],
   "source": [
    "from qiskit import QuantumCircuit\n",
    "from qiskit import IBMQ\n",
    "from qiskit import transpile\n",
    "import numpy as np\n",
    "from qiskit.tools.monitor import job_monitor, backend_monitor, backend_overview\n",
    "from qiskit.providers.aer import AerSimulator"
   ]
  },
  {
   "cell_type": "code",
   "execution_count": 2,
   "id": "fdf69c04",
   "metadata": {},
   "outputs": [],
   "source": [
    "from qiskit import Aer\n",
    "sv_sim = Aer.get_backend('aer_simulator')"
   ]
  },
  {
   "cell_type": "code",
   "execution_count": null,
   "id": "cc44ffef",
   "metadata": {},
   "outputs": [],
   "source": []
  },
  {
   "cell_type": "code",
   "execution_count": 3,
   "id": "70f33cda",
   "metadata": {},
   "outputs": [],
   "source": [
    "IBMQ.load_account()\n",
    "provider = IBMQ.get_provider('ibm-q')\n",
    "nairobi = provider.get_backend('ibmq_manila')"
   ]
  },
  {
   "cell_type": "code",
   "execution_count": 4,
   "id": "3133a98d",
   "metadata": {},
   "outputs": [],
   "source": [
    "manila_sim = AerSimulator.from_backend(nairobi)"
   ]
  },
  {
   "cell_type": "code",
   "execution_count": 5,
   "id": "9ee2c3a5",
   "metadata": {},
   "outputs": [
    {
     "data": {
      "image/png": "[encoded data removed]",
      "text/plain": [
       "<Figure size 206.852x204.68 with 1 Axes>"
      ]
     },
     "execution_count": 5,
     "metadata": {},
     "output_type": "execute_result"
    }
   ],
   "source": [
    "initialize = QuantumCircuit(2, 2)\n",
    "\n",
    "#Hadmard gate on\n",
    "initialize.x(1)\n",
    "initialize.h(0)\n",
    "#cnot gate on 0 and 1\n",
    "initialize.cx(0, 1)\n",
    "#draw the circuit\n",
    "initialize.draw('mpl')"
   ]
  },
  {
   "cell_type": "code",
   "execution_count": 6,
   "id": "35f44f1a",
   "metadata": {},
   "outputs": [
    {
     "data": {
      "text/html": [
       "<pre style=\"word-wrap: normal;white-space: pre;background: #fff0;line-height: 1.1;font-family: &quot;Courier New&quot;,Courier,monospace\">     ┌─────────┐\n",
       "q_0: ┤ Ry(π/4) ├\n",
       "     └─────────┘\n",
       "q_1: ───────────\n",
       "                \n",
       "c: 2/═══════════\n",
       "                </pre>"
      ],
      "text/plain": [
       "     ┌─────────┐\n",
       "q_0: ┤ Ry(π/4) ├\n",
       "     └─────────┘\n",
       "q_1: ───────────\n",
       "                \n",
       "c: 2/═══════════\n",
       "                "
      ]
     },
     "execution_count": 6,
     "metadata": {},
     "output_type": "execute_result"
    }
   ],
   "source": [
    "rotation_circuits = []\n",
    "\n",
    "rotatexy45 = QuantumCircuit(2, 2)\n",
    "rotatexy45.ry(np.pi/4, 0)\n",
    "rotation_circuits.append(rotatexy45)\n",
    "\n",
    "\n",
    "rotatexz45 = QuantumCircuit(2, 2)\n",
    "rotatexz45.ry(np.pi/4, 0)\n",
    "rotatexz45.h(1)\n",
    "rotation_circuits.append(rotatexz45)\n",
    "\n",
    "rotateyz90 = QuantumCircuit(2, 2)\n",
    "rotateyz90.ry(np.pi/4, 0)\n",
    "rotateyz90.h(0)\n",
    "rotation_circuits.append(rotateyz90)\n",
    "\n",
    "rotatexy60 = QuantumCircuit(2, 2)\n",
    "rotatexy60.ry(np.pi/4, 0)\n",
    "rotatexy60.h(0)\n",
    "rotatexy60.h(1)\n",
    "rotation_circuits.append(rotatexy60)\n",
    "\n",
    "rotation_circuits[0].draw()"
   ]
  },
  {
   "cell_type": "code",
   "execution_count": 7,
   "id": "9b1f9e5e",
   "metadata": {},
   "outputs": [
    {
     "data": {
      "text/html": [
       "<pre style=\"word-wrap: normal;white-space: pre;background: #fff0;line-height: 1.1;font-family: &quot;Courier New&quot;,Courier,monospace\">      ░ ┌─┐   \n",
       "q_0: ─░─┤M├───\n",
       "      ░ └╥┘┌─┐\n",
       "q_1: ─░──╫─┤M├\n",
       "      ░  ║ └╥┘\n",
       "c: 2/════╩══╩═\n",
       "         0  1 </pre>"
      ],
      "text/plain": [
       "      ░ ┌─┐   \n",
       "q_0: ─░─┤M├───\n",
       "      ░ └╥┘┌─┐\n",
       "q_1: ─░──╫─┤M├\n",
       "      ░  ║ └╥┘\n",
       "c: 2/════╩══╩═\n",
       "         0  1 "
      ]
     },
     "execution_count": 7,
     "metadata": {},
     "output_type": "execute_result"
    }
   ],
   "source": [
    "meas = QuantumCircuit(2, 2)\n",
    "meas.barrier(range(2))\n",
    "#add z measurement\n",
    "meas.measure(range(2), range(2))\n",
    "meas.draw()\n",
    "\n",
    "# The Qiskit circuit object supports composition using\n",
    "# the addition operator.\n",
    "# print(meas.cregs[0])\n",
    "# qc = circ.compose(meas)\n",
    "\n",
    "#drawing the circuit\n",
    "#qc.draw()"
   ]
  },
  {
   "cell_type": "code",
   "execution_count": 8,
   "id": "95588f1d",
   "metadata": {},
   "outputs": [
    {
     "name": "stderr",
     "output_type": "stream",
     "text": [
      "C:\\Users\\ahoyt\\AppData\\Local\\Temp\\ipykernel_18572\\709763331.py:8: DeprecationWarning: The QuantumCircuit.__add__() method is being deprecated.Use the compose() method which is more flexible w.r.t circuit register compatibility.\n",
      "  circuit = initialize + rot + meas\n"
     ]
    }
   ],
   "source": [
    "#build circuits\n",
    "quantum_circuits = []\n",
    "for rot in rotation_circuits:\n",
    "#     circuit = QuantumCircuit(2, 2)\n",
    "#     circuit.compose(initialize)\n",
    "#     circuit.compose(rot)\n",
    "#     circuit.compose(meas)\n",
    "    circuit = initialize + rot + meas\n",
    "    quantum_circuits.append(circuit)\n",
    "    circuit.draw()\n",
    "    "
   ]
  },
  {
   "cell_type": "code",
   "execution_count": 17,
   "id": "752f3cf7",
   "metadata": {
    "scrolled": true
   },
   "outputs": [
    {
     "data": {
      "text/html": [
       "<pre style=\"word-wrap: normal;white-space: pre;background: #fff0;line-height: 1.1;font-family: &quot;Courier New&quot;,Courier,monospace\">     ┌───┐     ┌─────────┐┌───┐ ░ ┌─┐   \n",
       "q_0: ┤ H ├──■──┤ Ry(π/4) ├┤ H ├─░─┤M├───\n",
       "     ├───┤┌─┴─┐└──┬───┬──┘└───┘ ░ └╥┘┌─┐\n",
       "q_1: ┤ X ├┤ X ├───┤ H ├─────────░──╫─┤M├\n",
       "     └───┘└───┘   └───┘         ░  ║ └╥┘\n",
       "c: 2/══════════════════════════════╩══╩═\n",
       "                                   0  1 </pre>"
      ],
      "text/plain": [
       "     ┌───┐     ┌─────────┐┌───┐ ░ ┌─┐   \n",
       "q_0: ┤ H ├──■──┤ Ry(π/4) ├┤ H ├─░─┤M├───\n",
       "     ├───┤┌─┴─┐└──┬───┬──┘└───┘ ░ └╥┘┌─┐\n",
       "q_1: ┤ X ├┤ X ├───┤ H ├─────────░──╫─┤M├\n",
       "     └───┘└───┘   └───┘         ░  ║ └╥┘\n",
       "c: 2/══════════════════════════════╩══╩═\n",
       "                                   0  1 "
      ]
     },
     "execution_count": 17,
     "metadata": {},
     "output_type": "execute_result"
    }
   ],
   "source": [
    "quantum_circuits[3].draw()"
   ]
  },
  {
   "cell_type": "markdown",
   "id": "2c8f98b1",
   "metadata": {},
   "source": []
  },
  {
   "cell_type": "code",
   "execution_count": 10,
   "id": "066dc9d8",
   "metadata": {},
   "outputs": [],
   "source": [
    "# Use Aer's qasm_simulator\n",
    "\n",
    "# Execute the circuit on the qasm simulator.\n",
    "# We've set the number of repeats of the circuit\n",
    "# to be 1024, which is the default.\n",
    "job_sim = manila_sim.run(transpile(quantum_circuits, manila_sim), shots=20000)\n",
    "\n",
    "# job_real = quito.run(transpile(quantum_circuits, quito), shots=20000)\n",
    "# job_monitor(job_real)\n",
    "\n",
    "# Grab the results from the job.\n",
    "result_sim = job_sim.result()\n",
    "# result_real = job_real.result()"
   ]
  },
  {
   "cell_type": "code",
   "execution_count": 11,
   "id": "17b03f42",
   "metadata": {
    "scrolled": true
   },
   "outputs": [
    {
     "name": "stdout",
     "output_type": "stream",
     "text": [
      "sim:\n",
      "-2.5439\n",
      "maximum:\n",
      "2.8284271247461903\n"
     ]
    },
    {
     "data": {
      "image/png": "[encoded data removed]",
      "text/plain": [
       "<Figure size 504x360 with 1 Axes>"
      ]
     },
     "execution_count": 11,
     "metadata": {},
     "output_type": "execute_result"
    }
   ],
   "source": [
    "from qiskit.visualization import plot_histogram\n",
    "def calc_chsh(theta_dict):\n",
    "    zz = theta_dict[0]\n",
    "    zx = theta_dict[1]\n",
    "    xz = theta_dict[3]\n",
    "    xx = theta_dict[2]\n",
    "    \n",
    "    no_shots = sum(xx[y] for y in xx)\n",
    "\n",
    "    chsh1 = 0\n",
    "    chsh2 = 0\n",
    "\n",
    "    for element in zz:\n",
    "        parity = (-1)**(int(element[0])+int(element[1]))\n",
    "        chsh1+= parity*zz[element]\n",
    "        chsh2+= parity*zz[element]\n",
    "\n",
    "    for element in zx:\n",
    "        parity = (-1)**(int(element[0])+int(element[1]))\n",
    "        chsh1+= parity*zx[element]\n",
    "        chsh2-= parity*zx[element]\n",
    "\n",
    "    for element in xz:\n",
    "        parity = (-1)**(int(element[0])+int(element[1]))\n",
    "        chsh1-= parity*xz[element]\n",
    "        chsh2+= parity*xz[element]\n",
    "\n",
    "    for element in xx:\n",
    "        parity = (-1)**(int(element[0])+int(element[1]))\n",
    "        chsh1+= parity*xx[element]\n",
    "        chsh2+= parity*xx[element]\n",
    "    \n",
    "    return chsh1 / no_shots\n",
    "\n",
    "\n",
    "print(\"sim:\")\n",
    "print(calc_chsh(result_sim.get_counts()))\n",
    "# print(\"real:\")\n",
    "# print(calc_chsh(result_real.get_counts()))\n",
    "print(\"maximum:\")\n",
    "print(2*np.sqrt(2))\n",
    "plot_histogram(result_sim.get_counts()[2:3])"
   ]
  },
  {
   "cell_type": "code",
   "execution_count": 12,
   "id": "4dec3251",
   "metadata": {},
   "outputs": [
    {
     "data": {
      "text/html": [
       "<h3>Version Information</h3><table><tr><th>Qiskit Software</th><th>Version</th></tr><tr><td><code>qiskit-terra</code></td><td>0.21.1</td></tr><tr><td><code>qiskit-aer</code></td><td>0.10.4</td></tr><tr><td><code>qiskit-ibmq-provider</code></td><td>0.19.2</td></tr><tr><td><code>qiskit</code></td><td>0.37.1</td></tr><tr><th>System information</th></tr><tr><td>Python version</td><td>3.8.10</td></tr><tr><td>Python compiler</td><td>MSC v.1916 64 bit (AMD64)</td></tr><tr><td>Python build</td><td>default, May 19 2021 13:12:57</td></tr><tr><td>OS</td><td>Windows</td></tr><tr><td>CPUs</td><td>4</td></tr><tr><td>Memory (Gb)</td><td>15.823139190673828</td></tr><tr><td colspan='2'>Tue Sep 06 10:11:47 2022 Pacific Daylight Time</td></tr></table>"
      ],
      "text/plain": [
       "<IPython.core.display.HTML object>"
      ]
     },
     "metadata": {},
     "output_type": "display_data"
    }
   ],
   "source": [
    "import qiskit.tools.jupyter\n",
    "%qiskit_version_table\n"
   ]
  },
  {
   "cell_type": "code",
   "execution_count": null,
   "id": "1d2d4705",
   "metadata": {},
   "outputs": [],
   "source": []
  }
 ],
 "metadata": {
  "kernelspec": {
   "display_name": "Python 3 (ipykernel)",
   "language": "python",
   "name": "python3"
  },
  "language_info": {
   "codemirror_mode": {
    "name": "ipython",
    "version": 3
   },
   "file_extension": ".py",
   "mimetype": "text/x-python",
   "name": "python",
   "nbconvert_exporter": "python",
   "pygments_lexer": "ipython3",
   "version": "3.8.10"
  }
 },
 "nbformat": 4,
 "nbformat_minor": 5
}
