{
 "cells": [
  {
   "cell_type": "code",
   "execution_count": 1,
   "id": "1ff560b1",
   "metadata": {},
   "outputs": [
    {
     "name": "stderr",
     "output_type": "stream",
     "text": [
      "C:\\Users\\ahoyt\\AppData\\Local\\Temp\\ipykernel_16440\\1523784158.py:1: DeprecationWarning: The qiskit.ignis package is deprecated and has been supersceded by the qiskit-experiments project. Refer to the migration guide: https://github.com/Qiskit/qiskit-ignis#migration-guide on how to migrate to the new project.\n",
      "  from qiskit.ignis.mitigation.measurement import complete_meas_cal, CompleteMeasFitter, TensoredMeasFitter, tensored_meas_cal\n"
     ]
    }
   ],
   "source": [
    "from qiskit.ignis.mitigation.measurement import complete_meas_cal, CompleteMeasFitter, TensoredMeasFitter, tensored_meas_cal\n",
    "import numpy as np\n",
    "from qiskit.visualization import array_to_latex\n",
    "from qiskit.visualization import plot_histogram"
   ]
  },
  {
   "cell_type": "code",
   "execution_count": 2,
   "id": "0b0b0f1e",
   "metadata": {},
   "outputs": [
    {
     "name": "stdout",
     "output_type": "stream",
     "text": [
      "0.22.3\n"
     ]
    }
   ],
   "source": [
    "import qiskit\n",
    "from qiskit import IBMQ\n",
    "print (qiskit.__version__)\n",
    "# Load IBM Account\n",
    "IBMQ.load_account()\n",
    "provider = IBMQ.get_provider('ibm-q')"
   ]
  },
  {
   "cell_type": "code",
   "execution_count": 3,
   "id": "2f7fe19f",
   "metadata": {},
   "outputs": [],
   "source": [
    "from qiskit.providers.aer import AerSimulator\n",
    "ibm_real = provider.get_backend('ibmq_manila')\n",
    "ibm_sim = AerSimulator.from_backend(ibm_real)"
   ]
  },
  {
   "cell_type": "code",
   "execution_count": 4,
   "id": "6e52eab1",
   "metadata": {},
   "outputs": [],
   "source": [
    "from qiskit import transpile\n",
    "from qiskit.circuit import ClassicalRegister, QuantumCircuit, QuantumRegister\n",
    "cregister = ClassicalRegister(5, 'c')\n",
    "qregister = QuantumRegister(5, 'q')"
   ]
  },
  {
   "cell_type": "code",
   "execution_count": 5,
   "id": "4b2a2d3a",
   "metadata": {},
   "outputs": [
    {
     "data": {
      "text/plain": [
       "<qiskit.circuit.instructionset.InstructionSet at 0x218777cb850>"
      ]
     },
     "execution_count": 5,
     "metadata": {},
     "output_type": "execute_result"
    }
   ],
   "source": [
    "initial_epr = QuantumCircuit(qregister, cregister)\n",
    "\n",
    "initial_epr.h(1)\n",
    "initial_epr.cx(1, 2)\n",
    "initial_epr.h(3)\n",
    "initial_epr.cx(3, 4)"
   ]
  },
  {
   "cell_type": "code",
   "execution_count": 6,
   "id": "7ea72639",
   "metadata": {},
   "outputs": [
    {
     "data": {
      "text/plain": [
       "<qiskit.circuit.instructionset.InstructionSet at 0x218777cbdc0>"
      ]
     },
     "execution_count": 6,
     "metadata": {},
     "output_type": "execute_result"
    }
   ],
   "source": [
    "bell_state_measurement = QuantumCircuit(qregister, cregister)\n",
    "\n",
    "bell_state_measurement.cx(2, 3)\n",
    "bell_state_measurement.h(2)\n",
    "# bell_state_measurement.barrier((1, 2))\n",
    "# bell_state_measurement.measure((1 , 2), (1, 2))\n",
    "\n",
    "#bell_state_measurement.x(4).c_if(3, 1)\n",
    "#bell_state_measurement.z(4).c_if(2, 1) # Implement if c_if is possible\n",
    "\n",
    "# bell_state_measurement.cx(2, 3)\n",
    "# bell_state_measurement.cz(1, 3) # Implement if c_if is not possible\n",
    "bell_state_measurement.barrier(range(5))"
   ]
  },
  {
   "cell_type": "code",
   "execution_count": 7,
   "id": "9369aa30",
   "metadata": {},
   "outputs": [],
   "source": [
    "chsh3test = []"
   ]
  },
  {
   "cell_type": "code",
   "execution_count": 8,
   "id": "9262f01e",
   "metadata": {},
   "outputs": [],
   "source": [
    "rotate_az_cDzx = QuantumCircuit(qregister, cregister)\n",
    "rotate_az_cDzx.ry(-np.pi/4, 4)\n",
    "chsh3test.append(rotate_az_cDzx)\n",
    "\n",
    "rotate_az_cEzx = QuantumCircuit(qregister, cregister)\n",
    "rotate_az_cEzx.ry(np.pi/4, 4)\n",
    "chsh3test.append(rotate_az_cEzx)\n",
    "\n",
    "rotate_ax_cDzx = QuantumCircuit(qregister, cregister)\n",
    "rotate_ax_cDzx.ry(-np.pi/2, 1)\n",
    "rotate_ax_cDzx.ry(-np.pi/4, 4)\n",
    "chsh3test.append(rotate_ax_cDzx)\n",
    "\n",
    "rotate_ax_cEzx = QuantumCircuit(qregister, cregister)\n",
    "rotate_ax_cEzx.ry(-np.pi/2, 1)\n",
    "rotate_ax_cEzx.ry(np.pi/4, 4)\n",
    "chsh3test.append(rotate_ax_cEzx)"
   ]
  },
  {
   "cell_type": "code",
   "execution_count": 9,
   "id": "5b1dd357",
   "metadata": {},
   "outputs": [],
   "source": [
    "rotate_az_cDzy = QuantumCircuit(qregister, cregister)\n",
    "rotate_az_cDzy.rx(np.pi/4, 4)\n",
    "chsh3test.append(rotate_az_cDzy)\n",
    "\n",
    "rotate_az_cEzy = QuantumCircuit(qregister, cregister)\n",
    "rotate_az_cEzy.rx(-np.pi/4, 4)\n",
    "chsh3test.append(rotate_az_cEzy)\n",
    "\n",
    "rotate_ay_cDzy = QuantumCircuit(qregister, cregister)\n",
    "rotate_ay_cDzy.rx(np.pi/2, 1)\n",
    "rotate_ay_cDzy.rx(np.pi/4, 4)\n",
    "chsh3test.append(rotate_ay_cDzy)\n",
    "\n",
    "rotate_ay_cEzy = QuantumCircuit(qregister, cregister)\n",
    "rotate_ay_cEzy.rx(np.pi/2, 1)\n",
    "rotate_ay_cEzy.rx(-np.pi/4, 4)\n",
    "chsh3test.append(rotate_ay_cEzy)"
   ]
  },
  {
   "cell_type": "code",
   "execution_count": 10,
   "id": "95c1ac12",
   "metadata": {},
   "outputs": [],
   "source": [
    "rotate_ax_cDxy = QuantumCircuit(qregister, cregister)\n",
    "rotate_ax_cDxy.ry(-np.pi/2, 1)\n",
    "rotate_ax_cDxy.rz(-np.pi/4, 4)\n",
    "rotate_ax_cDxy.ry(-np.pi/2, 4)\n",
    "chsh3test.append(rotate_ax_cDxy)\n",
    "\n",
    "rotate_ax_cExy = QuantumCircuit(qregister, cregister)\n",
    "rotate_ax_cExy.ry(-np.pi/2, 1)\n",
    "rotate_ax_cExy.rz(np.pi/4, 4)\n",
    "rotate_ax_cExy.ry(-np.pi/2, 4)\n",
    "chsh3test.append(rotate_ax_cExy)\n",
    "\n",
    "rotate_ay_cDxy = QuantumCircuit(qregister, cregister)\n",
    "rotate_ay_cDxy.rx(np.pi/2, 1)\n",
    "rotate_ay_cDxy.rz(-np.pi/4, 4)\n",
    "rotate_ay_cDxy.ry(-np.pi/2, 4)\n",
    "chsh3test.append(rotate_ay_cDxy)\n",
    "\n",
    "rotate_ay_cExy = QuantumCircuit(qregister, cregister)\n",
    "rotate_ay_cExy.rx(np.pi/2, 1)\n",
    "rotate_ay_cExy.rz(np.pi/4, 4)\n",
    "rotate_ay_cExy.ry(-np.pi/2, 4)\n",
    "chsh3test.append(rotate_ay_cExy)"
   ]
  },
  {
   "cell_type": "code",
   "execution_count": 11,
   "id": "9b51bd8b",
   "metadata": {},
   "outputs": [
    {
     "data": {
      "text/plain": [
       "<qiskit.circuit.instructionset.InstructionSet at 0x2187787b5b0>"
      ]
     },
     "execution_count": 11,
     "metadata": {},
     "output_type": "execute_result"
    }
   ],
   "source": [
    "measurement = QuantumCircuit(qregister, cregister)\n",
    "measurement.barrier(range(5))\n",
    "measurement.measure((1, 2, 3, 4), (1, 2, 3, 4))"
   ]
  },
  {
   "cell_type": "code",
   "execution_count": 12,
   "id": "6cf346c6",
   "metadata": {},
   "outputs": [],
   "source": [
    "chsh3testlen = len(chsh3test)\n",
    "circuit_experiments = []\n",
    "for rotation in chsh3test:\n",
    "    circuit = QuantumCircuit(qregister, cregister)\n",
    "    circuit.compose(initial_epr, inplace=True)\n",
    "    circuit.compose(bell_state_measurement, inplace=True)\n",
    "    circuit.compose(rotation, inplace=True)\n",
    "    circuit.compose(measurement, inplace=True)\n",
    "    circuit_experiments.append(circuit)"
   ]
  },
  {
   "cell_type": "code",
   "execution_count": 13,
   "id": "1ecd4d4c",
   "metadata": {},
   "outputs": [
    {
     "data": {
      "image/png": "[encoded data removed]",
      "text/plain": [
       "<Figure size 808.997x385.28 with 1 Axes>"
      ]
     },
     "execution_count": 13,
     "metadata": {},
     "output_type": "execute_result"
    }
   ],
   "source": [
    "circuit_experiments[-1].draw('mpl')"
   ]
  },
  {
   "cell_type": "code",
   "execution_count": 14,
   "id": "6b5860fe",
   "metadata": {},
   "outputs": [
    {
     "name": "stdout",
     "output_type": "stream",
     "text": [
      "32\n",
      "2\n"
     ]
    }
   ],
   "source": [
    "readoutmitlength = 0\n",
    "qregistermit = QuantumRegister(5, 'c')\n",
    "mit_pattern = [[0], [1], [2], [3], [4]]\n",
    "meas_calibs, state_labels = tensored_meas_cal(mit_pattern = mit_pattern, qr=qregistermit, circlabel='mcal')\n",
    "readoutmitlength = len(meas_calibs)\n",
    "\n",
    "# print(meas_calibs)\n",
    "meas_calibscorr, state_labelscorr = complete_meas_cal(qr=qregistermit, circlabel='ccal')\n",
    "    \n",
    "for circ in meas_calibs:\n",
    "    circuit_experiments.append(circ)\n",
    "    \n",
    "for circ in meas_calibscorr:\n",
    "    circuit_experiments.append(circ)\n",
    "\n",
    "print(len(meas_calibscorr))\n",
    "print(len(meas_calibs))"
   ]
  },
  {
   "cell_type": "code",
   "execution_count": 15,
   "id": "71f9a741",
   "metadata": {},
   "outputs": [
    {
     "data": {
      "image/png": "[encoded data removed]",
      "text/plain": [
       "<Figure size 506.267x385.28 with 1 Axes>"
      ]
     },
     "execution_count": 15,
     "metadata": {},
     "output_type": "execute_result"
    }
   ],
   "source": [
    "circuit_experiments[-1].draw('mpl')"
   ]
  },
  {
   "cell_type": "code",
   "execution_count": 16,
   "id": "a818abae",
   "metadata": {},
   "outputs": [],
   "source": [
    "from qiskit_experiments.library import LocalReadoutError"
   ]
  },
  {
   "cell_type": "code",
   "execution_count": 17,
   "id": "c7aa2bc4",
   "metadata": {},
   "outputs": [],
   "source": [
    "qubits = [0,1,2,3,4]\n",
    "num_qubits = len(qubits)\n",
    "exp = LocalReadoutError(qubits)\n",
    "exp.analysis.set_options(plot=True)\n",
    "result = exp.run(ibm_sim)\n",
    "mitigator = result.analysis_results(0).value"
   ]
  },
  {
   "cell_type": "code",
   "execution_count": 18,
   "id": "70b9bade",
   "metadata": {},
   "outputs": [
    {
     "data": {
      "image/png": "[encoded data removed]",
      "text/plain": [
       "<qiskit_experiments.framework.experiment_data.FigureData at 0x2189071bd60>"
      ]
     },
     "execution_count": 18,
     "metadata": {},
     "output_type": "execute_result"
    }
   ],
   "source": [
    "result.figure(0)"
   ]
  },
  {
   "cell_type": "code",
   "execution_count": 19,
   "id": "7fd8056a",
   "metadata": {},
   "outputs": [
    {
     "name": "stderr",
     "output_type": "stream",
     "text": [
      "ibmqfactory.load_account:WARNING:2023-01-11 10:49:49,153: Credentials are already in use. The existing account in the session will be replaced.\n"
     ]
    }
   ],
   "source": [
    "IBMQ.load_account()\n",
    "provider = IBMQ.get_provider('ibm-q')\n",
    "ibm_real = provider.get_backend('ibmq_manila')"
   ]
  },
  {
   "cell_type": "code",
   "execution_count": 20,
   "id": "2afeeb0e",
   "metadata": {},
   "outputs": [],
   "source": [
    "transpiled_circuit_exp = transpile(circuit_experiments, ibm_real)\n",
    "ibm_sim_job = ibm_real.run(transpiled_circuit_exp, shots=20000)"
   ]
  },
  {
   "cell_type": "code",
   "execution_count": 21,
   "id": "f03e93f2",
   "metadata": {},
   "outputs": [],
   "source": [
    "import copy\n",
    "chsh3testlen = len(chsh3test)\n",
    "ibm_sim_result = ibm_sim_job.result()\n",
    "ibm_sim_chsh3 = copy.deepcopy(ibm_sim_result)\n",
    "ibm_sim_chsh3.results = ibm_sim_chsh3.results[0: chsh3testlen]\n",
    "\n",
    "ibm_sim_meascalib = copy.deepcopy(ibm_sim_result)\n",
    "ibm_sim_meascalib.results = ibm_sim_meascalib.results[chsh3testlen: chsh3testlen + readoutmitlength]\n",
    "\n",
    "ibm_sim_meascalibcorr = copy.deepcopy(ibm_sim_result)\n",
    "ibm_sim_meascalibcorr.results = ibm_sim_meascalibcorr.results[chsh3testlen + readoutmitlength: -1]"
   ]
  },
  {
   "cell_type": "code",
   "execution_count": 22,
   "id": "12145085",
   "metadata": {},
   "outputs": [
    {
     "name": "stdout",
     "output_type": "stream",
     "text": [
      "2\n"
     ]
    }
   ],
   "source": [
    "print(readoutmitlength)\n",
    "# print(ibm_sim_meascalibcorr.get_counts()[31])"
   ]
  },
  {
   "cell_type": "code",
   "execution_count": 23,
   "id": "09fe0856",
   "metadata": {},
   "outputs": [
    {
     "data": {
      "text/latex": [
       "$$\n",
       "\n",
       "\\begin{bmatrix}\n",
       "0.9292 & 0.0518 & 0.0267 & 0.0021 & \\cdots & 0 & 0 & 0  \\\\\n",
       " 0.00915 & 0.90995 & 0.00035 & 0.0254 & \\cdots & 0.00015 & 0 & 0  \\\\\n",
       " 0.02225 & 0.00125 & 0.9426 & 0.05185 & \\cdots & 0 & 0.00005 & 0  \\\\\n",
       " 0.0003 & 0.01225 & 0.00875 & 0.89745 & \\cdots & 0 & 0 & 0  \\\\\n",
       " \\vdots & \\vdots & \\vdots & \\vdots & \\ddots & \\vdots & \\vdots & \\vdots \\\\\n",
       " 0 & 0 & 0 & 0 & \\cdots & 0.812 & 0.00025 & 0  \\\\\n",
       " 0 & 0 & 0 & 0 & \\cdots & 0.00105 & 0.84465 & 0  \\\\\n",
       " 0 & 0 & 0 & 0 & \\cdots & 0.01415 & 0.00825 & 0  \\\\\n",
       " \\end{bmatrix}\n",
       "$$"
      ],
      "text/plain": [
       "<IPython.core.display.Latex object>"
      ]
     },
     "execution_count": 23,
     "metadata": {},
     "output_type": "execute_result"
    }
   ],
   "source": [
    "ibm_sim_meas_fittercorr = CompleteMeasFitter(ibm_sim_meascalibcorr, state_labelscorr, circlabel='ccal')\n",
    "ibm_sim_meas_filtercorr = ibm_sim_meas_fittercorr.filter\n",
    "ibm_sim_chsh3_mitigatedcorr = ibm_sim_meas_filtercorr.apply(ibm_sim_chsh3)\n",
    "array_to_latex(ibm_sim_meas_filtercorr.cal_matrix)"
   ]
  },
  {
   "cell_type": "code",
   "execution_count": 24,
   "id": "a57fb68a",
   "metadata": {},
   "outputs": [
    {
     "name": "stdout",
     "output_type": "stream",
     "text": [
      "[array([[0.99225, 0.05635],\n",
      "       [0.00775, 0.94365]]), array([[0.97995, 0.02495],\n",
      "       [0.02005, 0.97505]]), array([[0.99045, 0.0329 ],\n",
      "       [0.00955, 0.9671 ]]), array([[0.9846 , 0.04405],\n",
      "       [0.0154 , 0.95595]]), array([[0.99125, 0.0557 ],\n",
      "       [0.00875, 0.9443 ]])]\n"
     ]
    }
   ],
   "source": [
    "# # Tensored Fitter\n",
    "# print(np.flip([[0], [1], [2], [3], [4]]))\n",
    "ibm_sim_meas_fitter = TensoredMeasFitter(ibm_sim_meascalib, mit_pattern=mit_pattern)\n",
    "ibm_sim_meas_filter = ibm_sim_meas_fitter.filter\n",
    "ibm_sim_chsh3_mitigated = ibm_sim_meas_filter.apply(ibm_sim_chsh3)\n",
    "# array_to_latex(ibm_sim_meas_filter.cal_matrix)\n",
    "print(ibm_sim_meas_fitter.cal_matrices)"
   ]
  },
  {
   "cell_type": "code",
   "execution_count": 25,
   "id": "32317d6e",
   "metadata": {},
   "outputs": [
    {
     "name": "stdout",
     "output_type": "stream",
     "text": [
      "{'00000': 1931, '10000': 678, '10010': 1867, '10100': 611, '10110': 1826, '11000': 1973, '11010': 600, '11100': 1746, '11110': 551, '00010': 716, '00100': 1821, '00110': 605, '01000': 543, '01010': 1974, '01100': 628, '01110': 1930}\n"
     ]
    }
   ],
   "source": [
    "print(ibm_sim_chsh3.get_counts()[0])"
   ]
  },
  {
   "cell_type": "code",
   "execution_count": 26,
   "id": "10e83b5b",
   "metadata": {},
   "outputs": [
    {
     "data": {
      "image/png": "[encoded data removed]",
      "text/plain": [
       "<Figure size 504x360 with 1 Axes>"
      ]
     },
     "execution_count": 26,
     "metadata": {},
     "output_type": "execute_result"
    }
   ],
   "source": [
    "plot_histogram([ibm_sim_chsh3.get_counts()[0], ibm_sim_chsh3_mitigated.get_counts()[0]], legend=['raw', 'mitigated'])"
   ]
  },
  {
   "cell_type": "code",
   "execution_count": 27,
   "id": "920f4e2e",
   "metadata": {},
   "outputs": [],
   "source": [
    "# unmitigated_probs = {label: count for label, count in ibm_sim_chsh3.get_counts()[11].items()}"
   ]
  },
  {
   "cell_type": "code",
   "execution_count": 28,
   "id": "eba351f2",
   "metadata": {},
   "outputs": [],
   "source": [
    "# mitigated_quasi_probs = mitigator.quasi_probabilities(ibm_sim_chsh3.get_counts()[11])\n",
    "# mitigated_stddev = mitigated_quasi_probs._stddev_upper_bound\n",
    "# mitigated_probs = (mitigated_quasi_probs.nearest_probability_distribution().binary_probabilities())\n",
    "# print(mitigated_probs)"
   ]
  },
  {
   "cell_type": "code",
   "execution_count": 29,
   "id": "74648bec",
   "metadata": {},
   "outputs": [],
   "source": [
    "# legend = ['Mitigated Probabilities', 'Unmitigated Probabilities', \"Correlated Mit\"]\n",
    "# plot_histogram([mitigated_probs, unmitigated_probs, ibm_sim_chsh3_mitigated.get_counts()[11]], legend=legend, sort=\"value_desc\", bar_labels=False)"
   ]
  },
  {
   "cell_type": "code",
   "execution_count": 30,
   "id": "d37035a2",
   "metadata": {},
   "outputs": [],
   "source": [
    "def calc_chsh1(theta_dict):\n",
    "    zz = theta_dict[0]\n",
    "    zx = theta_dict[1]\n",
    "    xz = theta_dict[3]\n",
    "    xx = theta_dict[2]\n",
    "    \n",
    "    no_shots = sum(xx[y] for y in xx)\n",
    "\n",
    "    chsh = 0\n",
    "    totalOO = 0\n",
    "\n",
    "    for element in zz:\n",
    "        if (int(element[1]) == 0 and int(element[2]) == 0):\n",
    "            totalOO += zz[element]\n",
    "            parity = (-1)**(int(element[0])+int(element[3]))\n",
    "            chsh += parity*zz[element]\n",
    "        \n",
    "    for element in zx:\n",
    "        if (int(element[1]) == 0 and int(element[2]) == 0):\n",
    "            totalOO += zx[element]\n",
    "            parity = (-1)**(int(element[0])+int(element[3]))\n",
    "            chsh += parity*zx[element]\n",
    "\n",
    "    for element in xz:\n",
    "        if (int(element[1]) == 0 and int(element[2]) == 0):\n",
    "            totalOO += xz[element]\n",
    "            parity = (-1)**(int(element[0])+int(element[3]))\n",
    "            chsh -= parity*xz[element]\n",
    "\n",
    "    for element in xx:\n",
    "        if (int(element[1]) == 0 and int(element[2]) == 0):\n",
    "            totalOO += xx[element]\n",
    "            parity = (-1)**(int(element[0])+int(element[3]))\n",
    "            chsh += parity*xx[element]\n",
    "    \n",
    "    return 4*chsh / totalOO"
   ]
  },
  {
   "cell_type": "code",
   "execution_count": 31,
   "id": "7a052463",
   "metadata": {},
   "outputs": [],
   "source": [
    "def calc_chsh23(theta_dict):\n",
    "    zz = theta_dict[0]\n",
    "    zx = theta_dict[1]\n",
    "    xz = theta_dict[2]\n",
    "    xx = theta_dict[3]\n",
    "    \n",
    "    no_shots = sum(xx[y] for y in xx)\n",
    "\n",
    "    chsh = 0\n",
    "    totalOO = 0\n",
    "\n",
    "    for element in zz:\n",
    "        if (int(element[1]) == 0 and int(element[2]) == 0):\n",
    "            totalOO += zz[element]\n",
    "            parity = (-1)**(int(element[0])+int(element[3]))\n",
    "            chsh += parity*zz[element]\n",
    "\n",
    "    for element in zx:\n",
    "        if (int(element[1]) == 0 and int(element[2]) == 0):\n",
    "            totalOO += zx[element]\n",
    "            parity = (-1)**(int(element[0])+int(element[3]))\n",
    "            chsh += parity*zx[element]\n",
    "\n",
    "    for element in xz:\n",
    "        if (int(element[1]) == 0 and int(element[2]) == 0):\n",
    "            totalOO += xz[element]\n",
    "            parity = (-1)**(int(element[0])+int(element[3]))\n",
    "            chsh -= parity*xz[element]\n",
    "\n",
    "    for element in xx:\n",
    "        if (int(element[1]) == 0 and int(element[2]) == 0):\n",
    "            totalOO += xx[element]\n",
    "            parity = (-1)**(int(element[0])+int(element[3]))\n",
    "            chsh += parity*xx[element]\n",
    "    \n",
    "    return 4*chsh / totalOO"
   ]
  },
  {
   "cell_type": "code",
   "execution_count": 32,
   "id": "ec3f9fbe",
   "metadata": {},
   "outputs": [],
   "source": [
    "def calc_chsh23std(theta_dict):\n",
    "    zz = theta_dict[0]\n",
    "    zx = theta_dict[1]\n",
    "    xz = theta_dict[2]\n",
    "    xx = theta_dict[3]\n",
    "    \n",
    "    no_shots = sum(xx[y] for y in xx)\n",
    "\n",
    "    chsh = 0\n",
    "    totalOO = 0\n",
    "    zznumneg = 0\n",
    "    zznumpos = 0\n",
    "    zztot = 0\n",
    "    zxnumneg = 0\n",
    "    zxnumpos = 0\n",
    "    zxtot = 0\n",
    "    xznumneg = 0\n",
    "    xznumpos = 0\n",
    "    xztot = 0\n",
    "    xxnumneg = 0\n",
    "    xxnumpos = 0\n",
    "    xxtot = 0\n",
    "\n",
    "    for element in zz:\n",
    "        if (int(element[1]) == 0 and int(element[2]) == 0):\n",
    "            totalOO += zz[element]\n",
    "            parity = (-1)**(int(element[0])+int(element[3]))\n",
    "            chsh += parity*zz[element]\n",
    "            zznumneg += zz[element] if parity == -1 else 0\n",
    "            zznumpos += zz[element] if parity == 1 else 0\n",
    "            zztot += zz[element]\n",
    "\n",
    "    for element in zx:\n",
    "        if (int(element[1]) == 0 and int(element[2]) == 0):\n",
    "            totalOO += zx[element]\n",
    "            parity = (-1)**(int(element[0])+int(element[3]))\n",
    "            chsh += parity*zx[element]\n",
    "            zxnumneg += zx[element] if parity == -1 else 0\n",
    "            zxnumpos += zx[element] if parity == 1 else 0\n",
    "            zxtot += zx[element]\n",
    "\n",
    "    for element in xz:\n",
    "        if (int(element[1]) == 0 and int(element[2]) == 0):\n",
    "            totalOO += xz[element]\n",
    "            parity = (-1)**(int(element[0])+int(element[3]))\n",
    "            chsh -= parity*xz[element]\n",
    "            xznumneg += xz[element] if parity == -1 else 0\n",
    "            xznumpos += xz[element] if parity == 1 else 0\n",
    "            xztot += xz[element]\n",
    "\n",
    "    for element in xx:\n",
    "        if (int(element[1]) == 0 and int(element[2]) == 0):\n",
    "            totalOO += xx[element]\n",
    "            parity = (-1)**(int(element[0])+int(element[3]))\n",
    "            chsh += parity*xx[element]\n",
    "            xxnumneg += xx[element] if parity == -1 else 0\n",
    "            xxnumpos += xx[element] if parity == 1 else 0\n",
    "            xxtot += xx[element]\n",
    "            \n",
    "    zzdata = np.concatenate((np.ones(int(zznumpos)), -np.ones(int(zznumneg))))\n",
    "    zzdatastd = np.std(zzdata) / np.sqrt(len(zzdata))\n",
    "    zxdata = np.concatenate((np.ones(int(zxnumpos)), -np.ones(int(zxnumneg))))\n",
    "    zxdatastd = np.std(zxdata) / np.sqrt(len(zzdata))\n",
    "    xzdata = -np.concatenate((np.ones(int(xznumpos)), -np.ones(int(xznumneg))))\n",
    "    xzdatastd = np.std(xzdata) / np.sqrt(len(zzdata))\n",
    "    xxdata = np.concatenate((np.ones(int(xxnumpos)), -np.ones(int(xxnumneg))))\n",
    "    xxdatastd = np.std(xzdata) / np.sqrt(len(zzdata))\n",
    "    \n",
    "    \n",
    "    chshdata = np.concatenate((zzdata, zxdata, xzdata, xxdata))\n",
    "    \n",
    "    return np.sqrt(zzdatastd**2 + zxdatastd**2 + xzdatastd**2 + xxdatastd**2)"
   ]
  },
  {
   "cell_type": "code",
   "execution_count": 33,
   "id": "5c899131",
   "metadata": {},
   "outputs": [],
   "source": [
    "def calc_chsh1std(theta_dict):\n",
    "    zz = theta_dict[0]\n",
    "    zx = theta_dict[1]\n",
    "    xz = theta_dict[3]\n",
    "    xx = theta_dict[2]\n",
    "    \n",
    "    no_shots = sum(xx[y] for y in xx)\n",
    "\n",
    "    chsh = 0\n",
    "    totalOO = 0\n",
    "    zznumneg = 0\n",
    "    zznumpos = 0\n",
    "    zztot = 0\n",
    "    zxnumneg = 0\n",
    "    zxnumpos = 0\n",
    "    zxtot = 0\n",
    "    xznumneg = 0\n",
    "    xznumpos = 0\n",
    "    xztot = 0\n",
    "    xxnumneg = 0\n",
    "    xxnumpos = 0\n",
    "    xxtot = 0\n",
    "\n",
    "    for element in zz:\n",
    "        if (int(element[1]) == 0 and int(element[2]) == 0):\n",
    "            totalOO += zz[element]\n",
    "            parity = (-1)**(int(element[0])+int(element[3]))\n",
    "            chsh += parity*zz[element]\n",
    "            zznumneg += zz[element] if parity == -1 else 0\n",
    "            zznumpos += zz[element] if parity == 1 else 0\n",
    "            zztot += zz[element]\n",
    "\n",
    "    for element in zx:\n",
    "        if (int(element[1]) == 0 and int(element[2]) == 0):\n",
    "            totalOO += zx[element]\n",
    "            parity = (-1)**(int(element[0])+int(element[3]))\n",
    "            chsh += parity*zx[element]\n",
    "            zxnumneg += zx[element] if parity == -1 else 0\n",
    "            zxnumpos += zx[element] if parity == 1 else 0\n",
    "            zxtot += zx[element]\n",
    "\n",
    "    for element in xz:\n",
    "        if (int(element[1]) == 0 and int(element[2]) == 0):\n",
    "            totalOO += xz[element]\n",
    "            parity = (-1)**(int(element[0])+int(element[3]))\n",
    "            chsh -= parity*xz[element]\n",
    "            xznumneg += xz[element] if parity == -1 else 0\n",
    "            xznumpos += xz[element] if parity == 1 else 0\n",
    "            xztot += xz[element]\n",
    "\n",
    "    for element in xx:\n",
    "        if (int(element[1]) == 0 and int(element[2]) == 0):\n",
    "            totalOO += xx[element]\n",
    "            parity = (-1)**(int(element[0])+int(element[3]))\n",
    "            chsh += parity*xx[element]\n",
    "            xxnumneg += xx[element] if parity == -1 else 0\n",
    "            xxnumpos += xx[element] if parity == 1 else 0\n",
    "            xxtot += xx[element]\n",
    "            \n",
    "    zzdata = np.concatenate((np.ones(int(zznumpos)), -np.ones(int(zznumneg))))\n",
    "    zzdatastd = np.std(zzdata) / np.sqrt(len(zzdata))\n",
    "    zxdata = np.concatenate((np.ones(int(zxnumpos)), -np.ones(int(zxnumneg))))\n",
    "    zxdatastd = np.std(zxdata) / np.sqrt(len(zzdata))\n",
    "    xzdata = -np.concatenate((np.ones(int(xznumpos)), -np.ones(int(xznumneg))))\n",
    "    xzdatastd = np.std(xzdata) / np.sqrt(len(zzdata))\n",
    "    xxdata = np.concatenate((np.ones(int(xxnumpos)), -np.ones(int(xxnumneg))))\n",
    "    xxdatastd = np.std(xzdata) / np.sqrt(len(zzdata))\n",
    "    \n",
    "    \n",
    "    chshdata = np.concatenate((zzdata, zxdata, xzdata, xxdata))\n",
    "    \n",
    "    return np.sqrt(zzdatastd**2 + zxdatastd**2 + xzdatastd**2 + xxdatastd**2)"
   ]
  },
  {
   "cell_type": "code",
   "execution_count": 34,
   "id": "53ecc5f8",
   "metadata": {},
   "outputs": [],
   "source": [
    "def get_chsh3(circuit_counts):\n",
    "    chsh23 = calc_chsh23(circuit_counts[8:12]) + calc_chsh23(circuit_counts[4:8])\n",
    "    chsh1 = calc_chsh1(circuit_counts[0:4])\n",
    "    return chsh23 + chsh1"
   ]
  },
  {
   "cell_type": "code",
   "execution_count": 35,
   "id": "20446994",
   "metadata": {},
   "outputs": [],
   "source": [
    "def geterror(circuit_counts):\n",
    "    chsh1 = calc_chsh23std(circuit_counts[8:12])\n",
    "    chsh2 = calc_chsh23std(circuit_counts[4:8])\n",
    "    chsh3 = calc_chsh1std(circuit_counts[0:4])\n",
    "    totalstd = np.sqrt(chsh1**2 + chsh2**2 + chsh3**2)\n",
    "    return totalstd"
   ]
  },
  {
   "cell_type": "code",
   "execution_count": 36,
   "id": "5aad9c21",
   "metadata": {},
   "outputs": [
    {
     "name": "stdout",
     "output_type": "stream",
     "text": [
      "0.038488381111795165\n",
      "7.897088558126949\n",
      "7.9865630813977315\n",
      "6.313735901924021\n"
     ]
    }
   ],
   "source": [
    "print(geterror(ibm_sim_chsh3_mitigated.get_counts()))\n",
    "print(get_chsh3(ibm_sim_chsh3_mitigated.get_counts()))\n",
    "print(get_chsh3(ibm_sim_chsh3_mitigatedcorr.get_counts()))\n",
    "print(get_chsh3(ibm_sim_chsh3.get_counts()))"
   ]
  },
  {
   "cell_type": "code",
   "execution_count": 37,
   "id": "72d94490",
   "metadata": {},
   "outputs": [
    {
     "data": {
      "image/png": "[encoded data removed]",
      "text/plain": [
       "<Figure size 504x360 with 1 Axes>"
      ]
     },
     "execution_count": 37,
     "metadata": {},
     "output_type": "execute_result"
    }
   ],
   "source": [
    "plot_histogram(ibm_sim_chsh3_mitigated.get_counts()[-1])"
   ]
  },
  {
   "cell_type": "code",
   "execution_count": null,
   "id": "4460b3b6",
   "metadata": {},
   "outputs": [],
   "source": []
  }
 ],
 "metadata": {
  "kernelspec": {
   "display_name": "Python 3 (ipykernel)",
   "language": "python",
   "name": "python3"
  },
  "language_info": {
   "codemirror_mode": {
    "name": "ipython",
    "version": 3
   },
   "file_extension": ".py",
   "mimetype": "text/x-python",
   "name": "python",
   "nbconvert_exporter": "python",
   "pygments_lexer": "ipython3",
   "version": "3.8.10"
  }
 },
 "nbformat": 4,
 "nbformat_minor": 5
}
